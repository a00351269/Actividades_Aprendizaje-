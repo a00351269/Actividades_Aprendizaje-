{
  "nbformat": 4,
  "nbformat_minor": 0,
  "metadata": {
    "colab": {
      "provenance": [],
      "include_colab_link": true
    },
    "kernelspec": {
      "name": "python3",
      "display_name": "Python 3"
    },
    "language_info": {
      "name": "python"
    }
  },
  "cells": [
    {
      "cell_type": "markdown",
      "metadata": {
        "id": "view-in-github",
        "colab_type": "text"
      },
      "source": [
        "<a href=\"https://colab.research.google.com/github/a00351269/Actividades_Aprendizaje-/blob/main/MNA_NLP_semana_02_Actividad.ipynb\" target=\"_parent\"><img src=\"https://colab.research.google.com/assets/colab-badge.svg\" alt=\"Open In Colab\"/></a>"
      ]
    },
    {
      "cell_type": "markdown",
      "source": [
        "#**Maestría en Inteligencia Artificial Aplicada**\n",
        "##**Curso: Procesamiento de Lenguaje Natural (NLP)**\n",
        "###Tecnológico de Monterrey\n",
        "###Prof Luis Eduardo Falcón Morales\n",
        "\n",
        "## **Actividad de la Semana 02**\n",
        "###**Introducción al procesamiento de texto.**"
      ],
      "metadata": {
        "id": "759SG4TyfbUn"
      }
    },
    {
      "cell_type": "markdown",
      "source": [
        "En esta actividad deberás utilizar los datos del siguiente archivo que se encuentra en Canvas:\n",
        "\n",
        "MNA_NLP_semana_02_Actividad_datos.txt\n",
        "\n",
        "El archivo contiene comentarios en inglés sobre servicios de comida de la página de Yelp: https://www.yelp.com/ . \n",
        "\n",
        "Son mil comentarios y forman parte del conjunto de datos que se encuentra en el Machine Learning Repository de la UCI, llamado \"Sentiment Labelled Sentences\": https://archive.ics.uci.edu/ml/datasets/Sentiment+Labelled+Sentences#\n"
      ],
      "metadata": {
        "id": "6ue1YAKx3XDo"
      }
    },
    {
      "cell_type": "markdown",
      "source": [
        "#**Parte 1. Cargamos los datos.**   "
      ],
      "metadata": {
        "id": "Zj-h4drXD-X9"
      }
    },
    {
      "cell_type": "markdown",
      "source": [
        "Cargar los datos del archivo indicado y obtener una lista de longitud de 1000 strings/comentarios. \n",
        "\n",
        "Por el momento solamente requerimos las bibliotecas de Numpy y re, para el manejo de los arreglos y de las expresiones regulares en Python.\n",
        "\n",
        "En particular, no necesitarás en esta actividad la biblioteca de Pandas.\n",
        "\n",
        "###**NOTA: En esta actividad no debes importar nada más, con estas dos bibliotecas será *suficiente*.**"
      ],
      "metadata": {
        "id": "BY6yifxscfrx"
      }
    },
    {
      "cell_type": "code",
      "source": [
        "import numpy as np    # importamos Numpy para el manejo de los arreglos.\n",
        "import re             # importamos re para el manejo de las expresiones regulares.\n"
      ],
      "metadata": {
        "id": "OJ26dAfhdFnf"
      },
      "execution_count": null,
      "outputs": []
    },
    {
      "cell_type": "code",
      "source": [
        "# Ejecuta las siguientes instrucciones para cargar la información del achivo dado:\n",
        "\n",
        "with open('MNA_NLP_semana_02_Actividad_datos.txt',        # puedes actualizar la ruta a tu archivo, en dado caso.\n",
        "          mode='r',     # abrimos el archivo en modo lectura.\n",
        "          ) as f:\n",
        "    docs = f.readlines()    # separamos cada comentario por líneas\n",
        "\n",
        "f.close()  # ya que tenemos la información en la variable docs, cerramos el archivo"
      ],
      "metadata": {
        "id": "QHUmJyjDdGNP"
      },
      "execution_count": null,
      "outputs": []
    },
    {
      "cell_type": "code",
      "source": [
        "type(docs) == list   # Verifica que tu variable \"docs\" es una lista"
      ],
      "metadata": {
        "id": "L6WzrSrodG-Y",
        "colab": {
          "base_uri": "https://localhost:8080/"
        },
        "outputId": "77ef2f8f-6cc5-49a1-c7ed-a4c116dcedbb"
      },
      "execution_count": null,
      "outputs": [
        {
          "output_type": "execute_result",
          "data": {
            "text/plain": [
              "True"
            ]
          },
          "metadata": {},
          "execution_count": 5
        }
      ]
    },
    {
      "cell_type": "code",
      "source": [
        "len(docs)==1000  # verifica que la longitud de \"docs\" es de mil comentarios."
      ],
      "metadata": {
        "id": "QIK1u9WS2FtS",
        "colab": {
          "base_uri": "https://localhost:8080/"
        },
        "outputId": "38c57e75-6b90-498e-fd13-8a1eac81fe48"
      },
      "execution_count": null,
      "outputs": [
        {
          "output_type": "execute_result",
          "data": {
            "text/plain": [
              "True"
            ]
          },
          "metadata": {},
          "execution_count": 6
        }
      ]
    },
    {
      "cell_type": "code",
      "source": [
        "docs[0:10]     # observa algunos de los primeros comentarios"
      ],
      "metadata": {
        "id": "9AMLIfQvJqNZ",
        "colab": {
          "base_uri": "https://localhost:8080/"
        },
        "outputId": "99e96c63-0a87-44a1-ef53-be350d084e2d"
      },
      "execution_count": null,
      "outputs": [
        {
          "output_type": "execute_result",
          "data": {
            "text/plain": [
              "['Wow... Loved this place.\\n',\n",
              " 'Crust is not good.\\n',\n",
              " 'Not tasty and the texture was just nasty.\\n',\n",
              " 'Stopped by during the late May bank holiday off Rick Steve recommendation and loved it.\\n',\n",
              " 'The selection on the menu was great and so were the prices.\\n',\n",
              " 'Now I am getting angry and I want my damn pho.\\n',\n",
              " \"Honeslty it didn't taste THAT fresh.)\\n\",\n",
              " 'The potatoes were like rubber and you could tell they had been made up ahead of time being kept under a warmer.\\n',\n",
              " 'The fries were great too.\\n',\n",
              " 'A great touch.\\n']"
            ]
          },
          "metadata": {},
          "execution_count": 7
        }
      ]
    },
    {
      "cell_type": "markdown",
      "source": [
        "#**Parte 2: sección de preguntas (regex).**   \n"
      ],
      "metadata": {
        "id": "k_ewoagic5jc"
      }
    },
    {
      "cell_type": "markdown",
      "source": [
        "##**Instrucciones:**\n",
        "\n",
        "###**A continuación deberás contestar cada una de las preguntas que te piden usando expresiones regulares (regex).**\n",
        "\n",
        "###**Por el momento no hay restricción en cuanto al número de líneas de código que agregues, pero trata de incluir las mínimas posibles.**"
      ],
      "metadata": {
        "id": "X-eMJa3DFCIV"
      }
    },
    {
      "cell_type": "markdown",
      "source": [
        "*   **Pregunta 1.** \n",
        "\n",
        "Busca y elimina todos los saltos de línea '\\n' que se encuentran al final de cada comentario. \n",
        "\n",
        "Una vez finalizado, imprime los primeros 10 comentarios del resultado obtenido.\n"
      ],
      "metadata": {
        "id": "78nJMemzn5a5"
      }
    },
    {
      "cell_type": "code",
      "source": [
        "for i in range(len(docs)):\n",
        "  docs[i]= re.sub('\\n','', docs[i])\n"
      ],
      "metadata": {
        "id": "PwbYYIuZn8pE"
      },
      "execution_count": null,
      "outputs": []
    },
    {
      "cell_type": "code",
      "source": [
        "docs [0:10]\n"
      ],
      "metadata": {
        "id": "j-0qeh2Jn8l1",
        "colab": {
          "base_uri": "https://localhost:8080/"
        },
        "outputId": "aae3bb15-c5e2-4fc7-b4d5-dc07021d4df7"
      },
      "execution_count": null,
      "outputs": [
        {
          "output_type": "execute_result",
          "data": {
            "text/plain": [
              "['Wow... Loved this place.',\n",
              " 'Crust is not good.',\n",
              " 'Not tasty and the texture was just nasty.',\n",
              " 'Stopped by during the late May bank holiday off Rick Steve recommendation and loved it.',\n",
              " 'The selection on the menu was great and so were the prices.',\n",
              " 'Now I am getting angry and I want my damn pho.',\n",
              " \"Honeslty it didn't taste THAT fresh.)\",\n",
              " 'The potatoes were like rubber and you could tell they had been made up ahead of time being kept under a warmer.',\n",
              " 'The fries were great too.',\n",
              " 'A great touch.']"
            ]
          },
          "metadata": {},
          "execution_count": 150
        }
      ]
    },
    {
      "cell_type": "markdown",
      "source": [
        "*   **Pregunta 2.**  \n",
        "\n",
        "Busca e imprime todas las palabras que terminan con dos o más signos de admiración seguidos, por ejemplo \"!!!\". \n",
        "\n",
        "Debes imprimir tanto la palabra como la totalidad de signos de admiración que le siguen. \n",
        "\n",
        "Indica cuántos resultados obtuviste.\n",
        "\n"
      ],
      "metadata": {
        "id": "VWeKQC93ctEo"
      }
    },
    {
      "cell_type": "code",
      "source": [
        "searched_items=[]"
      ],
      "metadata": {
        "id": "ynb0SkO-WLBu"
      },
      "execution_count": null,
      "outputs": []
    },
    {
      "cell_type": "code",
      "source": [
        "for i in range(len(docs)):\n",
        "  if re.findall(r\"\\w+\\s?!{2,}\", docs[i]):\n",
        "    searched_items.append(re.findall(r\"\\w+\\s?!{2,}\", docs[i]))"
      ],
      "metadata": {
        "id": "0p3kMXfddICc"
      },
      "execution_count": null,
      "outputs": []
    },
    {
      "cell_type": "code",
      "source": [
        "searched_items"
      ],
      "metadata": {
        "id": "SPVM1MCWdH6Z",
        "colab": {
          "base_uri": "https://localhost:8080/"
        },
        "outputId": "7d5eadef-2485-4a28-822d-614672c1f267"
      },
      "execution_count": null,
      "outputs": [
        {
          "output_type": "execute_result",
          "data": {
            "text/plain": [
              "[['Firehouse!!!!!'],\n",
              " ['APPETIZERS!!!'],\n",
              " ['amazing!!!'],\n",
              " ['buffet!!!'],\n",
              " ['good!!'],\n",
              " ['it!!!!'],\n",
              " ['DELICIOUS!!'],\n",
              " ['amazing!!'],\n",
              " ['shawarrrrrrma!!!!!!'],\n",
              " ['yucky!!!'],\n",
              " ['steak!!!!!'],\n",
              " ['delicious!!!'],\n",
              " ['far!!'],\n",
              " ['biscuits!!!'],\n",
              " ['dry!!'],\n",
              " ['disappointing!!!'],\n",
              " ['gem !!!'],\n",
              " ['awesome!!'],\n",
              " ['Up!!'],\n",
              " ['FLY!!!!!!!!'],\n",
              " ['here!!!'],\n",
              " ['great!!!!!!!!!!!!!!'],\n",
              " ['packed!!'],\n",
              " ['otherwise!!'],\n",
              " ['amazing!!!!!!!!!!!!!!!!!!!'],\n",
              " ['style!!'],\n",
              " ['disappointed!!']]"
            ]
          },
          "metadata": {},
          "execution_count": 12
        }
      ]
    },
    {
      "cell_type": "code",
      "source": [
        "print (\"Se encontraron\",len(searched_items), \"palabras\")"
      ],
      "metadata": {
        "colab": {
          "base_uri": "https://localhost:8080/"
        },
        "id": "pUE82z0lIEWT",
        "outputId": "0c80aa2a-2933-47bd-f132-04ccadd3cfb2"
      },
      "execution_count": null,
      "outputs": [
        {
          "output_type": "stream",
          "name": "stdout",
          "text": [
            "Se encontraron 27 palabras\n"
          ]
        }
      ]
    },
    {
      "cell_type": "markdown",
      "source": [
        "*   **Pregunta 3.**  \n",
        "\n",
        "Busca e imprime todas las palabras que están escritas totalmente en mayúsculas. Cada coincidencia debe ser una sola palabra.\n",
        "\n",
        "Indica cuántas palabras encontraste.\n",
        "\n"
      ],
      "metadata": {
        "id": "-s3okBqL96TT"
      }
    },
    {
      "cell_type": "code",
      "source": [
        "searched_items=[]"
      ],
      "metadata": {
        "id": "yKHJkZKo_nW5"
      },
      "execution_count": null,
      "outputs": []
    },
    {
      "cell_type": "code",
      "source": [
        "for i in range(len(docs)):\n",
        "  if re.findall(r\"\\w+[A-Z]\", docs[i]):\n",
        "    lista = re.findall(r\"\\w+[A-Z]\", docs[i])\n",
        "    for j in range(len(lista)):\n",
        "      searched_items.append(lista[j])"
      ],
      "metadata": {
        "id": "L3q08aq69sNn"
      },
      "execution_count": null,
      "outputs": []
    },
    {
      "cell_type": "code",
      "source": [
        "searched_items"
      ],
      "metadata": {
        "colab": {
          "base_uri": "https://localhost:8080/"
        },
        "id": "W-yKvkVxJdmh",
        "outputId": "a12ec8f6-5f6a-4911-bdb0-40a9fcff6a99"
      },
      "execution_count": null,
      "outputs": [
        {
          "output_type": "execute_result",
          "data": {
            "text/plain": [
              "['THAT',\n",
              " 'APPETIZERS',\n",
              " 'WILL',\n",
              " 'NEVER',\n",
              " 'EVER',\n",
              " 'STEP',\n",
              " 'FORWARD',\n",
              " 'IN',\n",
              " 'IT',\n",
              " 'AGAIN',\n",
              " 'LOVED',\n",
              " 'AND',\n",
              " 'REAL',\n",
              " 'BITCHES',\n",
              " 'NYC',\n",
              " 'STALE',\n",
              " 'DELICIOUS',\n",
              " 'WORST',\n",
              " 'EXPERIENCE',\n",
              " 'EVER',\n",
              " 'ALL',\n",
              " 'BARGAIN',\n",
              " 'TV',\n",
              " 'NONE',\n",
              " 'FREEZING',\n",
              " 'AYCE',\n",
              " 'FLAVOR',\n",
              " 'NEVER',\n",
              " 'BBQ',\n",
              " 'UNREAL',\n",
              " 'OMG',\n",
              " 'BETTER',\n",
              " 'BLAND',\n",
              " 'RUDE',\n",
              " 'INCONSIDERATE',\n",
              " 'MANAGEMENT',\n",
              " 'WILL',\n",
              " 'NEVER',\n",
              " 'EVER',\n",
              " 'GO',\n",
              " 'BACK',\n",
              " 'AND',\n",
              " 'HAVE',\n",
              " 'TOLD',\n",
              " 'MANY',\n",
              " 'PEOPLE',\n",
              " 'WHAT',\n",
              " 'HAD',\n",
              " 'HAPPENED',\n",
              " 'TOTAL',\n",
              " 'WASTE',\n",
              " 'OF',\n",
              " 'TIME',\n",
              " 'FS',\n",
              " 'AZ',\n",
              " 'LOVED',\n",
              " 'CONCLUSION',\n",
              " 'BEST',\n",
              " 'GO',\n",
              " 'NOW',\n",
              " 'GC',\n",
              " 'AVOID',\n",
              " 'THIS',\n",
              " 'ESTABLISHMENT',\n",
              " 'AN',\n",
              " 'HOUR',\n",
              " 'NASTY',\n",
              " 'OMG',\n",
              " 'NO',\n",
              " 'BEST',\n",
              " 'THE',\n",
              " 'OWNERS',\n",
              " 'REALLY',\n",
              " 'REALLY',\n",
              " 'PERFECT',\n",
              " 'SCREAMS',\n",
              " 'LEGIT',\n",
              " 'MGM',\n",
              " 'BEST',\n",
              " 'FLY',\n",
              " 'FLY',\n",
              " 'FANTASTIC',\n",
              " 'GREAT',\n",
              " 'OK',\n",
              " 'WAY',\n",
              " 'MUST',\n",
              " 'HAVE',\n",
              " 'OK',\n",
              " 'OVERPRICED',\n",
              " 'BARE',\n",
              " 'HANDS',\n",
              " 'WEAK',\n",
              " 'SHOULD',\n",
              " 'RI',\n",
              " 'WAAAAAA',\n",
              " 'VERY',\n",
              " 'NOT']"
            ]
          },
          "metadata": {},
          "execution_count": 16
        }
      ]
    },
    {
      "cell_type": "code",
      "source": [
        "print (\"Se encontraron\",len(searched_items), \"palabras\")"
      ],
      "metadata": {
        "colab": {
          "base_uri": "https://localhost:8080/"
        },
        "id": "jgVFyfBaiVmA",
        "outputId": "9a735bc2-3bae-415a-a180-5e35ccd0d09e"
      },
      "execution_count": null,
      "outputs": [
        {
          "output_type": "stream",
          "name": "stdout",
          "text": [
            "Se encontraron 97 palabras\n"
          ]
        }
      ]
    },
    {
      "cell_type": "markdown",
      "source": [
        "*   **Pregunta 4.**  \n",
        "\n",
        "Busca e imprime los comentarios en donde todos los caracteres alfabéticos (letras) están en mayúsculas. \n",
        "\n",
        "Cada coincidencia encontrada debe ser todo el comentario/enunciado.\n",
        "\n",
        "Indica cuántos resultados obtuviste.\n"
      ],
      "metadata": {
        "id": "GX8eYyDoMZma"
      }
    },
    {
      "cell_type": "code",
      "source": [
        "searched_items=[]"
      ],
      "metadata": {
        "id": "5CkFPIhY-Jcc"
      },
      "execution_count": null,
      "outputs": []
    },
    {
      "cell_type": "code",
      "source": [
        "for i in range(len(docs)):\n",
        "  if not re.findall(r\"\\w+[a-z]\", docs[i]):\n",
        "      searched_items.append(docs[i])"
      ],
      "metadata": {
        "id": "aCF2588d-SFo"
      },
      "execution_count": null,
      "outputs": []
    },
    {
      "cell_type": "code",
      "source": [
        "searched_items"
      ],
      "metadata": {
        "colab": {
          "base_uri": "https://localhost:8080/"
        },
        "id": "9_USfPi4-iX0",
        "outputId": "c4b52685-7bbc-4a5a-f85e-3e9017cf8135"
      },
      "execution_count": null,
      "outputs": [
        {
          "output_type": "execute_result",
          "data": {
            "text/plain": [
              "['DELICIOUS!!',\n",
              " 'RUDE & INCONSIDERATE MANAGEMENT.',\n",
              " 'WILL NEVER EVER GO BACK AND HAVE TOLD MANY PEOPLE WHAT HAD HAPPENED.',\n",
              " 'TOTAL WASTE OF TIME.',\n",
              " 'AVOID THIS ESTABLISHMENT!']"
            ]
          },
          "metadata": {},
          "execution_count": 20
        }
      ]
    },
    {
      "cell_type": "code",
      "source": [
        "print (\"Se encontraron\",len(searched_items), \"frases\")"
      ],
      "metadata": {
        "colab": {
          "base_uri": "https://localhost:8080/"
        },
        "id": "qK0-WhQwJnwt",
        "outputId": "aa4d101f-ace6-4a09-da1f-52db1da74940"
      },
      "execution_count": null,
      "outputs": [
        {
          "output_type": "stream",
          "name": "stdout",
          "text": [
            "Se encontraron 5 frases\n"
          ]
        }
      ]
    },
    {
      "cell_type": "markdown",
      "source": [
        "*   **Pregunta 5.**  \n",
        "\n",
        "Busca e imprime todas las palabras que tengan una vocal acentuada, del tipo á, é, í, ó, ú. \n",
        "\n",
        "Indica cuántos resultados obtuviste."
      ],
      "metadata": {
        "id": "a1i6qv7-McmU"
      }
    },
    {
      "cell_type": "code",
      "source": [
        "searched_items=[]"
      ],
      "metadata": {
        "id": "nZZ5zKUOMeGD"
      },
      "execution_count": null,
      "outputs": []
    },
    {
      "cell_type": "code",
      "source": [
        "\n",
        "for i in range(len(docs)):\n",
        "  if re.findall(r\"[áéíóú]\", docs[i]):\n",
        "    lista = docs[i].split()\n",
        "    for j in range(len(lista)):\n",
        "      if re.findall(r\"[áéíóú]\", lista[j]):\n",
        "        searched_items.append(lista[j])"
      ],
      "metadata": {
        "id": "l1mFvUEZMe8s"
      },
      "execution_count": null,
      "outputs": []
    },
    {
      "cell_type": "code",
      "source": [
        "searched_items"
      ],
      "metadata": {
        "colab": {
          "base_uri": "https://localhost:8080/"
        },
        "id": "lwEVg8fpMaOz",
        "outputId": "121d8207-f345-42c2-d0b6-271fe4f6aece"
      },
      "execution_count": null,
      "outputs": [
        {
          "output_type": "execute_result",
          "data": {
            "text/plain": [
              "['fiancé', 'Café', 'puréed.']"
            ]
          },
          "metadata": {},
          "execution_count": 28
        }
      ]
    },
    {
      "cell_type": "code",
      "source": [
        "print (\"Se encontraron\",len(searched_items), \"palabras\")"
      ],
      "metadata": {
        "colab": {
          "base_uri": "https://localhost:8080/"
        },
        "id": "nV-LepjiPAki",
        "outputId": "b755a651-fe20-4f34-96ff-4f1eb074e821"
      },
      "execution_count": null,
      "outputs": [
        {
          "output_type": "stream",
          "name": "stdout",
          "text": [
            "Se encontraron 3 palabras\n"
          ]
        }
      ]
    },
    {
      "cell_type": "markdown",
      "source": [
        "*   **Pregunta 6.**  \n",
        "\n",
        "Busca e imprime todas las cantidades numéricas monetarias, enteras o con decimales, que inician con el símbolo $\\$$. \n",
        "\n",
        "Indica cuántos resultados obtuviste."
      ],
      "metadata": {
        "id": "ZmPiAI82Mfb3"
      }
    },
    {
      "cell_type": "code",
      "source": [
        "searched_items=[]"
      ],
      "metadata": {
        "id": "6vhe9-Y-MhL9"
      },
      "execution_count": null,
      "outputs": []
    },
    {
      "cell_type": "code",
      "source": [
        "for i in range(len(docs)):\n",
        "  if re.findall(r\"[$]\\d{1,}[.]?\\d{0,}\", docs[i]):\n",
        "    lista = docs[i].split()\n",
        "    for j in range(len(lista)):\n",
        "      if re.findall(r\"[$]\\d{1,}[.]?\\d{0,}\", lista[j]):\n",
        "        searched_items.append(lista[j])"
      ],
      "metadata": {
        "id": "_t0a5xWDMhQ5"
      },
      "execution_count": null,
      "outputs": []
    },
    {
      "cell_type": "code",
      "source": [
        "searched_items"
      ],
      "metadata": {
        "colab": {
          "base_uri": "https://localhost:8080/"
        },
        "id": "9FwPDhoDWFpO",
        "outputId": "81b13f0b-4914-41a2-9783-a4c236954c6a"
      },
      "execution_count": null,
      "outputs": [
        {
          "output_type": "execute_result",
          "data": {
            "text/plain": [
              "['$20,', '$4.00.\"', '$17', '$3', '$35', '$7.85', '$12,', '$11.99']"
            ]
          },
          "metadata": {},
          "execution_count": 32
        }
      ]
    },
    {
      "cell_type": "code",
      "source": [
        "print (\"Se encontraron\",len(searched_items), \"cantidades\")"
      ],
      "metadata": {
        "colab": {
          "base_uri": "https://localhost:8080/"
        },
        "id": "tJ3iYk6XW8aa",
        "outputId": "b4f2300e-c8e7-46f1-92c2-e4050c8141e0"
      },
      "execution_count": null,
      "outputs": [
        {
          "output_type": "stream",
          "name": "stdout",
          "text": [
            "Se encontraron 8 cantidades\n"
          ]
        }
      ]
    },
    {
      "cell_type": "markdown",
      "source": [
        "*   **Pregunta 7.**  \n",
        "\n",
        "Busca e imprime todas las palabras que sean variantes de la palabra \"love\", sin importar si incluyen mayúsculas o minúsculas, o la manera en que esté conjugada o alguna otra variación que se haga con dicha palabra.\n",
        "\n",
        "Indica cuántos resultados obtuviste."
      ],
      "metadata": {
        "id": "2j-HpvhwMhq2"
      }
    },
    {
      "cell_type": "code",
      "source": [
        "searched_items=[]"
      ],
      "metadata": {
        "id": "kqqyRChVMjol"
      },
      "execution_count": null,
      "outputs": []
    },
    {
      "cell_type": "code",
      "source": [
        "for i in range(len(docs)):\n",
        "  if re.findall(r\"Love\", docs[i]) or re.findall(r\"love\", docs[i]) or re.findall(r\"LOVE\", docs[i]):\n",
        "    lista = docs[i].split()\n",
        "    for j in range(len(lista)):  \n",
        "      if re.findall(r\"Love\", lista[j]) or re.findall(r\"love\", lista[j]) or re.findall(r\"LOVE\", lista[j]):\n",
        "        #if re.findall(r\"^Love\", lista[j]) or re.findall(r\"^love\", lista[j]) or re.findall(r\"^LOVE\", lista[j]):\n",
        "          searched_items.append(re.findall(r\"\\w+\",lista[j]))\n",
        "  "
      ],
      "metadata": {
        "id": "UXd0VQluMj_x"
      },
      "execution_count": null,
      "outputs": []
    },
    {
      "cell_type": "code",
      "source": [
        "searched_items"
      ],
      "metadata": {
        "colab": {
          "base_uri": "https://localhost:8080/"
        },
        "id": "pagEpv1PZbt8",
        "outputId": "cbb6b9af-4fd1-4468-c3c1-971d04a001dc"
      },
      "execution_count": null,
      "outputs": [
        {
          "output_type": "execute_result",
          "data": {
            "text/plain": [
              "[['Loved'],\n",
              " ['loved'],\n",
              " ['Loved'],\n",
              " ['love'],\n",
              " ['loves'],\n",
              " ['LOVED'],\n",
              " ['lovers'],\n",
              " ['love'],\n",
              " ['lovers'],\n",
              " ['Love'],\n",
              " ['loved'],\n",
              " ['loved'],\n",
              " ['love'],\n",
              " ['love'],\n",
              " ['love'],\n",
              " ['loved'],\n",
              " ['love'],\n",
              " ['loved'],\n",
              " ['Love'],\n",
              " ['LOVED'],\n",
              " ['love'],\n",
              " ['lovely'],\n",
              " ['love'],\n",
              " ['lovely'],\n",
              " ['love'],\n",
              " ['lover'],\n",
              " ['loved'],\n",
              " ['love'],\n",
              " ['love'],\n",
              " ['love'],\n",
              " ['love'],\n",
              " ['gloves', 'Everything'],\n",
              " ['love'],\n",
              " ['love'],\n",
              " ['love'],\n",
              " ['love']]"
            ]
          },
          "metadata": {},
          "execution_count": 36
        }
      ]
    },
    {
      "cell_type": "code",
      "source": [
        "print (\"Se encontraron\",len(searched_items), \"palabras\")"
      ],
      "metadata": {
        "colab": {
          "base_uri": "https://localhost:8080/"
        },
        "id": "eKqSyvLRZhu4",
        "outputId": "ffe33d71-86ee-48f7-a897-23c3a7ad5e00"
      },
      "execution_count": null,
      "outputs": [
        {
          "output_type": "stream",
          "name": "stdout",
          "text": [
            "Se encontraron 36 palabras\n"
          ]
        }
      ]
    },
    {
      "cell_type": "markdown",
      "source": [
        "*   **Pregunta 8.**  \n",
        "\n",
        "Busca e imprime todas las palabras, variantes de \"so\" y \"good\", que tengan dos o más \"o\" en \"so\" y 3 o más \"o\" en good. \n",
        "\n",
        "Indica cuántas encontraste.\n"
      ],
      "metadata": {
        "id": "Ctb-NTY3MkYG"
      }
    },
    {
      "cell_type": "code",
      "source": [
        "searched_items=[]\n"
      ],
      "metadata": {
        "id": "A8Nf3B_cMlqg"
      },
      "execution_count": null,
      "outputs": []
    },
    {
      "cell_type": "code",
      "source": [
        "for i in range(len(docs)):\n",
        "  if re.findall(r\"so{2,}\\b\", docs[i]):\n",
        "    lista = docs[i].split()\n",
        "    for j in range(len(lista)):\n",
        "      if re.findall(r\"so{2,}\\b\", lista[j]) or re.findall(r\"So{2,}\\b\",lista[j]):\n",
        "        searched_items.append(re.findall(\"\\w+\",lista[j]))\n",
        "  if re.findall(r\"goo{2,}\", docs[i]):\n",
        "    lista = docs[i].split()\n",
        "    for j in range(len(lista)):\n",
        "      if re.findall(r\"goo{2,}\", lista[j]):\n",
        "        searched_items.append(re.findall(\"\\w+\",lista[j]))\n"
      ],
      "metadata": {
        "id": "svS4-vvPMl6f"
      },
      "execution_count": null,
      "outputs": []
    },
    {
      "cell_type": "code",
      "source": [
        "searched_items"
      ],
      "metadata": {
        "colab": {
          "base_uri": "https://localhost:8080/"
        },
        "id": "BZ1S1-vlwh1_",
        "outputId": "2af97450-efa8-44b0-af0b-ff62349b08f3"
      },
      "execution_count": null,
      "outputs": [
        {
          "output_type": "execute_result",
          "data": {
            "text/plain": [
              "[['soooo'], ['gooodd'], ['soooooo'], ['soooo']]"
            ]
          },
          "metadata": {},
          "execution_count": 165
        }
      ]
    },
    {
      "cell_type": "code",
      "source": [
        "print (\"Se encontraron\",len(searched_items), \"palabras\")"
      ],
      "metadata": {
        "colab": {
          "base_uri": "https://localhost:8080/"
        },
        "id": "PFXII72sy9Zd",
        "outputId": "6deafb47-a3d3-49d6-bd14-86df1bdf1a88"
      },
      "execution_count": null,
      "outputs": [
        {
          "output_type": "stream",
          "name": "stdout",
          "text": [
            "Se encontraron 4 palabras\n"
          ]
        }
      ]
    },
    {
      "cell_type": "markdown",
      "source": [
        "*   **Pregunta 9.**  \n",
        "\n",
        "Busca e imprime todas las palabras que tengan una longitud mayor estrictamente a 10 caracteres alfabéticos.\n",
        "\n",
        "No se consideran los signos de puntuación o caracteres especiales en la longitud de estas cadenas, solo caracteres alfabéticos en mayúsculas o minúsculas.\n",
        "\n",
        "Indica la cantidad de palabras encontradas.\n"
      ],
      "metadata": {
        "id": "hkak1opjMmlk"
      }
    },
    {
      "cell_type": "code",
      "source": [
        "searched_items=[]\n"
      ],
      "metadata": {
        "id": "PYxdp3uhMoD0"
      },
      "execution_count": null,
      "outputs": []
    },
    {
      "cell_type": "code",
      "source": [
        "for i in range(len(docs)):\n",
        "  if re.findall(r\"\\w{11,}\", docs[i]):\n",
        "    lista = docs[i].split()\n",
        "    for j in range(len(lista)):\n",
        "      if re.findall(r\"\\w{11,}\", lista[j]):\n",
        "        searched_items.append(re.findall(r\"\\w{11,}\",lista[j]))\n"
      ],
      "metadata": {
        "id": "BR7e2F4FMof-"
      },
      "execution_count": null,
      "outputs": []
    },
    {
      "cell_type": "code",
      "source": [
        "searched_items"
      ],
      "metadata": {
        "colab": {
          "base_uri": "https://localhost:8080/"
        },
        "id": "uv3TXWPx08Bj",
        "outputId": "5114a7cc-fe46-41e7-c0fc-09efdcd98b1e"
      },
      "execution_count": null,
      "outputs": [
        {
          "output_type": "execute_result",
          "data": {
            "text/plain": [
              "[['recommendation'],\n",
              " ['recommended'],\n",
              " ['overwhelmed'],\n",
              " ['inexpensive'],\n",
              " ['establishment'],\n",
              " ['imaginative'],\n",
              " ['opportunity'],\n",
              " ['experiencing'],\n",
              " ['underwhelming'],\n",
              " ['relationship'],\n",
              " ['unsatisfying'],\n",
              " ['disappointing'],\n",
              " ['outrageously'],\n",
              " ['disappointing'],\n",
              " ['expectations'],\n",
              " ['restaurants'],\n",
              " ['suggestions'],\n",
              " ['disappointed'],\n",
              " ['considering'],\n",
              " ['Unfortunately'],\n",
              " ['immediately'],\n",
              " ['ingredients'],\n",
              " ['accommodations'],\n",
              " ['maintaining'],\n",
              " ['Interesting'],\n",
              " ['disrespected'],\n",
              " ['accordingly'],\n",
              " ['unbelievable'],\n",
              " ['cheeseburger'],\n",
              " ['descriptions'],\n",
              " ['inexpensive'],\n",
              " ['disappointed'],\n",
              " ['Veggitarian'],\n",
              " ['outstanding'],\n",
              " ['recommendation'],\n",
              " ['disappointed'],\n",
              " ['disappointed'],\n",
              " ['neighborhood'],\n",
              " ['disappointed'],\n",
              " ['corporation'],\n",
              " ['considering'],\n",
              " ['exceptional'],\n",
              " ['shawarrrrrrma'],\n",
              " ['disappointed'],\n",
              " ['vinaigrette'],\n",
              " ['immediately'],\n",
              " ['unbelievably'],\n",
              " ['replenished'],\n",
              " ['disappointed'],\n",
              " ['enthusiastic'],\n",
              " ['Outstanding'],\n",
              " ['comfortable'],\n",
              " ['interesting'],\n",
              " ['INCONSIDERATE'],\n",
              " ['considering'],\n",
              " ['transcendant'],\n",
              " ['disappointment'],\n",
              " ['disappointed'],\n",
              " ['disappointed'],\n",
              " ['overwhelmed'],\n",
              " ['professional'],\n",
              " ['Furthermore'],\n",
              " ['combination'],\n",
              " ['connoisseur'],\n",
              " ['profiterole'],\n",
              " ['outstanding'],\n",
              " ['acknowledged'],\n",
              " ['ventilation'],\n",
              " ['beautifully'],\n",
              " ['establishment'],\n",
              " ['extraordinary'],\n",
              " ['disappointed'],\n",
              " ['cheesecurds'],\n",
              " ['disappointed'],\n",
              " ['interesting'],\n",
              " ['experienced'],\n",
              " ['opportunity'],\n",
              " ['disgraceful'],\n",
              " ['restaurants'],\n",
              " ['ESTABLISHMENT'],\n",
              " ['recommended'],\n",
              " ['disappointed'],\n",
              " ['recommended'],\n",
              " ['acknowledged'],\n",
              " ['presentation'],\n",
              " ['Philadelphia'],\n",
              " ['disappointed'],\n",
              " ['disappointing'],\n",
              " ['grandmother'],\n",
              " ['drastically'],\n",
              " ['informative'],\n",
              " ['Disappointed'],\n",
              " ['constructed'],\n",
              " ['comfortable'],\n",
              " ['Smashburger'],\n",
              " ['cheeseburger'],\n",
              " ['neighborhood'],\n",
              " ['disappointed'],\n",
              " ['hospitality'],\n",
              " ['recommending'],\n",
              " ['disappointed'],\n",
              " ['deliciously'],\n",
              " ['compliments'],\n",
              " ['recommendation'],\n",
              " ['establishment'],\n",
              " ['calligraphy'],\n",
              " ['traditional'],\n",
              " ['combination'],\n",
              " ['Unfortunately'],\n",
              " ['Wienerschnitzel'],\n",
              " ['unfortunately'],\n",
              " ['considering'],\n",
              " ['highlighted'],\n",
              " ['Mediterranean'],\n",
              " ['unprofessional'],\n",
              " ['anticipated'],\n",
              " ['disappointing'],\n",
              " ['unexperienced'],\n",
              " ['disrespected'],\n",
              " ['professional'],\n",
              " ['restaurants'],\n",
              " ['Disappointing'],\n",
              " ['WAAAAAAyyyyyyyyyy'],\n",
              " ['reservation'],\n",
              " ['imagination'],\n",
              " ['undercooked'],\n",
              " ['disappointed'],\n",
              " ['disappointment'],\n",
              " ['disappointment'],\n",
              " ['deuchebaggery'],\n",
              " ['disappointed'],\n",
              " ['disappointment'],\n",
              " ['immediately'],\n",
              " ['Unfortunately'],\n",
              " ['disapppointment'],\n",
              " ['circumstances'],\n",
              " ['undercooked'],\n",
              " ['caterpillar'],\n",
              " ['presentation'],\n",
              " ['disappointed'],\n",
              " ['underwhelming']]"
            ]
          },
          "metadata": {},
          "execution_count": 43
        }
      ]
    },
    {
      "cell_type": "code",
      "source": [
        "print (\"Se encontraron\",len(searched_items), \"palabras\")"
      ],
      "metadata": {
        "colab": {
          "base_uri": "https://localhost:8080/"
        },
        "id": "9SI09zGt1Gn8",
        "outputId": "3cb6fb13-5f84-4884-ea48-19657a7024dd"
      },
      "execution_count": null,
      "outputs": [
        {
          "output_type": "stream",
          "name": "stdout",
          "text": [
            "Se encontraron 141 palabras\n"
          ]
        }
      ]
    },
    {
      "cell_type": "markdown",
      "source": [
        "*   **Pregunta 10.**  \n",
        "\n",
        "Busca e imprime todas las palabras que inician con una letra mayúscula y terminan con una minúscula, pero que además no sea la primera palabra del comentario/string. \n",
        "\n",
        "Indica la cantidad de resultados obtenidos."
      ],
      "metadata": {
        "id": "ApjTNzSxMpDc"
      }
    },
    {
      "cell_type": "code",
      "source": [
        "searched_items=[]"
      ],
      "metadata": {
        "id": "hWWxx_4g401n"
      },
      "execution_count": null,
      "outputs": []
    },
    {
      "cell_type": "code",
      "source": [
        "for i in range(len(docs)):\n",
        "  if re.findall(r\"\\w+[a-z]\", docs[i]):\n",
        "    lista = docs[i].split()\n",
        "    for j in range(len(lista)):\n",
        "      if re.findall(r\"\\w+[a-z]\", lista[j]):\n",
        "        searched_items.append(re.findall(r\"\\w+\",lista[j]))\n",
        "\n"
      ],
      "metadata": {
        "id": "Vb0ndRGAMqdL"
      },
      "execution_count": null,
      "outputs": []
    },
    {
      "cell_type": "code",
      "source": [
        "searched_items"
      ],
      "metadata": {
        "id": "dLPTRPnTMqqx",
        "colab": {
          "base_uri": "https://localhost:8080/"
        },
        "outputId": "e2911a27-863d-4a18-e70b-3ad61ff0da59"
      },
      "execution_count": null,
      "outputs": [
        {
          "output_type": "execute_result",
          "data": {
            "text/plain": [
              "[['Wow'],\n",
              " ['Loved'],\n",
              " ['this'],\n",
              " ['place'],\n",
              " ['Crust'],\n",
              " ['is'],\n",
              " ['not'],\n",
              " ['good'],\n",
              " ['Not'],\n",
              " ['tasty'],\n",
              " ['and'],\n",
              " ['the'],\n",
              " ['texture'],\n",
              " ['was'],\n",
              " ['just'],\n",
              " ['nasty'],\n",
              " ['Stopped'],\n",
              " ['by'],\n",
              " ['during'],\n",
              " ['the'],\n",
              " ['late'],\n",
              " ['May'],\n",
              " ['bank'],\n",
              " ['holiday'],\n",
              " ['off'],\n",
              " ['Rick'],\n",
              " ['Steve'],\n",
              " ['recommendation'],\n",
              " ['and'],\n",
              " ['loved'],\n",
              " ['it'],\n",
              " ['The'],\n",
              " ['selection'],\n",
              " ['on'],\n",
              " ['the'],\n",
              " ['menu'],\n",
              " ['was'],\n",
              " ['great'],\n",
              " ['and'],\n",
              " ['so'],\n",
              " ['were'],\n",
              " ['the'],\n",
              " ['prices'],\n",
              " ['Now'],\n",
              " ['am'],\n",
              " ['getting'],\n",
              " ['angry'],\n",
              " ['and'],\n",
              " ['want'],\n",
              " ['my'],\n",
              " ['damn'],\n",
              " ['pho'],\n",
              " ['Honeslty'],\n",
              " ['it'],\n",
              " ['didn', 't'],\n",
              " ['taste'],\n",
              " ['fresh'],\n",
              " ['The'],\n",
              " ['potatoes'],\n",
              " ['were'],\n",
              " ['like'],\n",
              " ['rubber'],\n",
              " ['and'],\n",
              " ['you'],\n",
              " ['could'],\n",
              " ['tell'],\n",
              " ['they'],\n",
              " ['had'],\n",
              " ['been'],\n",
              " ['made'],\n",
              " ['up'],\n",
              " ['ahead'],\n",
              " ['of'],\n",
              " ['time'],\n",
              " ['being'],\n",
              " ['kept'],\n",
              " ['under'],\n",
              " ['warmer'],\n",
              " ['The'],\n",
              " ['fries'],\n",
              " ['were'],\n",
              " ['great'],\n",
              " ['too'],\n",
              " ['great'],\n",
              " ['touch'],\n",
              " ['Service'],\n",
              " ['was'],\n",
              " ['very'],\n",
              " ['prompt'],\n",
              " ['Would'],\n",
              " ['not'],\n",
              " ['go'],\n",
              " ['back'],\n",
              " ['The'],\n",
              " ['cashier'],\n",
              " ['had'],\n",
              " ['no'],\n",
              " ['care'],\n",
              " ['what'],\n",
              " ['so'],\n",
              " ['ever'],\n",
              " ['on'],\n",
              " ['what'],\n",
              " ['had'],\n",
              " ['to'],\n",
              " ['say'],\n",
              " ['it'],\n",
              " ['still'],\n",
              " ['ended'],\n",
              " ['up'],\n",
              " ['being'],\n",
              " ['wayyy'],\n",
              " ['overpriced'],\n",
              " ['tried'],\n",
              " ['the'],\n",
              " ['Cape'],\n",
              " ['Cod'],\n",
              " ['ravoli'],\n",
              " ['chicken', 'with'],\n",
              " ['cranberry', 'mmmm'],\n",
              " ['was'],\n",
              " ['disgusted'],\n",
              " ['because'],\n",
              " ['was'],\n",
              " ['pretty'],\n",
              " ['sure'],\n",
              " ['that'],\n",
              " ['was'],\n",
              " ['human'],\n",
              " ['hair'],\n",
              " ['was'],\n",
              " ['shocked'],\n",
              " ['because'],\n",
              " ['no'],\n",
              " ['signs'],\n",
              " ['indicate'],\n",
              " ['cash'],\n",
              " ['only'],\n",
              " ['Highly'],\n",
              " ['recommended'],\n",
              " ['Waitress'],\n",
              " ['was'],\n",
              " ['little'],\n",
              " ['slow'],\n",
              " ['in'],\n",
              " ['service'],\n",
              " ['This'],\n",
              " ['place'],\n",
              " ['is'],\n",
              " ['not'],\n",
              " ['worth'],\n",
              " ['your'],\n",
              " ['time'],\n",
              " ['let'],\n",
              " ['alone'],\n",
              " ['Vegas'],\n",
              " ['did'],\n",
              " ['not'],\n",
              " ['like'],\n",
              " ['at'],\n",
              " ['all'],\n",
              " ['The'],\n",
              " ['Burrittos'],\n",
              " ['Blah'],\n",
              " ['The'],\n",
              " ['food'],\n",
              " ['amazing'],\n",
              " ['Service'],\n",
              " ['is'],\n",
              " ['also'],\n",
              " ['cute'],\n",
              " ['could'],\n",
              " ['care'],\n",
              " ['less'],\n",
              " ['The'],\n",
              " ['interior'],\n",
              " ['is'],\n",
              " ['just'],\n",
              " ['beautiful'],\n",
              " ['So'],\n",
              " ['they'],\n",
              " ['performed'],\n",
              " ['That', 's'],\n",
              " ['right', 'the'],\n",
              " ['red'],\n",
              " ['velvet'],\n",
              " ['cake', 'ohhh'],\n",
              " ['this'],\n",
              " ['stuff'],\n",
              " ['is'],\n",
              " ['so'],\n",
              " ['good'],\n",
              " ['They'],\n",
              " ['never'],\n",
              " ['brought'],\n",
              " ['salad'],\n",
              " ['we'],\n",
              " ['asked'],\n",
              " ['for'],\n",
              " ['This'],\n",
              " ['hole'],\n",
              " ['in'],\n",
              " ['the'],\n",
              " ['wall'],\n",
              " ['has'],\n",
              " ['great'],\n",
              " ['Mexican'],\n",
              " ['street'],\n",
              " ['tacos'],\n",
              " ['and'],\n",
              " ['friendly'],\n",
              " ['staff'],\n",
              " ['Took'],\n",
              " ['an'],\n",
              " ['hour'],\n",
              " ['to'],\n",
              " ['get'],\n",
              " ['our'],\n",
              " ['food'],\n",
              " ['only'],\n",
              " ['tables'],\n",
              " ['in'],\n",
              " ['restaurant'],\n",
              " ['my'],\n",
              " ['food'],\n",
              " ['was'],\n",
              " ['Luke'],\n",
              " ['warm'],\n",
              " ['Our'],\n",
              " ['sever'],\n",
              " ['was'],\n",
              " ['running'],\n",
              " ['around'],\n",
              " ['like'],\n",
              " ['he'],\n",
              " ['was'],\n",
              " ['totally'],\n",
              " ['overwhelmed'],\n",
              " ['The'],\n",
              " ['worst'],\n",
              " ['was'],\n",
              " ['the'],\n",
              " ['salmon'],\n",
              " ['sashimi'],\n",
              " ['Also'],\n",
              " ['there'],\n",
              " ['are'],\n",
              " ['combos'],\n",
              " ['like'],\n",
              " ['burger'],\n",
              " ['fries'],\n",
              " ['and'],\n",
              " ['beer'],\n",
              " ['for'],\n",
              " ['which'],\n",
              " ['is'],\n",
              " ['decent'],\n",
              " ['deal'],\n",
              " ['This'],\n",
              " ['was'],\n",
              " ['like'],\n",
              " ['the'],\n",
              " ['final'],\n",
              " ['blow'],\n",
              " ['found'],\n",
              " ['this'],\n",
              " ['place'],\n",
              " ['by'],\n",
              " ['accident'],\n",
              " ['and'],\n",
              " ['could'],\n",
              " ['not'],\n",
              " ['be'],\n",
              " ['happier'],\n",
              " ['seems'],\n",
              " ['like'],\n",
              " ['good'],\n",
              " ['quick'],\n",
              " ['place'],\n",
              " ['to'],\n",
              " ['grab'],\n",
              " ['bite'],\n",
              " ['of'],\n",
              " ['some'],\n",
              " ['familiar'],\n",
              " ['pub'],\n",
              " ['food'],\n",
              " ['but'],\n",
              " ['do'],\n",
              " ['yourself'],\n",
              " ['favor'],\n",
              " ['and'],\n",
              " ['look'],\n",
              " ['elsewhere'],\n",
              " ['Overall'],\n",
              " ['like'],\n",
              " ['this'],\n",
              " ['place'],\n",
              " ['lot'],\n",
              " ['The'],\n",
              " ['only'],\n",
              " ['redeeming'],\n",
              " ['quality'],\n",
              " ['of'],\n",
              " ['the'],\n",
              " ['restaurant'],\n",
              " ['was'],\n",
              " ['that'],\n",
              " ['it'],\n",
              " ['was'],\n",
              " ['very'],\n",
              " ['inexpensive'],\n",
              " ['Ample'],\n",
              " ['portions'],\n",
              " ['and'],\n",
              " ['good'],\n",
              " ['prices'],\n",
              " ['Poor'],\n",
              " ['service'],\n",
              " ['the'],\n",
              " ['waiter'],\n",
              " ['made'],\n",
              " ['me'],\n",
              " ['feel'],\n",
              " ['like'],\n",
              " ['was'],\n",
              " ['stupid'],\n",
              " ['every'],\n",
              " ['time'],\n",
              " ['he'],\n",
              " ['came'],\n",
              " ['to'],\n",
              " ['the'],\n",
              " ['table'],\n",
              " ['My'],\n",
              " ['first'],\n",
              " ['visit'],\n",
              " ['to'],\n",
              " ['Hiro'],\n",
              " ['was'],\n",
              " ['delight'],\n",
              " ['Service'],\n",
              " ['sucks'],\n",
              " ['The'],\n",
              " ['shrimp'],\n",
              " ['tender'],\n",
              " ['and'],\n",
              " ['moist'],\n",
              " ['There'],\n",
              " ['is'],\n",
              " ['not'],\n",
              " ['deal'],\n",
              " ['good'],\n",
              " ['enough'],\n",
              " ['that'],\n",
              " ['would'],\n",
              " ['drag'],\n",
              " ['me'],\n",
              " ['into'],\n",
              " ['that'],\n",
              " ['establishment'],\n",
              " ['again'],\n",
              " ['Hard'],\n",
              " ['to'],\n",
              " ['judge'],\n",
              " ['whether'],\n",
              " ['these'],\n",
              " ['sides'],\n",
              " ['were'],\n",
              " ['good'],\n",
              " ['because'],\n",
              " ['we'],\n",
              " ['were'],\n",
              " ['grossed'],\n",
              " ['out'],\n",
              " ['by'],\n",
              " ['the'],\n",
              " ['melted'],\n",
              " ['styrofoam'],\n",
              " ['and'],\n",
              " ['didn', 't'],\n",
              " ['want'],\n",
              " ['to'],\n",
              " ['eat'],\n",
              " ['it'],\n",
              " ['for'],\n",
              " ['fear'],\n",
              " ['of'],\n",
              " ['getting'],\n",
              " ['sick'],\n",
              " ['On'],\n",
              " ['positive'],\n",
              " ['note'],\n",
              " ['our'],\n",
              " ['server'],\n",
              " ['was'],\n",
              " ['very'],\n",
              " ['attentive'],\n",
              " ['and'],\n",
              " ['provided'],\n",
              " ['great'],\n",
              " ['service'],\n",
              " ['Frozen'],\n",
              " ['pucks'],\n",
              " ['of'],\n",
              " ['disgust'],\n",
              " ['with'],\n",
              " ['some'],\n",
              " ['of'],\n",
              " ['the'],\n",
              " ['worst'],\n",
              " ['people'],\n",
              " ['behind'],\n",
              " ['the'],\n",
              " ['register'],\n",
              " ['The'],\n",
              " ['only'],\n",
              " ['thing'],\n",
              " ['did'],\n",
              " ['like'],\n",
              " ['was'],\n",
              " ['the'],\n",
              " ['prime'],\n",
              " ['rib'],\n",
              " ['and'],\n",
              " ['dessert'],\n",
              " ['section'],\n",
              " ['It', 's'],\n",
              " ['too'],\n",
              " ['bad'],\n",
              " ['the'],\n",
              " ['food'],\n",
              " ['is'],\n",
              " ['so'],\n",
              " ['damn'],\n",
              " ['generic'],\n",
              " ['The'],\n",
              " ['burger'],\n",
              " ['is'],\n",
              " ['good'],\n",
              " ['beef'],\n",
              " ['cooked'],\n",
              " ['just'],\n",
              " ['right'],\n",
              " ['If'],\n",
              " ['you'],\n",
              " ['want'],\n",
              " ['sandwich'],\n",
              " ['just'],\n",
              " ['go'],\n",
              " ['to'],\n",
              " ['any'],\n",
              " ['Firehouse'],\n",
              " ['My'],\n",
              " ['side'],\n",
              " ['Greek'],\n",
              " ['salad'],\n",
              " ['with'],\n",
              " ['the'],\n",
              " ['Greek'],\n",
              " ['dressing'],\n",
              " ['was'],\n",
              " ['so'],\n",
              " ['tasty'],\n",
              " ['and'],\n",
              " ['the'],\n",
              " ['pita'],\n",
              " ['and'],\n",
              " ['hummus'],\n",
              " ['was'],\n",
              " ['very'],\n",
              " ['refreshing'],\n",
              " ['We'],\n",
              " ['ordered'],\n",
              " ['the'],\n",
              " ['duck'],\n",
              " ['rare'],\n",
              " ['and'],\n",
              " ['it'],\n",
              " ['was'],\n",
              " ['pink'],\n",
              " ['and'],\n",
              " ['tender'],\n",
              " ['on'],\n",
              " ['the'],\n",
              " ['inside'],\n",
              " ['with'],\n",
              " ['nice'],\n",
              " ['char'],\n",
              " ['on'],\n",
              " ['the'],\n",
              " ['outside'],\n",
              " ['He'],\n",
              " ['came'],\n",
              " ['running'],\n",
              " ['after'],\n",
              " ['us'],\n",
              " ['when'],\n",
              " ['he'],\n",
              " ['realized'],\n",
              " ['my'],\n",
              " ['husband'],\n",
              " ['had'],\n",
              " ['left'],\n",
              " ['his'],\n",
              " ['sunglasses'],\n",
              " ['on'],\n",
              " ['the'],\n",
              " ['table'],\n",
              " ['Their'],\n",
              " ['chow'],\n",
              " ['mein'],\n",
              " ['is'],\n",
              " ['so'],\n",
              " ['good'],\n",
              " ['They'],\n",
              " ['have'],\n",
              " ['horrible'],\n",
              " ['attitudes'],\n",
              " ['towards'],\n",
              " ['customers'],\n",
              " ['and'],\n",
              " ['talk'],\n",
              " ['down'],\n",
              " ['to'],\n",
              " ['each'],\n",
              " ['one'],\n",
              " ['when'],\n",
              " ['customers'],\n",
              " ['don', 't'],\n",
              " ['enjoy'],\n",
              " ['their'],\n",
              " ['food'],\n",
              " ['The'],\n",
              " ['portion'],\n",
              " ['was'],\n",
              " ['huge'],\n",
              " ['Loved'],\n",
              " ['it', 'friendly'],\n",
              " ['servers'],\n",
              " ['great'],\n",
              " ['food'],\n",
              " ['wonderful'],\n",
              " ['and'],\n",
              " ['imaginative'],\n",
              " ['menu'],\n",
              " ['The'],\n",
              " ['Heart'],\n",
              " ['Attack'],\n",
              " ['Grill'],\n",
              " ['in'],\n",
              " ['downtown'],\n",
              " ['Vegas'],\n",
              " ['is'],\n",
              " ['an'],\n",
              " ['absolutely'],\n",
              " ['flat', 'lined'],\n",
              " ['excuse'],\n",
              " ['for'],\n",
              " ['restaurant'],\n",
              " ['Not'],\n",
              " ['much'],\n",
              " ['seafood'],\n",
              " ['and'],\n",
              " ['like'],\n",
              " ['strings'],\n",
              " ['of'],\n",
              " ['pasta'],\n",
              " ['at'],\n",
              " ['the'],\n",
              " ['bottom'],\n",
              " ['The'],\n",
              " ['salad'],\n",
              " ['had'],\n",
              " ['just'],\n",
              " ['the'],\n",
              " ['right'],\n",
              " ['amount'],\n",
              " ['of'],\n",
              " ['sauce'],\n",
              " ['to'],\n",
              " ['not'],\n",
              " ['over'],\n",
              " ['power'],\n",
              " ['the'],\n",
              " ['scallop'],\n",
              " ['which'],\n",
              " ['was'],\n",
              " ['perfectly'],\n",
              " ['cooked'],\n",
              " ['The'],\n",
              " ['ripped'],\n",
              " ['banana'],\n",
              " ['was'],\n",
              " ['not'],\n",
              " ['only'],\n",
              " ['ripped'],\n",
              " ['but'],\n",
              " ['petrified'],\n",
              " ['and'],\n",
              " ['tasteless'],\n",
              " ['At'],\n",
              " ['least'],\n",
              " ['think'],\n",
              " ['to'],\n",
              " ['refill'],\n",
              " ['my'],\n",
              " ['water'],\n",
              " ['before'],\n",
              " ['struggle'],\n",
              " ['to'],\n",
              " ['wave'],\n",
              " ['you'],\n",
              " ['over'],\n",
              " ['for'],\n",
              " ['minutes'],\n",
              " ['This'],\n",
              " ['place'],\n",
              " ['receives'],\n",
              " ['stars'],\n",
              " ['for'],\n",
              " ['their'],\n",
              " ['The'],\n",
              " ['cocktails'],\n",
              " ['are'],\n",
              " ['all'],\n",
              " ['handmade'],\n",
              " ['and'],\n",
              " ['delicious'],\n",
              " ['We', 'd'],\n",
              " ['definitely'],\n",
              " ['go'],\n",
              " ['back'],\n",
              " ['here'],\n",
              " ['again'],\n",
              " ['We'],\n",
              " ['are'],\n",
              " ['so'],\n",
              " ['glad'],\n",
              " ['we'],\n",
              " ['found'],\n",
              " ['this'],\n",
              " ['place'],\n",
              " ['Great'],\n",
              " ['food'],\n",
              " ['and'],\n",
              " ['service'],\n",
              " ['huge'],\n",
              " ['portions'],\n",
              " ['and'],\n",
              " ['they'],\n",
              " ['give'],\n",
              " ['military'],\n",
              " ['discount'],\n",
              " ['Always'],\n",
              " ['great'],\n",
              " ['time'],\n",
              " ['at'],\n",
              " ['Dos'],\n",
              " ['Gringos'],\n",
              " ['Update', 'went'],\n",
              " ['back'],\n",
              " ['for'],\n",
              " ['second'],\n",
              " ['time'],\n",
              " ['and'],\n",
              " ['it'],\n",
              " ['was'],\n",
              " ['still'],\n",
              " ['just'],\n",
              " ['as'],\n",
              " ['amazing'],\n",
              " ['We'],\n",
              " ['got'],\n",
              " ['the'],\n",
              " ['food'],\n",
              " ['and'],\n",
              " ['apparently'],\n",
              " ['they'],\n",
              " ['have'],\n",
              " ['never'],\n",
              " ['heard'],\n",
              " ['of'],\n",
              " ['salt'],\n",
              " ['and'],\n",
              " ['the'],\n",
              " ['batter'],\n",
              " ['on'],\n",
              " ['the'],\n",
              " ['fish'],\n",
              " ['was'],\n",
              " ['chewy'],\n",
              " ['great'],\n",
              " ['way'],\n",
              " ['to'],\n",
              " ['finish'],\n",
              " ['great'],\n",
              " ['The'],\n",
              " ['deal'],\n",
              " ['included'],\n",
              " ['tastings'],\n",
              " ['and'],\n",
              " ['drinks'],\n",
              " ['and'],\n",
              " ['Jeff'],\n",
              " ['went'],\n",
              " ['above'],\n",
              " ['and'],\n",
              " ['beyond'],\n",
              " ['what'],\n",
              " ['we'],\n",
              " ['expected'],\n",
              " ['Really'],\n",
              " ['really'],\n",
              " ['good'],\n",
              " ['rice'],\n",
              " ['all'],\n",
              " ['the'],\n",
              " ['time'],\n",
              " ['The'],\n",
              " ['service'],\n",
              " ['was'],\n",
              " ['meh'],\n",
              " ['It'],\n",
              " ['took'],\n",
              " ['over'],\n",
              " ['min'],\n",
              " ['to'],\n",
              " ['get'],\n",
              " ['their'],\n",
              " ['milkshake'],\n",
              " ['which'],\n",
              " ['was'],\n",
              " ['nothing'],\n",
              " ['more'],\n",
              " ['than'],\n",
              " ['chocolate'],\n",
              " ['milk'],\n",
              " ['guess'],\n",
              " ['should'],\n",
              " ['have'],\n",
              " ['known'],\n",
              " ['that'],\n",
              " ['this'],\n",
              " ['place'],\n",
              " ['would'],\n",
              " ['suck'],\n",
              " ['because'],\n",
              " ['it'],\n",
              " ['is'],\n",
              " ['inside'],\n",
              " ['of'],\n",
              " ['the'],\n",
              " ['Excalibur'],\n",
              " ['but'],\n",
              " ['didn', 't'],\n",
              " ['use'],\n",
              " ['my'],\n",
              " ['common'],\n",
              " ['sense'],\n",
              " ['The'],\n",
              " ['scallop'],\n",
              " ['dish'],\n",
              " ['is'],\n",
              " ['quite'],\n",
              " ['appalling'],\n",
              " ['for'],\n",
              " ['value'],\n",
              " ['as'],\n",
              " ['well'],\n",
              " ['times'],\n",
              " ['Very'],\n",
              " ['Bad'],\n",
              " ['Customer'],\n",
              " ['Service'],\n",
              " ['The'],\n",
              " ['sweet'],\n",
              " ['potato'],\n",
              " ['fries'],\n",
              " ['were'],\n",
              " ['very'],\n",
              " ['good'],\n",
              " ['and'],\n",
              " ['seasoned'],\n",
              " ['well'],\n",
              " ['Today'],\n",
              " ['is'],\n",
              " ['the'],\n",
              " ['second'],\n",
              " ['time'],\n",
              " ['I', 've'],\n",
              " ['been'],\n",
              " ['to'],\n",
              " ['their'],\n",
              " ['lunch'],\n",
              " ['buffet'],\n",
              " ['and'],\n",
              " ['it'],\n",
              " ['was'],\n",
              " ['pretty'],\n",
              " ['good'],\n",
              " ['There'],\n",
              " ['is'],\n",
              " ['so'],\n",
              " ['much'],\n",
              " ['good'],\n",
              " ['food'],\n",
              " ['in'],\n",
              " ['Vegas'],\n",
              " ['that'],\n",
              " ['feel'],\n",
              " ['cheated'],\n",
              " ['for'],\n",
              " ['wasting'],\n",
              " ['an'],\n",
              " ['eating'],\n",
              " ['opportunity'],\n",
              " ['by'],\n",
              " ['going'],\n",
              " ['to'],\n",
              " ['Rice'],\n",
              " ['and'],\n",
              " ['Company'],\n",
              " ['Coming'],\n",
              " ['here'],\n",
              " ['is'],\n",
              " ['like'],\n",
              " ['experiencing'],\n",
              " ['an'],\n",
              " ['underwhelming'],\n",
              " ['relationship'],\n",
              " ['where'],\n",
              " ['both'],\n",
              " ['parties'],\n",
              " ['can', 't'],\n",
              " ['wait'],\n",
              " ['for'],\n",
              " ['the'],\n",
              " ['other'],\n",
              " ['person'],\n",
              " ['to'],\n",
              " ['ask'],\n",
              " ['to'],\n",
              " ['break'],\n",
              " ['up'],\n",
              " ['walked'],\n",
              " ['in'],\n",
              " ['and'],\n",
              " ['the'],\n",
              " ['place'],\n",
              " ['smelled'],\n",
              " ['like'],\n",
              " ['an'],\n",
              " ['old'],\n",
              " ['grease'],\n",
              " ['trap'],\n",
              " ['and'],\n",
              " ['only'],\n",
              " ['others'],\n",
              " ['there'],\n",
              " ['eating'],\n",
              " ['The'],\n",
              " ['turkey'],\n",
              " ['and'],\n",
              " ['roast'],\n",
              " ['beef'],\n",
              " ['were'],\n",
              " ['bland'],\n",
              " ['This'],\n",
              " ['place'],\n",
              " ['has'],\n",
              " ['it'],\n",
              " ['The'],\n",
              " ['pan'],\n",
              " ['cakes'],\n",
              " ['everyone'],\n",
              " ['are'],\n",
              " ['raving'],\n",
              " ['about'],\n",
              " ['taste'],\n",
              " ['like'],\n",
              " ['sugary'],\n",
              " ['disaster'],\n",
              " ['tailored'],\n",
              " ['to'],\n",
              " ['the'],\n",
              " ['palate'],\n",
              " ['of'],\n",
              " ['six'],\n",
              " ['year'],\n",
              " ['old'],\n",
              " ['love'],\n",
              " ['the'],\n",
              " ['Pho'],\n",
              " ['and'],\n",
              " ['the'],\n",
              " ['spring'],\n",
              " ['rolls'],\n",
              " ['oh'],\n",
              " ['so'],\n",
              " ['yummy'],\n",
              " ['you'],\n",
              " ['have'],\n",
              " ['to'],\n",
              " ['try'],\n",
              " ['The'],\n",
              " ['poor'],\n",
              " ['batter'],\n",
              " ['to'],\n",
              " ['meat'],\n",
              " ['ratio'],\n",
              " ['made'],\n",
              " ['the'],\n",
              " ['chicken'],\n",
              " ['tenders'],\n",
              " ['very'],\n",
              " ['unsatisfying'],\n",
              " ['All'],\n",
              " ['have'],\n",
              " ['to'],\n",
              " ['say'],\n",
              " ['is'],\n",
              " ['the'],\n",
              " ['food'],\n",
              " ['was'],\n",
              " ['amazing'],\n",
              " ['Omelets'],\n",
              " ['are'],\n",
              " ['to'],\n",
              " ['die'],\n",
              " ['for'],\n",
              " ['Everything'],\n",
              " ['was'],\n",
              " ['fresh'],\n",
              " ['and'],\n",
              " ['delicious'],\n",
              " ['In'],\n",
              " ['summary'],\n",
              " ['this'],\n",
              " ['was'],\n",
              " ['largely'],\n",
              " ['disappointing'],\n",
              " ['dining'],\n",
              " ['experience'],\n",
              " ['It', 's'],\n",
              " ['like'],\n",
              " ['really'],\n",
              " ['sexy'],\n",
              " ['party'],\n",
              " ['in'],\n",
              " ['your'],\n",
              " ['mouth'],\n",
              " ['where'],\n",
              " ['you', 're'],\n",
              " ['outrageously'],\n",
              " ['flirting'],\n",
              " ['with'],\n",
              " ['the'],\n",
              " ['hottest'],\n",
              " ['person'],\n",
              " ['at'],\n",
              " ['the'],\n",
              " ['party'],\n",
              " ['Never'],\n",
              " ['been'],\n",
              " ['to'],\n",
              " ['Hard'],\n",
              " ['Rock'],\n",
              " ['Casino'],\n",
              " ['before'],\n",
              " ['Best'],\n",
              " ['breakfast'],\n",
              " ['buffet'],\n",
              " ['say'],\n",
              " ['bye'],\n",
              " ['bye'],\n",
              " ['to'],\n",
              " ['your'],\n",
              " ['tip'],\n",
              " ['lady'],\n",
              " ['We', 'll'],\n",
              " ['never'],\n",
              " ['go'],\n",
              " ['again'],\n",
              " ['Will'],\n",
              " ['be'],\n",
              " ['back'],\n",
              " ['again'],\n",
              " ['Food'],\n",
              " ['arrived'],\n",
              " ['quickly'],\n",
              " ['It'],\n",
              " ['was'],\n",
              " ['not'],\n",
              " ['good'],\n",
              " ['On'],\n",
              " ['the'],\n",
              " ['up'],\n",
              " ['side'],\n",
              " ['their'],\n",
              " ...]"
            ]
          },
          "metadata": {},
          "execution_count": 47
        }
      ]
    },
    {
      "cell_type": "code",
      "source": [
        "print (\"Se encontraron\",len(searched_items), \"palabras\")"
      ],
      "metadata": {
        "colab": {
          "base_uri": "https://localhost:8080/"
        },
        "id": "LrrADpvt8X6q",
        "outputId": "7cda589f-1b7a-4020-b636-f9ec49ab8f17"
      },
      "execution_count": null,
      "outputs": [
        {
          "output_type": "stream",
          "name": "stdout",
          "text": [
            "Se encontraron 10112 palabras\n"
          ]
        }
      ]
    },
    {
      "cell_type": "markdown",
      "source": [
        "*   **Pregunta 11.**  \n",
        "\n",
        "Busca e imprime la secuencia de dos o más palabras que están separadas por un guion, \"-\", sin que tengan espacios en blanco entre ellas.\n",
        "\n",
        "Por ejemplo \"Go-Kart\" sería válido, pero \"Go  -Kart\" o \"Go  -  Kart\" no lo serían. \n",
        "\n",
        "Indica la cantidad de resultados obtenidos."
      ],
      "metadata": {
        "id": "u7nfm4KhMrNW"
      }
    },
    {
      "cell_type": "code",
      "source": [
        "searched_items=[]"
      ],
      "metadata": {
        "id": "OwU-a7eGMsub"
      },
      "execution_count": null,
      "outputs": []
    },
    {
      "cell_type": "code",
      "source": [
        "for i in range(len(docs)):\n",
        "  if re.findall(r\"\\w+-\\w+\", docs[i]):\n",
        "        lista = re.findall(r\"\\w+-\\w+\",docs[i])\n",
        "        searched_items.append(re.findall(r\"\\w+-\\w+\",docs[i]))\n"
      ],
      "metadata": {
        "id": "SgzIL74ZMtGw"
      },
      "execution_count": null,
      "outputs": []
    },
    {
      "cell_type": "code",
      "source": [
        "searched_items"
      ],
      "metadata": {
        "colab": {
          "base_uri": "https://localhost:8080/"
        },
        "id": "5k2IZ5sKeN6r",
        "outputId": "70ee4b60-754b-476d-b918-2393cf502cf7"
      },
      "execution_count": null,
      "outputs": [
        {
          "output_type": "execute_result",
          "data": {
            "text/plain": [
              "[['flat-lined'],\n",
              " ['hands-down'],\n",
              " ['must-stop'],\n",
              " ['sub-par'],\n",
              " ['Service-check'],\n",
              " ['in-house'],\n",
              " ['been-stepped', 'in-and', 'tracked-everywhere'],\n",
              " ['multi-grain'],\n",
              " ['to-go'],\n",
              " ['non-customer'],\n",
              " ['High-quality'],\n",
              " ['sit-down'],\n",
              " ['over-whelm'],\n",
              " ['low-key', 'non-fancy'],\n",
              " ['golden-crispy'],\n",
              " ['over-priced', 'over-hip', 'under-services']]"
            ]
          },
          "metadata": {},
          "execution_count": 51
        }
      ]
    },
    {
      "cell_type": "code",
      "source": [
        "print (\"Se encontraron\",len(searched_items), \"palabras\")"
      ],
      "metadata": {
        "colab": {
          "base_uri": "https://localhost:8080/"
        },
        "id": "dJfkdiqJe8Sr",
        "outputId": "f3e320d4-89dd-40ba-9207-9ec537942eef"
      },
      "execution_count": null,
      "outputs": [
        {
          "output_type": "stream",
          "name": "stdout",
          "text": [
            "Se encontraron 16 palabras\n"
          ]
        }
      ]
    },
    {
      "cell_type": "markdown",
      "source": [
        "*   **Pregunta 12.**  \n",
        "\n",
        "Busca e imprime todas las palabras que terminan en \"ing\" o \"ed\". \n",
        "\n",
        "Indica la cantidad de palabras que encontraste de cada una."
      ],
      "metadata": {
        "id": "DEIgl79HMthr"
      }
    },
    {
      "cell_type": "code",
      "source": [
        "searched_items=[]"
      ],
      "metadata": {
        "id": "I4TSofBMMv9y"
      },
      "execution_count": null,
      "outputs": []
    },
    {
      "cell_type": "code",
      "source": [
        "for i in range(len(docs)):\n",
        "  if re.findall(r\"\\w+(?:ing|ed)\", docs[i]):\n",
        "    lista = re.findall(r\"\\w+(?:ing|ed)\",docs[i])\n",
        "    for j in range(len(lista)):\n",
        "      searched_items.append(re.findall(\"\\w+(?:ing|ed)\",lista[j]))\n",
        "\n",
        "  "
      ],
      "metadata": {
        "id": "AhGq6De2Mvyh"
      },
      "execution_count": null,
      "outputs": []
    },
    {
      "cell_type": "code",
      "source": [
        "searched_items"
      ],
      "metadata": {
        "colab": {
          "base_uri": "https://localhost:8080/"
        },
        "id": "UFr8xPiIryoH",
        "outputId": "404e765a-00f1-44fc-e1ff-b831cfa1a409"
      },
      "execution_count": null,
      "outputs": [
        {
          "output_type": "execute_result",
          "data": {
            "text/plain": [
              "[['Loved'],\n",
              " ['Stopped'],\n",
              " ['during'],\n",
              " ['loved'],\n",
              " ['getting'],\n",
              " ['being'],\n",
              " ['ended'],\n",
              " ['being'],\n",
              " ['overpriced'],\n",
              " ['tried'],\n",
              " ['disgusted'],\n",
              " ['shocked'],\n",
              " ['recommended'],\n",
              " ['amazing'],\n",
              " ['performed'],\n",
              " ['red'],\n",
              " ['asked'],\n",
              " ['running'],\n",
              " ['overwhelmed'],\n",
              " ['redeeming'],\n",
              " ['grossed'],\n",
              " ['melted'],\n",
              " ['getting'],\n",
              " ['provided'],\n",
              " ['thing'],\n",
              " ['cooked'],\n",
              " ['dressing'],\n",
              " ['refreshing'],\n",
              " ['ordered'],\n",
              " ['running'],\n",
              " ['realized'],\n",
              " ['Loved'],\n",
              " ['lined'],\n",
              " ['string'],\n",
              " ['cooked'],\n",
              " ['ripped'],\n",
              " ['ripped'],\n",
              " ['petrified'],\n",
              " ['Gring'],\n",
              " ['amazing'],\n",
              " ['included'],\n",
              " ['tasting'],\n",
              " ['expected'],\n",
              " ['nothing'],\n",
              " ['appalling'],\n",
              " ['seasoned'],\n",
              " ['cheated'],\n",
              " ['wasting'],\n",
              " ['eating'],\n",
              " ['going'],\n",
              " ['Coming'],\n",
              " ['experiencing'],\n",
              " ['underwhelming'],\n",
              " ['walked'],\n",
              " ['smelled'],\n",
              " ['eating'],\n",
              " ['raving'],\n",
              " ['tailored'],\n",
              " ['spring'],\n",
              " ['unsatisfying'],\n",
              " ['amazing'],\n",
              " ['Everything'],\n",
              " ['disappointing'],\n",
              " ['dining'],\n",
              " ['flirting'],\n",
              " ['arrived'],\n",
              " ['roasted'],\n",
              " ['added'],\n",
              " ['thing'],\n",
              " ['coming'],\n",
              " ['cooked'],\n",
              " ['red'],\n",
              " ['playing'],\n",
              " ['passed'],\n",
              " ['ordering'],\n",
              " ['arriving'],\n",
              " ['liked'],\n",
              " ['disappointing'],\n",
              " ['managed'],\n",
              " ['served'],\n",
              " ['preparing'],\n",
              " ['loving'],\n",
              " ['liking'],\n",
              " ['reviewing'],\n",
              " ['venturing'],\n",
              " ['overpriced'],\n",
              " ['med'],\n",
              " ['including'],\n",
              " ['during'],\n",
              " ['checked'],\n",
              " ['disappointed'],\n",
              " ['red'],\n",
              " ['decorated'],\n",
              " ['changing'],\n",
              " ['going'],\n",
              " ['considering'],\n",
              " ['served'],\n",
              " ['coming'],\n",
              " ['watched'],\n",
              " ['greeted'],\n",
              " ['seated'],\n",
              " ['waited'],\n",
              " ['flavored'],\n",
              " ['ordered'],\n",
              " ['going'],\n",
              " ['everything'],\n",
              " ['ordered'],\n",
              " ['relocated'],\n",
              " ['impressed'],\n",
              " ['seated'],\n",
              " ['immed'],\n",
              " ['priced'],\n",
              " ['looking'],\n",
              " ['treated'],\n",
              " ['ordered'],\n",
              " ['ingred'],\n",
              " ['dressing'],\n",
              " ['dining'],\n",
              " ['used'],\n",
              " ['handed'],\n",
              " ['listed'],\n",
              " ['missed'],\n",
              " ['Everything'],\n",
              " ['thrilled'],\n",
              " ['amazing'],\n",
              " ['judging'],\n",
              " ['inspired'],\n",
              " ['desired'],\n",
              " ['maintaining'],\n",
              " ['asking'],\n",
              " ['overcooked'],\n",
              " ['decided'],\n",
              " ['looked'],\n",
              " ['having'],\n",
              " ['dressed'],\n",
              " ['treated'],\n",
              " ['something'],\n",
              " ['lacking'],\n",
              " ['ordered'],\n",
              " ['incred'],\n",
              " ['sucked'],\n",
              " ['expected'],\n",
              " ['sucked'],\n",
              " ['imagined'],\n",
              " ['Interesting'],\n",
              " ['served'],\n",
              " ['preparing'],\n",
              " ['arrived'],\n",
              " ['missing'],\n",
              " ['wing'],\n",
              " ['feeling'],\n",
              " ['satisfied'],\n",
              " ['voted'],\n",
              " ['insulted'],\n",
              " ['disrespected'],\n",
              " ['thing'],\n",
              " ['exceeding'],\n",
              " ['dreamed'],\n",
              " ['inviting'],\n",
              " ['lived'],\n",
              " ['stepped'],\n",
              " ['mixed'],\n",
              " ['showed'],\n",
              " ['climbing'],\n",
              " ['waiting'],\n",
              " ['realized'],\n",
              " ['coming'],\n",
              " ['loved'],\n",
              " ['according'],\n",
              " ['being'],\n",
              " ['lacking'],\n",
              " ['needed'],\n",
              " ['going'],\n",
              " ['loved'],\n",
              " ['wrapped'],\n",
              " ['uninspired'],\n",
              " ['amazing'],\n",
              " ['dealing'],\n",
              " ['annoying'],\n",
              " ['Ordered'],\n",
              " ['sing'],\n",
              " ['falling'],\n",
              " ['uploaded'],\n",
              " ['sporting'],\n",
              " ['covered'],\n",
              " ['supposed'],\n",
              " ['amazing'],\n",
              " ['rolled'],\n",
              " ['stayed'],\n",
              " ['providing'],\n",
              " ['building'],\n",
              " ['lighting'],\n",
              " ['Based'],\n",
              " ['received'],\n",
              " ['going'],\n",
              " ['nothing'],\n",
              " ['privileged'],\n",
              " ['working'],\n",
              " ['eating'],\n",
              " ['dressing'],\n",
              " ['being'],\n",
              " ['charged'],\n",
              " ['visited'],\n",
              " ['proclaimed'],\n",
              " ['disappointed'],\n",
              " ['Stopped'],\n",
              " ['dedicated'],\n",
              " ['liked'],\n",
              " ['outstanding'],\n",
              " ['getting'],\n",
              " ['disappointed'],\n",
              " ['waited'],\n",
              " ['waited'],\n",
              " ['wing'],\n",
              " ['Thing'],\n",
              " ['burned'],\n",
              " ['waited'],\n",
              " ['amazing'],\n",
              " ['disappointed'],\n",
              " ['Waited'],\n",
              " ['incred'],\n",
              " ['disappointed'],\n",
              " ['pulled'],\n",
              " ['incred'],\n",
              " ['prepared'],\n",
              " ['rating'],\n",
              " ['eating'],\n",
              " ['writing'],\n",
              " ['everything'],\n",
              " ['dining'],\n",
              " ['fried'],\n",
              " ['boring'],\n",
              " ['greed'],\n",
              " ['passed'],\n",
              " ['charming'],\n",
              " ['ordered'],\n",
              " ['toasted'],\n",
              " ['untoasted'],\n",
              " ['going'],\n",
              " ['figured'],\n",
              " ['making'],\n",
              " ['pricing'],\n",
              " ['considering'],\n",
              " ['returned'],\n",
              " ['amazing'],\n",
              " ['eyed'],\n",
              " ['disappointed'],\n",
              " ['immed'],\n",
              " ['pleased'],\n",
              " ['Everything'],\n",
              " ['replenished'],\n",
              " ['disappointed'],\n",
              " ['nothing'],\n",
              " ['nothing'],\n",
              " ['driving'],\n",
              " ['treated'],\n",
              " ['during'],\n",
              " ['evening'],\n",
              " ['offered'],\n",
              " ['Outstanding'],\n",
              " ['tasted'],\n",
              " ['buying'],\n",
              " ['handling'],\n",
              " ['wasting'],\n",
              " ['craving'],\n",
              " ['dropped'],\n",
              " ['dining'],\n",
              " ['decorated'],\n",
              " ['med'],\n",
              " ['interesting'],\n",
              " ['amazing'],\n",
              " ['being'],\n",
              " ['served'],\n",
              " ['outshining'],\n",
              " ['starving'],\n",
              " ['coming'],\n",
              " ['walked'],\n",
              " ['stuffed'],\n",
              " ['considering'],\n",
              " ['located'],\n",
              " ['shopping'],\n",
              " ['incred'],\n",
              " ['nothing'],\n",
              " ['bring'],\n",
              " ['Cooked'],\n",
              " ['disappointed'],\n",
              " ['getting'],\n",
              " ['screwed'],\n",
              " ['frustrated'],\n",
              " ['iced'],\n",
              " ['stuffed'],\n",
              " ['disappointed'],\n",
              " ['trying'],\n",
              " ['grossed'],\n",
              " ['enjoyed'],\n",
              " ['eating'],\n",
              " ['going'],\n",
              " ['looked'],\n",
              " ['overwhelmed'],\n",
              " ['need'],\n",
              " ['stayed'],\n",
              " ['everything'],\n",
              " ['smeared'],\n",
              " ['stepped'],\n",
              " ['tracked'],\n",
              " ['tried'],\n",
              " ['rushed'],\n",
              " ['loved'],\n",
              " ['Ordered'],\n",
              " ['Nothing'],\n",
              " ['cooked'],\n",
              " ['going'],\n",
              " ['insulted'],\n",
              " ['wing'],\n",
              " ['contained'],\n",
              " ['enjoyed'],\n",
              " ['relaxed'],\n",
              " ['loved'],\n",
              " ['outstanding'],\n",
              " ['running'],\n",
              " ['acknowledged'],\n",
              " ['forgetting'],\n",
              " ['thing'],\n",
              " ['upgrading'],\n",
              " ['trimmed'],\n",
              " ['cooked'],\n",
              " ['claimed'],\n",
              " ['handled'],\n",
              " ['asked'],\n",
              " ['eating'],\n",
              " ['bring'],\n",
              " ['hoping'],\n",
              " ['living'],\n",
              " ['limited'],\n",
              " ['boiled'],\n",
              " ['dining'],\n",
              " ['liked'],\n",
              " ['sliced'],\n",
              " ['attached'],\n",
              " ['humiliated'],\n",
              " ['calling'],\n",
              " ['filling'],\n",
              " ['traged'],\n",
              " ['fried'],\n",
              " ['amazing'],\n",
              " ['thing'],\n",
              " ['incred'],\n",
              " ['impressed'],\n",
              " ['disappointed'],\n",
              " ['priced'],\n",
              " ['Everything'],\n",
              " ['fing'],\n",
              " ['disappointed'],\n",
              " ['thing'],\n",
              " ['amazing'],\n",
              " ['need'],\n",
              " ['Everything'],\n",
              " ['interesting'],\n",
              " ['need'],\n",
              " ['experienced'],\n",
              " ['amazing'],\n",
              " ['amazing'],\n",
              " ['waited'],\n",
              " ['seated'],\n",
              " ['waiting'],\n",
              " ['going'],\n",
              " ['going'],\n",
              " ['dining'],\n",
              " ['decided'],\n",
              " ['pleased'],\n",
              " ['saving'],\n",
              " ['something'],\n",
              " ['trying'],\n",
              " ['disgusting'],\n",
              " ['hankering'],\n",
              " ['recommended'],\n",
              " ['being'],\n",
              " ['helped'],\n",
              " ['need'],\n",
              " ['witnessed'],\n",
              " ['Waited'],\n",
              " ['waited'],\n",
              " ['waited'],\n",
              " ['checked'],\n",
              " ['tasted'],\n",
              " ['disappointed'],\n",
              " ['being'],\n",
              " ['served'],\n",
              " ['rated'],\n",
              " ['recommended'],\n",
              " ['pulled'],\n",
              " ['waited'],\n",
              " ['being'],\n",
              " ['acknowledged'],\n",
              " ['setting'],\n",
              " ['thing'],\n",
              " ['perpared'],\n",
              " ['dusted'],\n",
              " ['powdered'],\n",
              " ['wing'],\n",
              " ['enjoyed'],\n",
              " ['expanded'],\n",
              " ['sitting'],\n",
              " ['ended'],\n",
              " ['waiting'],\n",
              " ['arrived'],\n",
              " ['satisfying'],\n",
              " ['wanted'],\n",
              " ['disappointed'],\n",
              " ['eating'],\n",
              " ['need'],\n",
              " ['being'],\n",
              " ['freaking'],\n",
              " ['checked'],\n",
              " ['impressed'],\n",
              " ['reheated'],\n",
              " ['wed'],\n",
              " ['getting'],\n",
              " ['amazing'],\n",
              " ['tasted'],\n",
              " ['disappointing'],\n",
              " ['grilled'],\n",
              " ['seasoning'],\n",
              " ['going'],\n",
              " ['focused'],\n",
              " ['roasted'],\n",
              " ['asked'],\n",
              " ['being'],\n",
              " ['ignored'],\n",
              " ['bring'],\n",
              " ['letting'],\n",
              " ['tasted'],\n",
              " ['evening'],\n",
              " ['Ordered'],\n",
              " ['greeted'],\n",
              " ['seated'],\n",
              " ['Tried'],\n",
              " ['waiting'],\n",
              " ['being'],\n",
              " ['seated'],\n",
              " ['eating'],\n",
              " ['going'],\n",
              " ['Disappointed'],\n",
              " ['ordered'],\n",
              " ['constructed'],\n",
              " ['seating'],\n",
              " ['fried'],\n",
              " ['playing'],\n",
              " ['requested'],\n",
              " ['amazing'],\n",
              " ['staying'],\n",
              " ['ring'],\n",
              " ['used'],\n",
              " ['med'],\n",
              " ['tasted'],\n",
              " ['giving'],\n",
              " ['talking'],\n",
              " ['amazing'],\n",
              " ['drenched'],\n",
              " ['amazing'],\n",
              " ['amazing'],\n",
              " ['tried'],\n",
              " ['walked'],\n",
              " ['expected'],\n",
              " ['amazing'],\n",
              " ['disappointed'],\n",
              " ['mortified'],\n",
              " ['Need'],\n",
              " ['filling'],\n",
              " ['dripping'],\n",
              " ['impressed'],\n",
              " ['going'],\n",
              " ['serving'],\n",
              " ['refrained'],\n",
              " ['recommending'],\n",
              " ['pleased'],\n",
              " ['thing'],\n",
              " ['reading'],\n",
              " ['loved'],\n",
              " ['grilled'],\n",
              " ['reminded'],\n",
              " ['seating'],\n",
              " ['sucked'],\n",
              " ['hooked'],\n",
              " ['ordered'],\n",
              " ['going'],\n",
              " ['disappointed'],\n",
              " ['everything'],\n",
              " ['seasoned'],\n",
              " ['thing'],\n",
              " ['added'],\n",
              " ['sitting'],\n",
              " ['waiting'],\n",
              " ['bring'],\n",
              " ['revisiting'],\n",
              " ['coming'],\n",
              " ['touched'],\n",
              " ['speed'],\n",
              " ['anything'],\n",
              " ['fried'],\n",
              " ['opened'],\n",
              " ['impressed'],\n",
              " ['feeling'],\n",
              " ['during'],\n",
              " ['watched'],\n",
              " ['thing'],\n",
              " ['being'],\n",
              " ['Tasted'],\n",
              " ['amazing'],\n",
              " ['being'],\n",
              " ['amazing'],\n",
              " ['ordered'],\n",
              " ['satifying'],\n",
              " ['describing'],\n",
              " ['coming'],\n",
              " ['everything'],\n",
              " ['received'],\n",
              " ['Paying'],\n",
              " ['going'],\n",
              " ['Med'],\n",
              " ['impressed'],\n",
              " ['overcooked'],\n",
              " ['cooked'],\n",
              " ['sing'],\n",
              " ['needed'],\n",
              " ['served'],\n",
              " ['thing'],\n",
              " ['ordered'],\n",
              " ['amazing'],\n",
              " ['need'],\n",
              " ['overpriced'],\n",
              " ['packed'],\n",
              " ['getting'],\n",
              " ['opposed'],\n",
              " ['cramming'],\n",
              " ['priced'],\n",
              " ['surprised'],\n",
              " ['considering'],\n",
              " ['focused'],\n",
              " ['overpriced'],\n",
              " ['fucking'],\n",
              " ['tried'],\n",
              " ['enjoyed'],\n",
              " ['going'],\n",
              " ['qualified'],\n",
              " ['tasted'],\n",
              " ['hated'],\n",
              " ['appealing'],\n",
              " ['getting'],\n",
              " ['coming'],\n",
              " ['watched'],\n",
              " ['Everything'],\n",
              " ['fried'],\n",
              " ['dealing'],\n",
              " ['everything'],\n",
              " ['tried'],\n",
              " ['something'],\n",
              " ['during'],\n",
              " ['helped'],\n",
              " ['dining'],\n",
              " ['cooking'],\n",
              " ['dining'],\n",
              " ['started'],\n",
              " ['editing'],\n",
              " ['highlighted'],\n",
              " ['setting'],\n",
              " ['used'],\n",
              " ['amazing'],\n",
              " ['med'],\n",
              " ['enjoyed'],\n",
              " ['ordered'],\n",
              " ['tasted'],\n",
              " ['asked'],\n",
              " ['med'],\n",
              " ['refused'],\n",
              " ['warning'],\n",
              " ['tried'],\n",
              " ['Med'],\n",
              " ['rotating'],\n",
              " ['Pricing'],\n",
              " ['toasted'],\n",
              " ['satisfying'],\n",
              " ['anticipated'],\n",
              " ['disappointing'],\n",
              " ['amazing'],\n",
              " ['returning'],\n",
              " ['unexperienced'],\n",
              " ['running'],\n",
              " ['insulted'],\n",
              " ['disrespected'],\n",
              " ['being'],\n",
              " ['impressed'],\n",
              " ['thing'],\n",
              " ['puréed'],\n",
              " ['nothing'],\n",
              " ['poisoning'],\n",
              " ['thinking'],\n",
              " ['something'],\n",
              " ['Need'],\n",
              " ['going'],\n",
              " ['disgusting'],\n",
              " ['caring'],\n",
              " ['bring'],\n",
              " ['asked'],\n",
              " ['Disappointing'],\n",
              " ['med'],\n",
              " ['rated'],\n",
              " ['saying'],\n",
              " ['going'],\n",
              " ['lacked'],\n",
              " ['coming'],\n",
              " ['sliced'],\n",
              " ['pulled'],\n",
              " ['building'],\n",
              " ['seating'],\n",
              " ['undercooked'],\n",
              " ['dipping'],\n",
              " ['seemed'],\n",
              " ['watered'],\n",
              " ['lacked'],\n",
              " ['disappointed'],\n",
              " ['overpriced'],\n",
              " ['setting'],\n",
              " ['ensued'],\n",
              " ['anything'],\n",
              " ['bing'],\n",
              " ['drinking'],\n",
              " ['serving'],\n",
              " ['disappointed'],\n",
              " ['need'],\n",
              " ['placed'],\n",
              " ['avoided'],\n",
              " ['received'],\n",
              " ['immed'],\n",
              " ['wanted'],\n",
              " ['doing'],\n",
              " ['sucked'],\n",
              " ['happened'],\n",
              " ['putting'],\n",
              " ['owned'],\n",
              " ['wanted'],\n",
              " ['Overpriced'],\n",
              " ['getting'],\n",
              " ['vomited'],\n",
              " ['looking'],\n",
              " ['started'],\n",
              " ['coming'],\n",
              " ['unwrapped'],\n",
              " ['lacked'],\n",
              " ['seemed'],\n",
              " ['undercooked'],\n",
              " ['closed'],\n",
              " ['staying'],\n",
              " ['refried'],\n",
              " ['dried'],\n",
              " ['disappointed'],\n",
              " ['lacking'],\n",
              " ['impressed'],\n",
              " ['underwhelming'],\n",
              " ['wasted'],\n",
              " ['poured'],\n",
              " ['drawing'],\n",
              " ['bring']]"
            ]
          },
          "metadata": {},
          "execution_count": 67
        }
      ]
    },
    {
      "cell_type": "code",
      "source": [
        "print (\"Se encontraron\",len(searched_items), \"palabras\")"
      ],
      "metadata": {
        "colab": {
          "base_uri": "https://localhost:8080/"
        },
        "id": "e2D7HSDGsQcQ",
        "outputId": "38b313d9-da31-4e90-9e7f-8c97e631c960"
      },
      "execution_count": null,
      "outputs": [
        {
          "output_type": "stream",
          "name": "stdout",
          "text": [
            "Se encontraron 663 palabras\n"
          ]
        }
      ]
    },
    {
      "cell_type": "markdown",
      "source": [
        "#**Parte 3. Proceso de limpieza.**"
      ],
      "metadata": {
        "id": "70StdqAZa9E9"
      }
    },
    {
      "cell_type": "markdown",
      "source": [
        "*   **Pregunta 13.**  \n",
        "\n",
        "Ahora realiza un proceso de limpieza del corpus que incluya los siguientes procesos:\n",
        "\n",
        "*   Solo se deben considerar caracteres alfabéticos. Es decir, se eliminan todos los signos de puntuación y caracteres especiales.\n",
        "*   Todos los caracteres alfabéticos se transforman a minúsculas.\n",
        "*   Se deben eliminar todos los espacios en blanco adicionales que se puedan encontrar en cada comentario.\n",
        "\n",
        "Al finalizar dicho proceso de limpieza, imprime el resultado de los primeros 10 comentarios resultantes. \n",
        "   \n",
        "\n",
        "\n"
      ],
      "metadata": {
        "id": "xaDUFXHrMvX2"
      }
    },
    {
      "cell_type": "code",
      "source": [
        "corpus_limpio=[]"
      ],
      "metadata": {
        "id": "kIzZARDbDgLQ"
      },
      "execution_count": null,
      "outputs": []
    },
    {
      "cell_type": "code",
      "source": [
        "for i in range(len(docs)):\n",
        "    corpus_limpio.append(re.findall(r\"\\w+(?:\\w+)*\",docs[i].lower()))\n",
        "    \n",
        "    "
      ],
      "metadata": {
        "id": "K3kQzPOPMx0w"
      },
      "execution_count": null,
      "outputs": []
    },
    {
      "cell_type": "code",
      "source": [
        "corpus_limpio[0:10]"
      ],
      "metadata": {
        "id": "mYEDlHSFMyJN",
        "colab": {
          "base_uri": "https://localhost:8080/"
        },
        "outputId": "4a101bfa-190d-4dc1-fed9-7c43cc37e29f"
      },
      "execution_count": null,
      "outputs": [
        {
          "output_type": "execute_result",
          "data": {
            "text/plain": [
              "[['wow', 'loved', 'this', 'place'],\n",
              " ['crust', 'is', 'not', 'good'],\n",
              " ['not', 'tasty', 'and', 'the', 'texture', 'was', 'just', 'nasty'],\n",
              " ['stopped',\n",
              "  'by',\n",
              "  'during',\n",
              "  'the',\n",
              "  'late',\n",
              "  'may',\n",
              "  'bank',\n",
              "  'holiday',\n",
              "  'off',\n",
              "  'rick',\n",
              "  'steve',\n",
              "  'recommendation',\n",
              "  'and',\n",
              "  'loved',\n",
              "  'it'],\n",
              " ['the',\n",
              "  'selection',\n",
              "  'on',\n",
              "  'the',\n",
              "  'menu',\n",
              "  'was',\n",
              "  'great',\n",
              "  'and',\n",
              "  'so',\n",
              "  'were',\n",
              "  'the',\n",
              "  'prices'],\n",
              " ['now',\n",
              "  'i',\n",
              "  'am',\n",
              "  'getting',\n",
              "  'angry',\n",
              "  'and',\n",
              "  'i',\n",
              "  'want',\n",
              "  'my',\n",
              "  'damn',\n",
              "  'pho'],\n",
              " ['honeslty', 'it', 'didn', 't', 'taste', 'that', 'fresh'],\n",
              " ['the',\n",
              "  'potatoes',\n",
              "  'were',\n",
              "  'like',\n",
              "  'rubber',\n",
              "  'and',\n",
              "  'you',\n",
              "  'could',\n",
              "  'tell',\n",
              "  'they',\n",
              "  'had',\n",
              "  'been',\n",
              "  'made',\n",
              "  'up',\n",
              "  'ahead',\n",
              "  'of',\n",
              "  'time',\n",
              "  'being',\n",
              "  'kept',\n",
              "  'under',\n",
              "  'a',\n",
              "  'warmer'],\n",
              " ['the', 'fries', 'were', 'great', 'too'],\n",
              " ['a', 'great', 'touch']]"
            ]
          },
          "metadata": {},
          "execution_count": 275
        }
      ]
    },
    {
      "cell_type": "markdown",
      "source": [
        "*   **Pregunta 14.**  \n",
        "\n",
        "Con el resultado de la limpieza obtenido en la pregunta anterior, realiza ahora un proceso de tokenización por palabras del corpus. \n",
        "\n",
        "Es decir, al final de este proceso de tokenización, debes tener como resultado una lista de listas, donde cada comentario estará tokenizado por palabras.\n",
        "\n",
        "Al terminar calcula el total de tokens obtenido en todo el corpus. "
      ],
      "metadata": {
        "id": "WZwEhg2lUSAX"
      }
    },
    {
      "cell_type": "code",
      "source": [
        "lista_tokens=[]"
      ],
      "metadata": {
        "id": "alu_oQH-NZxv"
      },
      "execution_count": null,
      "outputs": []
    },
    {
      "cell_type": "code",
      "source": [
        "for i in range(len(docs)):\n",
        "    lista = (re.findall(r\"\\w+(?:\\w+)*\",docs[i].lower()))\n",
        "    #enseguida contamos el numero de tokens/palabras \n",
        "    for j in range(len(lista)):\n",
        "      lista_tokens.append(re.findall(r\"\\w+(?:\\w+)*\",lista[j]))\n",
        "\n",
        "    "
      ],
      "metadata": {
        "id": "0arB4_SwNbDo"
      },
      "execution_count": null,
      "outputs": []
    },
    {
      "cell_type": "code",
      "source": [
        "print (\"Se encontraron\",len(lista_tokens), \"tokens\")"
      ],
      "metadata": {
        "id": "kbAL9-v0V-jx",
        "colab": {
          "base_uri": "https://localhost:8080/"
        },
        "outputId": "54b86b97-a608-407f-9ce1-ba34f2c3b2b4"
      },
      "execution_count": null,
      "outputs": [
        {
          "output_type": "stream",
          "name": "stdout",
          "text": [
            "Se encontraron 11114 tokens\n"
          ]
        }
      ]
    },
    {
      "cell_type": "code",
      "source": [
        "lista_tokens [0:16]#vemos aqui los primeros 16"
      ],
      "metadata": {
        "id": "DZs_etmiV-fd",
        "colab": {
          "base_uri": "https://localhost:8080/"
        },
        "outputId": "5b68da4c-0a81-4b63-ba59-d1873091f1f1"
      },
      "execution_count": null,
      "outputs": [
        {
          "output_type": "execute_result",
          "data": {
            "text/plain": [
              "[['wow'],\n",
              " ['loved'],\n",
              " ['this'],\n",
              " ['place'],\n",
              " ['crust'],\n",
              " ['is'],\n",
              " ['not'],\n",
              " ['good'],\n",
              " ['not'],\n",
              " ['tasty'],\n",
              " ['and'],\n",
              " ['the'],\n",
              " ['texture'],\n",
              " ['was'],\n",
              " ['just'],\n",
              " ['nasty']]"
            ]
          },
          "metadata": {},
          "execution_count": 281
        }
      ]
    },
    {
      "cell_type": "markdown",
      "source": [
        "*   **Pregunta 15.**  \n",
        "\n",
        "Finalmente, en este ejercicio definiremos nuestro conjunto de palabras \"stopwords\", las cuales deberás eliminar de todo el corpus. \n",
        "\n",
        "Recuerda que ejemplos de stopwords son artículos, adverbios, conectivos, etcétera, que tienen frecuencias de aparición muy altas en cualquier documento, pero que no brindan mucho significado en cuanto al significado de un enunciado.\n",
        "\n",
        "Con base a la lista de stopwords que se te proporciona, realiza un proceso de limpieza eliminando todas estas palabras del corpus obtenido en el ejercicio anterior.\n",
        "\n",
        "Obtener cuántos tokens/palabras quedan finalmente en todo el corpus.\n",
        "\n",
        "Obtener cuántos de estos tokens/palabras son diferentes, es decir, cuántos tokens únicos tendrá lo que llamaremos más adelante nuestro vocabulario."
      ],
      "metadata": {
        "id": "EFeu0OJ7WDPD"
      }
    },
    {
      "cell_type": "code",
      "source": [
        "# Considera la siguiente lista como tu conjunto de stopwords:\n",
        "mis_stopwords = ['i', 'me', 'my', 'myself', 'we', 'our', 'ours', 'ourselves', 'you', 'your', 'yours', 'he', 'him', 'his', 'himself', 'she', 'her', 'hers', 'herself', 'it', 'its', 'itself', 'they', 'them', 'their', 'theirs', 'themselves', 'what', 'which', 'who', 'whom', 'this', 'that', 'these', 'those', 'am', 'is', 'are', 'was', 'were', 'be', 'been', 'being', 'have', 'has', 'had', 'having', 'do', 'does', 'did', 'doing', 'a', 'an', 'the', 'and', 'but', 'if', 'or', 'because', 'as', 'until', 'while', 'of', 'at', 'by', 'for', 'with', 'about', 'against', 'between', 'into', 'through', 'during', 'before', 'after', 'above', 'below', 'to', 'from', 'up', 'down', 'in', 'out', 'on', 'over', 'under', 'again', 'further', 'then', 'once', 'here', 'there', 'when', 'where', 'why', 'how', 'all', 'any', 'both', 'each', 'few', 'more', 'most', 'other', 'some', 'such', 'only', 'own', 'same', 'so', 'than', 'too', 'very', 's', 't', 'can', 'will', 'just', 'should', 'now', 'll']"
      ],
      "metadata": {
        "id": "6FP4FF3KXGxm"
      },
      "execution_count": null,
      "outputs": []
    },
    {
      "cell_type": "code",
      "source": [
        "Xclean = []\n",
        "\n",
        "for x in corpus_limpio:\n",
        "  for t in x:\n",
        "    if t in mis_stopwords:    \n",
        "      x.remove(t)           # aquellos tokens que estén en los stopwords, las removemos.\n",
        "  Xclean.append(x)\n"
      ],
      "metadata": {
        "id": "jCEw--G0ZWQm"
      },
      "execution_count": null,
      "outputs": []
    },
    {
      "cell_type": "code",
      "source": [
        "len(Xclean)"
      ],
      "metadata": {
        "colab": {
          "base_uri": "https://localhost:8080/"
        },
        "id": "iqNlqyvSrr-I",
        "outputId": "1b24a0fd-078e-49e2-b0ac-1641f4f08b74"
      },
      "execution_count": null,
      "outputs": [
        {
          "output_type": "execute_result",
          "data": {
            "text/plain": [
              "1000"
            ]
          },
          "metadata": {},
          "execution_count": 284
        }
      ]
    },
    {
      "cell_type": "code",
      "source": [
        "Xclean[0:100]"
      ],
      "metadata": {
        "colab": {
          "base_uri": "https://localhost:8080/"
        },
        "id": "0hO0eo6etvnA",
        "outputId": "23b1fc37-7360-4854-b249-29433e6f4406"
      },
      "execution_count": null,
      "outputs": [
        {
          "output_type": "execute_result",
          "data": {
            "text/plain": [
              "[['wow', 'loved', 'place'],\n",
              " ['crust', 'not', 'good'],\n",
              " ['not', 'tasty', 'the', 'texture', 'just', 'nasty'],\n",
              " ['stopped',\n",
              "  'during',\n",
              "  'late',\n",
              "  'may',\n",
              "  'bank',\n",
              "  'holiday',\n",
              "  'off',\n",
              "  'rick',\n",
              "  'steve',\n",
              "  'recommendation',\n",
              "  'loved'],\n",
              " ['selection', 'the', 'menu', 'great', 'so', 'the', 'prices'],\n",
              " ['i', 'getting', 'angry', 'i', 'want', 'damn', 'pho'],\n",
              " ['honeslty', 'didn', 'taste', 'fresh'],\n",
              " ['potatoes',\n",
              "  'like',\n",
              "  'rubber',\n",
              "  'you',\n",
              "  'could',\n",
              "  'tell',\n",
              "  'had',\n",
              "  'made',\n",
              "  'ahead',\n",
              "  'time',\n",
              "  'kept',\n",
              "  'a',\n",
              "  'warmer'],\n",
              " ['fries', 'great'],\n",
              " ['great', 'touch'],\n",
              " ['service', 'very', 'prompt'],\n",
              " ['would', 'not', 'go', 'back'],\n",
              " ['cashier',\n",
              "  'no',\n",
              "  'care',\n",
              "  'so',\n",
              "  'ever',\n",
              "  'what',\n",
              "  'had',\n",
              "  'say',\n",
              "  'still',\n",
              "  'ended',\n",
              "  'being',\n",
              "  'wayyy',\n",
              "  'overpriced'],\n",
              " ['tried', 'cape', 'cod', 'ravoli', 'chicken', 'cranberry', 'mmmm'],\n",
              " ['disgusted', 'i', 'was', 'pretty', 'sure', 'was', 'human', 'hair'],\n",
              " ['was', 'shocked', 'no', 'signs', 'indicate', 'cash'],\n",
              " ['highly', 'recommended'],\n",
              " ['waitress', 'a', 'little', 'slow', 'service'],\n",
              " ['place', 'not', 'worth', 'time', 'let', 'alone', 'vegas'],\n",
              " ['not', 'like', 'all'],\n",
              " ['burrittos', 'blah'],\n",
              " ['food', 'amazing'],\n",
              " ['service', 'also', 'cute'],\n",
              " ['could', 'care', 'less', 'interior', 'just', 'beautiful'],\n",
              " ['they', 'performed'],\n",
              " ['s', 'right', 'red', 'velvet', 'cake', 'ohhh', 'stuff', 'so', 'good'],\n",
              " ['never', 'brought', 'salad', 'asked'],\n",
              " ['hole',\n",
              "  'the',\n",
              "  'wall',\n",
              "  'great',\n",
              "  'mexican',\n",
              "  'street',\n",
              "  'tacos',\n",
              "  'friendly',\n",
              "  'staff'],\n",
              " ['took',\n",
              "  'hour',\n",
              "  'get',\n",
              "  'food',\n",
              "  '4',\n",
              "  'tables',\n",
              "  'restaurant',\n",
              "  'food',\n",
              "  'luke',\n",
              "  'warm',\n",
              "  'sever',\n",
              "  'running',\n",
              "  'around',\n",
              "  'like',\n",
              "  'was',\n",
              "  'totally',\n",
              "  'overwhelmed'],\n",
              " ['worst', 'the', 'salmon', 'sashimi'],\n",
              " ['also',\n",
              "  'are',\n",
              "  'combos',\n",
              "  'like',\n",
              "  'burger',\n",
              "  'fries',\n",
              "  'beer',\n",
              "  '23',\n",
              "  'is',\n",
              "  'decent',\n",
              "  'deal'],\n",
              " ['was', 'like', 'final', 'blow'],\n",
              " ['found', 'place', 'accident', 'i', 'could', 'not', 'happier'],\n",
              " ['seems',\n",
              "  'like',\n",
              "  'good',\n",
              "  'quick',\n",
              "  'place',\n",
              "  'grab',\n",
              "  'bite',\n",
              "  'some',\n",
              "  'familiar',\n",
              "  'pub',\n",
              "  'food',\n",
              "  'do',\n",
              "  'yourself',\n",
              "  'favor',\n",
              "  'look',\n",
              "  'elsewhere'],\n",
              " ['overall', 'like', 'place', 'lot'],\n",
              " ['only',\n",
              "  'redeeming',\n",
              "  'quality',\n",
              "  'the',\n",
              "  'restaurant',\n",
              "  'that',\n",
              "  'was',\n",
              "  'inexpensive'],\n",
              " ['ample', 'portions', 'good', 'prices'],\n",
              " ['poor',\n",
              "  'service',\n",
              "  'waiter',\n",
              "  'made',\n",
              "  'feel',\n",
              "  'like',\n",
              "  'was',\n",
              "  'stupid',\n",
              "  'every',\n",
              "  'time',\n",
              "  'came',\n",
              "  'the',\n",
              "  'table'],\n",
              " ['first', 'visit', 'hiro', 'a', 'delight'],\n",
              " ['service', 'sucks'],\n",
              " ['shrimp', 'tender', 'moist'],\n",
              " ['is',\n",
              "  'not',\n",
              "  'deal',\n",
              "  'good',\n",
              "  'enough',\n",
              "  'would',\n",
              "  'drag',\n",
              "  'into',\n",
              "  'establishment'],\n",
              " ['hard',\n",
              "  'judge',\n",
              "  'whether',\n",
              "  'sides',\n",
              "  'good',\n",
              "  'we',\n",
              "  'grossed',\n",
              "  'by',\n",
              "  'melted',\n",
              "  'styrofoam',\n",
              "  'didn',\n",
              "  'want',\n",
              "  'eat',\n",
              "  'for',\n",
              "  'fear',\n",
              "  'getting',\n",
              "  'sick'],\n",
              " ['a',\n",
              "  'positive',\n",
              "  'note',\n",
              "  'server',\n",
              "  'very',\n",
              "  'attentive',\n",
              "  'provided',\n",
              "  'great',\n",
              "  'service'],\n",
              " ['frozen',\n",
              "  'pucks',\n",
              "  'disgust',\n",
              "  'some',\n",
              "  'worst',\n",
              "  'people',\n",
              "  'behind',\n",
              "  'the',\n",
              "  'register'],\n",
              " ['only', 'thing', 'did', 'like', 'the', 'prime', 'rib', 'dessert', 'section'],\n",
              " ['s', 'bad', 'food', 'so', 'damn', 'generic'],\n",
              " ['burger', 'good', 'beef', 'cooked', 'right'],\n",
              " ['you', 'want', 'sandwich', 'go', 'any', 'firehouse'],\n",
              " ['side',\n",
              "  'greek',\n",
              "  'salad',\n",
              "  'the',\n",
              "  'greek',\n",
              "  'dressing',\n",
              "  'so',\n",
              "  'tasty',\n",
              "  'the',\n",
              "  'pita',\n",
              "  'hummus',\n",
              "  'very',\n",
              "  'refreshing'],\n",
              " ['ordered',\n",
              "  'duck',\n",
              "  'rare',\n",
              "  'it',\n",
              "  'pink',\n",
              "  'tender',\n",
              "  'the',\n",
              "  'inside',\n",
              "  'a',\n",
              "  'nice',\n",
              "  'char',\n",
              "  'the',\n",
              "  'outside'],\n",
              " ['came',\n",
              "  'running',\n",
              "  'us',\n",
              "  'he',\n",
              "  'realized',\n",
              "  'husband',\n",
              "  'left',\n",
              "  'sunglasses',\n",
              "  'the',\n",
              "  'table'],\n",
              " ['chow', 'mein', 'so', 'good'],\n",
              " ['have',\n",
              "  'horrible',\n",
              "  'attitudes',\n",
              "  'towards',\n",
              "  'customers',\n",
              "  'talk',\n",
              "  'to',\n",
              "  'one',\n",
              "  'customers',\n",
              "  'don',\n",
              "  'enjoy',\n",
              "  'food'],\n",
              " ['portion', 'huge'],\n",
              " ['loved',\n",
              "  'friendly',\n",
              "  'servers',\n",
              "  'great',\n",
              "  'food',\n",
              "  'wonderful',\n",
              "  'imaginative',\n",
              "  'menu'],\n",
              " ['heart',\n",
              "  'attack',\n",
              "  'grill',\n",
              "  'downtown',\n",
              "  'vegas',\n",
              "  'an',\n",
              "  'absolutely',\n",
              "  'flat',\n",
              "  'lined',\n",
              "  'excuse',\n",
              "  'a',\n",
              "  'restaurant'],\n",
              " ['not', 'much', 'seafood', 'like', '5', 'strings', 'pasta', 'the', 'bottom'],\n",
              " ['salad',\n",
              "  'just',\n",
              "  'right',\n",
              "  'amount',\n",
              "  'sauce',\n",
              "  'not',\n",
              "  'power',\n",
              "  'scallop',\n",
              "  'was',\n",
              "  'perfectly',\n",
              "  'cooked'],\n",
              " ['ripped', 'banana', 'not', 'ripped', 'petrified', 'tasteless'],\n",
              " ['least',\n",
              "  'think',\n",
              "  'refill',\n",
              "  'water',\n",
              "  'i',\n",
              "  'struggle',\n",
              "  'wave',\n",
              "  'over',\n",
              "  '10',\n",
              "  'minutes'],\n",
              " ['place', 'receives', 'stars', 'their', 'appetizers'],\n",
              " ['cocktails', 'all', 'handmade', 'delicious'],\n",
              " ['d', 'definitely', 'go', 'back', 'again'],\n",
              " ['are', 'glad', 'found', 'place'],\n",
              " ['great',\n",
              "  'food',\n",
              "  'service',\n",
              "  'huge',\n",
              "  'portions',\n",
              "  'they',\n",
              "  'give',\n",
              "  'military',\n",
              "  'discount'],\n",
              " ['always', 'great', 'time', 'dos', 'gringos'],\n",
              " ['update',\n",
              "  'went',\n",
              "  'back',\n",
              "  'a',\n",
              "  'second',\n",
              "  'time',\n",
              "  'it',\n",
              "  'still',\n",
              "  'as',\n",
              "  'amazing'],\n",
              " ['got',\n",
              "  'food',\n",
              "  'apparently',\n",
              "  'have',\n",
              "  'never',\n",
              "  'heard',\n",
              "  'salt',\n",
              "  'the',\n",
              "  'batter',\n",
              "  'the',\n",
              "  'fish',\n",
              "  'chewy'],\n",
              " ['great', 'way', 'finish', 'great'],\n",
              " ['deal',\n",
              "  'included',\n",
              "  '5',\n",
              "  'tastings',\n",
              "  '2',\n",
              "  'drinks',\n",
              "  'jeff',\n",
              "  'went',\n",
              "  'and',\n",
              "  'beyond',\n",
              "  'we',\n",
              "  'expected'],\n",
              " ['really', 'really', 'good', 'rice', 'the', 'time'],\n",
              " ['service', 'meh'],\n",
              " ['took',\n",
              "  '30',\n",
              "  'min',\n",
              "  'get',\n",
              "  'milkshake',\n",
              "  'was',\n",
              "  'nothing',\n",
              "  'than',\n",
              "  'chocolate',\n",
              "  'milk'],\n",
              " ['guess',\n",
              "  'should',\n",
              "  'known',\n",
              "  'this',\n",
              "  'place',\n",
              "  'would',\n",
              "  'suck',\n",
              "  'it',\n",
              "  'inside',\n",
              "  'the',\n",
              "  'excalibur',\n",
              "  'i',\n",
              "  'didn',\n",
              "  'use',\n",
              "  'common',\n",
              "  'sense'],\n",
              " ['scallop', 'dish', 'quite', 'appalling', 'value', 'well'],\n",
              " ['2', 'times', 'bad', 'customer', 'service'],\n",
              " ['sweet', 'potato', 'fries', 'very', 'good', 'seasoned', 'well'],\n",
              " ['today',\n",
              "  'the',\n",
              "  'second',\n",
              "  'time',\n",
              "  've',\n",
              "  'to',\n",
              "  'lunch',\n",
              "  'buffet',\n",
              "  'it',\n",
              "  'pretty',\n",
              "  'good'],\n",
              " ['is',\n",
              "  'much',\n",
              "  'good',\n",
              "  'food',\n",
              "  'vegas',\n",
              "  'i',\n",
              "  'feel',\n",
              "  'cheated',\n",
              "  'wasting',\n",
              "  'eating',\n",
              "  'opportunity',\n",
              "  'going',\n",
              "  'rice',\n",
              "  'company'],\n",
              " ['coming',\n",
              "  'is',\n",
              "  'like',\n",
              "  'experiencing',\n",
              "  'underwhelming',\n",
              "  'relationship',\n",
              "  'both',\n",
              "  'parties',\n",
              "  't',\n",
              "  'wait',\n",
              "  'the',\n",
              "  'person',\n",
              "  'ask',\n",
              "  'break'],\n",
              " ['walked',\n",
              "  'place',\n",
              "  'smelled',\n",
              "  'like',\n",
              "  'old',\n",
              "  'grease',\n",
              "  'trap',\n",
              "  'and',\n",
              "  'only',\n",
              "  '2',\n",
              "  'others',\n",
              "  'eating'],\n",
              " ['turkey', 'roast', 'beef', 'bland'],\n",
              " ['place', 'it'],\n",
              " ['pan',\n",
              "  'cakes',\n",
              "  'everyone',\n",
              "  'raving',\n",
              "  'taste',\n",
              "  'like',\n",
              "  'sugary',\n",
              "  'disaster',\n",
              "  'tailored',\n",
              "  'the',\n",
              "  'palate',\n",
              "  'a',\n",
              "  'six',\n",
              "  'year',\n",
              "  'old'],\n",
              " ['love', 'pho', 'the', 'spring', 'rolls', 'oh', 'yummy', 'have', 'try'],\n",
              " ['poor',\n",
              "  'batter',\n",
              "  'meat',\n",
              "  'ratio',\n",
              "  'made',\n",
              "  'chicken',\n",
              "  'tenders',\n",
              "  'unsatisfying'],\n",
              " ['i', 'to', 'say', 'the', 'food', 'amazing'],\n",
              " ['omelets', 'to', 'die'],\n",
              " ['everything', 'fresh', 'delicious'],\n",
              " ['summary', 'was', 'largely', 'disappointing', 'dining', 'experience'],\n",
              " ['s',\n",
              "  'like',\n",
              "  'really',\n",
              "  'sexy',\n",
              "  'party',\n",
              "  'your',\n",
              "  'mouth',\n",
              "  'you',\n",
              "  're',\n",
              "  'outrageously',\n",
              "  'flirting',\n",
              "  'the',\n",
              "  'hottest',\n",
              "  'person',\n",
              "  'the',\n",
              "  'party'],\n",
              " ['never',\n",
              "  'to',\n",
              "  'hard',\n",
              "  'rock',\n",
              "  'casino',\n",
              "  'will',\n",
              "  'never',\n",
              "  'ever',\n",
              "  'step',\n",
              "  'forward',\n",
              "  'it'],\n",
              " ['best', 'breakfast', 'buffet'],\n",
              " ['say', 'bye', 'bye', 'your', 'tip', 'lady'],\n",
              " ['ll', 'never', 'go'],\n",
              " ['be', 'back'],\n",
              " ['food', 'arrived', 'quickly'],\n",
              " ['was', 'not', 'good'],\n",
              " ['the', 'side', 'cafe', 'serves', 'really', 'good', 'food']]"
            ]
          },
          "metadata": {},
          "execution_count": 285
        }
      ]
    },
    {
      "cell_type": "code",
      "source": [
        "lista_tokens=[]"
      ],
      "metadata": {
        "id": "BaQq7QeErAA5"
      },
      "execution_count": null,
      "outputs": []
    },
    {
      "cell_type": "code",
      "source": [
        "for i in range(len(Xclean)):\n",
        "    #enseguida contamos el numero de tokens/palabras \n",
        "    for j in range(len(Xclean[i])):\n",
        "      lista_tokens.append(re.findall(r\"\\w+\",Xclean[i][j]))\n"
      ],
      "metadata": {
        "id": "XlgAV23Aq45M"
      },
      "execution_count": null,
      "outputs": []
    },
    {
      "cell_type": "code",
      "source": [
        "len(lista_tokens)"
      ],
      "metadata": {
        "colab": {
          "base_uri": "https://localhost:8080/"
        },
        "id": "nD6AXDQOq-io",
        "outputId": "14805dd3-b0ae-46fb-f51b-db013697159e"
      },
      "execution_count": null,
      "outputs": [
        {
          "output_type": "execute_result",
          "data": {
            "text/plain": [
              "7268"
            ]
          },
          "metadata": {},
          "execution_count": 291
        }
      ]
    },
    {
      "cell_type": "markdown",
      "source": [
        "*   **Comentarios**\n",
        "\n",
        "Incluye finalmente tus comentarios de la actividad."
      ],
      "metadata": {
        "id": "NDbKkuxRbLoX"
      }
    },
    {
      "cell_type": "markdown",
      "source": [
        "<< incluye aquí tus comentarios >>"
      ],
      "metadata": {
        "id": "o7fzbvqVbUGr"
      }
    },
    {
      "cell_type": "markdown",
      "source": [
        "##**Fin de la Actividad de la semana 2.**"
      ],
      "metadata": {
        "id": "PHaKw_6Ldbaf"
      }
    }
  ]
}