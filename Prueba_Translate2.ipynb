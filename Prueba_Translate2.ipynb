{
  "nbformat": 4,
  "nbformat_minor": 0,
  "metadata": {
    "colab": {
      "provenance": [],
      "authorship_tag": "ABX9TyNZ9eRMzPDE7YF2IEbrfP1d",
      "include_colab_link": true
    },
    "kernelspec": {
      "name": "python3",
      "display_name": "Python 3"
    },
    "language_info": {
      "name": "python"
    }
  },
  "cells": [
    {
      "cell_type": "markdown",
      "metadata": {
        "id": "view-in-github",
        "colab_type": "text"
      },
      "source": [
        "<a href=\"https://colab.research.google.com/github/a00351269/Actividades_Aprendizaje-/blob/main/Prueba_Translate2.ipynb\" target=\"_parent\"><img src=\"https://colab.research.google.com/assets/colab-badge.svg\" alt=\"Open In Colab\"/></a>"
      ]
    },
    {
      "cell_type": "markdown",
      "source": [
        "### Genaro Ramos Higuera\n",
        "### Matricula A00351269\n",
        "### Fecha de Creacion: 9 de Marzo de 2023\n",
        "### Programa para probar API de traduccion Translate v2\n",
        "\n"
      ],
      "metadata": {
        "id": "UI4qK5IA9FHv"
      }
    },
    {
      "cell_type": "code",
      "source": [
        "!pip install google-cloud-translate\n"
      ],
      "metadata": {
        "colab": {
          "base_uri": "https://localhost:8080/"
        },
        "id": "-7Z7UFfX9MB5",
        "outputId": "d70e5704-2f1a-4f4d-e478-bef6098dbd8a"
      },
      "execution_count": null,
      "outputs": [
        {
          "output_type": "stream",
          "name": "stdout",
          "text": [
            "Looking in indexes: https://pypi.org/simple, https://us-python.pkg.dev/colab-wheels/public/simple/\n",
            "Requirement already satisfied: google-cloud-translate in /usr/local/lib/python3.9/dist-packages (3.8.4)\n",
            "Requirement already satisfied: google-api-core[grpc]!=2.0.*,!=2.1.*,!=2.2.*,!=2.3.*,!=2.4.*,!=2.5.*,!=2.6.*,!=2.7.*,<3.0.0dev,>=1.32.0 in /usr/local/lib/python3.9/dist-packages (from google-cloud-translate) (2.11.0)\n",
            "Requirement already satisfied: google-cloud-core<3.0.0dev,>=1.3.0 in /usr/local/lib/python3.9/dist-packages (from google-cloud-translate) (2.3.2)\n",
            "Requirement already satisfied: proto-plus<2.0.0dev,>=1.22.0 in /usr/local/lib/python3.9/dist-packages (from google-cloud-translate) (1.22.2)\n",
            "Requirement already satisfied: protobuf!=3.20.0,!=3.20.1,!=4.21.0,!=4.21.1,!=4.21.2,!=4.21.3,!=4.21.4,!=4.21.5,<5.0.0dev,>=3.19.5 in /usr/local/lib/python3.9/dist-packages (from google-cloud-translate) (3.19.6)\n",
            "Requirement already satisfied: google-auth<3.0dev,>=2.14.1 in /usr/local/lib/python3.9/dist-packages (from google-api-core[grpc]!=2.0.*,!=2.1.*,!=2.2.*,!=2.3.*,!=2.4.*,!=2.5.*,!=2.6.*,!=2.7.*,<3.0.0dev,>=1.32.0->google-cloud-translate) (2.16.2)\n",
            "Requirement already satisfied: requests<3.0.0dev,>=2.18.0 in /usr/local/lib/python3.9/dist-packages (from google-api-core[grpc]!=2.0.*,!=2.1.*,!=2.2.*,!=2.3.*,!=2.4.*,!=2.5.*,!=2.6.*,!=2.7.*,<3.0.0dev,>=1.32.0->google-cloud-translate) (2.25.1)\n",
            "Requirement already satisfied: googleapis-common-protos<2.0dev,>=1.56.2 in /usr/local/lib/python3.9/dist-packages (from google-api-core[grpc]!=2.0.*,!=2.1.*,!=2.2.*,!=2.3.*,!=2.4.*,!=2.5.*,!=2.6.*,!=2.7.*,<3.0.0dev,>=1.32.0->google-cloud-translate) (1.58.0)\n",
            "Requirement already satisfied: grpcio-status<2.0dev,>=1.33.2 in /usr/local/lib/python3.9/dist-packages (from google-api-core[grpc]!=2.0.*,!=2.1.*,!=2.2.*,!=2.3.*,!=2.4.*,!=2.5.*,!=2.6.*,!=2.7.*,<3.0.0dev,>=1.32.0->google-cloud-translate) (1.48.2)\n",
            "Requirement already satisfied: grpcio<2.0dev,>=1.33.2 in /usr/local/lib/python3.9/dist-packages (from google-api-core[grpc]!=2.0.*,!=2.1.*,!=2.2.*,!=2.3.*,!=2.4.*,!=2.5.*,!=2.6.*,!=2.7.*,<3.0.0dev,>=1.32.0->google-cloud-translate) (1.51.3)\n",
            "Requirement already satisfied: pyasn1-modules>=0.2.1 in /usr/local/lib/python3.9/dist-packages (from google-auth<3.0dev,>=2.14.1->google-api-core[grpc]!=2.0.*,!=2.1.*,!=2.2.*,!=2.3.*,!=2.4.*,!=2.5.*,!=2.6.*,!=2.7.*,<3.0.0dev,>=1.32.0->google-cloud-translate) (0.2.8)\n",
            "Requirement already satisfied: six>=1.9.0 in /usr/local/lib/python3.9/dist-packages (from google-auth<3.0dev,>=2.14.1->google-api-core[grpc]!=2.0.*,!=2.1.*,!=2.2.*,!=2.3.*,!=2.4.*,!=2.5.*,!=2.6.*,!=2.7.*,<3.0.0dev,>=1.32.0->google-cloud-translate) (1.15.0)\n",
            "Requirement already satisfied: rsa<5,>=3.1.4 in /usr/local/lib/python3.9/dist-packages (from google-auth<3.0dev,>=2.14.1->google-api-core[grpc]!=2.0.*,!=2.1.*,!=2.2.*,!=2.3.*,!=2.4.*,!=2.5.*,!=2.6.*,!=2.7.*,<3.0.0dev,>=1.32.0->google-cloud-translate) (4.9)\n",
            "Requirement already satisfied: cachetools<6.0,>=2.0.0 in /usr/local/lib/python3.9/dist-packages (from google-auth<3.0dev,>=2.14.1->google-api-core[grpc]!=2.0.*,!=2.1.*,!=2.2.*,!=2.3.*,!=2.4.*,!=2.5.*,!=2.6.*,!=2.7.*,<3.0.0dev,>=1.32.0->google-cloud-translate) (5.3.0)\n",
            "Requirement already satisfied: urllib3<1.27,>=1.21.1 in /usr/local/lib/python3.9/dist-packages (from requests<3.0.0dev,>=2.18.0->google-api-core[grpc]!=2.0.*,!=2.1.*,!=2.2.*,!=2.3.*,!=2.4.*,!=2.5.*,!=2.6.*,!=2.7.*,<3.0.0dev,>=1.32.0->google-cloud-translate) (1.26.14)\n",
            "Requirement already satisfied: chardet<5,>=3.0.2 in /usr/local/lib/python3.9/dist-packages (from requests<3.0.0dev,>=2.18.0->google-api-core[grpc]!=2.0.*,!=2.1.*,!=2.2.*,!=2.3.*,!=2.4.*,!=2.5.*,!=2.6.*,!=2.7.*,<3.0.0dev,>=1.32.0->google-cloud-translate) (4.0.0)\n",
            "Requirement already satisfied: idna<3,>=2.5 in /usr/local/lib/python3.9/dist-packages (from requests<3.0.0dev,>=2.18.0->google-api-core[grpc]!=2.0.*,!=2.1.*,!=2.2.*,!=2.3.*,!=2.4.*,!=2.5.*,!=2.6.*,!=2.7.*,<3.0.0dev,>=1.32.0->google-cloud-translate) (2.10)\n",
            "Requirement already satisfied: certifi>=2017.4.17 in /usr/local/lib/python3.9/dist-packages (from requests<3.0.0dev,>=2.18.0->google-api-core[grpc]!=2.0.*,!=2.1.*,!=2.2.*,!=2.3.*,!=2.4.*,!=2.5.*,!=2.6.*,!=2.7.*,<3.0.0dev,>=1.32.0->google-cloud-translate) (2022.12.7)\n",
            "Requirement already satisfied: pyasn1<0.5.0,>=0.4.6 in /usr/local/lib/python3.9/dist-packages (from pyasn1-modules>=0.2.1->google-auth<3.0dev,>=2.14.1->google-api-core[grpc]!=2.0.*,!=2.1.*,!=2.2.*,!=2.3.*,!=2.4.*,!=2.5.*,!=2.6.*,!=2.7.*,<3.0.0dev,>=1.32.0->google-cloud-translate) (0.4.8)\n"
          ]
        }
      ]
    },
    {
      "cell_type": "code",
      "source": [
        "from google.cloud import translate_v2 as translate\n"
      ],
      "metadata": {
        "id": "bFxEXXkE9Trm"
      },
      "execution_count": null,
      "outputs": []
    },
    {
      "cell_type": "code",
      "source": [
        "import os, json "
      ],
      "metadata": {
        "id": "0c8dfFI09lD9"
      },
      "execution_count": null,
      "outputs": []
    },
    {
      "cell_type": "code",
      "source": [
        "os.environ ['GOOGLE_APPLICATION_CREDENTIALS']='qwiklabs-gcp-01-4d6bcfaab37f-cd2af0439e03.json'"
      ],
      "metadata": {
        "id": "WpQ1LV7Q9rdh"
      },
      "execution_count": null,
      "outputs": []
    },
    {
      "cell_type": "code",
      "source": [
        "# metodo para asignar el cliente de traduccion de translate\n",
        "translateClient=translate.Client()"
      ],
      "metadata": {
        "id": "flO_cbeF-GF1"
      },
      "execution_count": null,
      "outputs": []
    },
    {
      "cell_type": "code",
      "source": [
        "# metodo que nos permite detectar el lenguaje\n",
        "detectedRes=translateClient.detect_language('Fantastisk arbeid')\n",
        "print(detectedRes)"
      ],
      "metadata": {
        "colab": {
          "base_uri": "https://localhost:8080/"
        },
        "id": "zv6MxV---UU4",
        "outputId": "7649b11b-763e-43d4-e28f-c739cffe3b95"
      },
      "execution_count": null,
      "outputs": [
        {
          "output_type": "stream",
          "name": "stdout",
          "text": [
            "{'confidence': 1, 'language': 'no', 'input': 'Fantastisk arbeid'}\n"
          ]
        }
      ]
    },
    {
      "cell_type": "code",
      "source": [
        "# metodo que nos hará la traduccion al español 'es' e imprimirá el resultado\n",
        "transRes= translateClient.translate('Fantastisk arbeid', 'es')\n",
        "print (transRes)"
      ],
      "metadata": {
        "colab": {
          "base_uri": "https://localhost:8080/"
        },
        "id": "5nkxZ9HsD9ID",
        "outputId": "e9572379-f31b-4b95-af75-39b9ebc4071b"
      },
      "execution_count": null,
      "outputs": [
        {
          "output_type": "stream",
          "name": "stdout",
          "text": [
            "{'translatedText': 'Fantástico trabajo', 'detectedSourceLanguage': 'no', 'input': 'Fantastisk arbeid'}\n"
          ]
        }
      ]
    },
    {
      "cell_type": "markdown",
      "source": [
        "Ahora traducimos de otro lenguaje al español en esta caso portugues\n"
      ],
      "metadata": {
        "id": "frz2gGn5EajF"
      }
    },
    {
      "cell_type": "code",
      "source": [
        "# metodo que nos permite detectar el lenguaje portugues\n",
        "detectedRes=translateClient.detect_language('Muito obrigado pela ajuda para aprender a usar as APIs na nuvem')\n",
        "print(detectedRes)\n",
        "# metodo que nos hará la traduccion al español 'es' e imprimirá el resultado\n",
        "transRes= translateClient.translate('Muito obrigado pela ajuda para aprender a usar as APIs na nuvem', 'es')\n",
        "print (transRes)"
      ],
      "metadata": {
        "colab": {
          "base_uri": "https://localhost:8080/"
        },
        "id": "E_D-ZyfwEfTe",
        "outputId": "609e8dec-489f-43de-c550-cd6b725cf401"
      },
      "execution_count": null,
      "outputs": [
        {
          "output_type": "stream",
          "name": "stdout",
          "text": [
            "{'confidence': 1, 'language': 'pt', 'input': 'Muito obrigado pela ajuda para aprender a usar as APIs na nuvem'}\n",
            "{'translatedText': 'Muchas gracias por ayudarme a aprender a usar las API en la nube.', 'detectedSourceLanguage': 'pt', 'input': 'Muito obrigado pela ajuda para aprender a usar as APIs na nuvem'}\n"
          ]
        }
      ]
    },
    {
      "cell_type": "code",
      "source": [
        "# metodo que nos permite detectar el lenguaje italiano\n",
        "detectedRes=translateClient.detect_language('Grazie mille per l aiuto per imparare a utilizzare le API nel cloud')\n",
        "print(detectedRes)\n",
        "# metodo que nos hará la traduccion al español 'es' e imprimirá el resultado\n",
        "transRes= translateClient.translate('Grazie mille per l aiuto per imparare a utilizzare le API nel cloud', 'es')\n",
        "print (transRes)"
      ],
      "metadata": {
        "colab": {
          "base_uri": "https://localhost:8080/"
        },
        "id": "sL-exa1oE5Bl",
        "outputId": "b54a1dc1-daf5-4824-d7fc-06f9e91fc5c1"
      },
      "execution_count": null,
      "outputs": [
        {
          "output_type": "stream",
          "name": "stdout",
          "text": [
            "{'confidence': 1, 'language': 'it', 'input': 'Grazie mille per l aiuto per imparare a utilizzare le API nel cloud'}\n",
            "{'translatedText': 'Muchas gracias por su ayuda para aprender a usar las API en la nube.', 'detectedSourceLanguage': 'it', 'input': 'Grazie mille per l aiuto per imparare a utilizzare le API nel cloud'}\n"
          ]
        }
      ]
    },
    {
      "cell_type": "code",
      "source": [
        "# metodo que nos permite detectar el lenguaje aleman\n",
        "detectedRes=translateClient.detect_language('Vielen Dank für die Hilfe beim Erlernen der Verwendung der APIs in der Cloud')\n",
        "print(detectedRes)\n",
        "# metodo que nos hará la traduccion al español 'es' e imprimirá el resultado\n",
        "transRes= translateClient.translate('Vielen Dank für die Hilfe beim Erlernen der Verwendung der APIs in der Cloud', 'es')\n",
        "print (transRes)"
      ],
      "metadata": {
        "colab": {
          "base_uri": "https://localhost:8080/"
        },
        "id": "YNHNG89AFkEk",
        "outputId": "31907c1e-57bc-46a3-ef4f-381ad72a9638"
      },
      "execution_count": null,
      "outputs": [
        {
          "output_type": "stream",
          "name": "stdout",
          "text": [
            "{'confidence': 1, 'language': 'de', 'input': 'Vielen Dank für die Hilfe beim Erlernen der Verwendung der APIs in der Cloud'}\n",
            "{'translatedText': 'Gracias por la ayuda para aprender a usar las API en la nube.', 'detectedSourceLanguage': 'de', 'input': 'Vielen Dank für die Hilfe beim Erlernen der Verwendung der APIs in der Cloud'}\n"
          ]
        }
      ]
    },
    {
      "cell_type": "code",
      "source": [
        "# metodo que nos permite detectar el lenguaje ingles\n",
        "detectedRes=translateClient.detect_language('Thank you very much for the help to learn how to use the APIs in the cloud')\n",
        "print(detectedRes)\n",
        "# metodo que nos hará la traduccion al español 'es' e imprimirá el resultado\n",
        "transRes= translateClient.translate('Thank you very much for the help to learn how to use the APIs in the cloud', 'es')\n",
        "print (transRes)"
      ],
      "metadata": {
        "colab": {
          "base_uri": "https://localhost:8080/"
        },
        "id": "w_4q_sa4F5X5",
        "outputId": "93349c10-4541-4f08-eefc-f093ad64bc5a"
      },
      "execution_count": null,
      "outputs": [
        {
          "output_type": "stream",
          "name": "stdout",
          "text": [
            "{'language': 'en', 'confidence': 1, 'input': 'Thank you very much for the help to learn how to use the APIs in the cloud'}\n",
            "{'translatedText': 'Muchas gracias por la ayuda para aprender a usar las APIs en la nube', 'detectedSourceLanguage': 'en', 'input': 'Thank you very much for the help to learn how to use the APIs in the cloud'}\n"
          ]
        }
      ]
    },
    {
      "cell_type": "code",
      "source": [
        "# metodo que nos permite detectar el lenguaje frances\n",
        "detectedRes=translateClient.detect_language('Merci beaucoup pour l aide pour apprendre à utiliser les API dans le cloud')\n",
        "print(detectedRes)\n",
        "# metodo que nos hará la traduccion al español 'es' e imprimirá el resultado\n",
        "transRes= translateClient.translate('Merci beaucoup pour l aide pour apprendre à utiliser les API dans le cloud', 'es')\n",
        "print (transRes)"
      ],
      "metadata": {
        "colab": {
          "base_uri": "https://localhost:8080/"
        },
        "id": "uK5xL8UwGZqW",
        "outputId": "9950a6dd-f5c9-4ca6-d1ac-d3924d515371"
      },
      "execution_count": null,
      "outputs": [
        {
          "output_type": "stream",
          "name": "stdout",
          "text": [
            "{'language': 'fr', 'confidence': 1, 'input': 'Merci beaucoup pour l aide pour apprendre à utiliser les API dans le cloud'}\n",
            "{'translatedText': 'Muchas gracias por la ayuda para aprender a usar APIs en la nube', 'detectedSourceLanguage': 'fr', 'input': 'Merci beaucoup pour l aide pour apprendre à utiliser les API dans le cloud'}\n"
          ]
        }
      ]
    }
  ]
}