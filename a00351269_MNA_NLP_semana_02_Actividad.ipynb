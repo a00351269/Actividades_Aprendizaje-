{
  "nbformat": 4,
  "nbformat_minor": 0,
  "metadata": {
    "colab": {
      "provenance": [],
      "include_colab_link": true
    },
    "kernelspec": {
      "name": "python3",
      "display_name": "Python 3"
    },
    "language_info": {
      "name": "python"
    }
  },
  "cells": [
    {
      "cell_type": "markdown",
      "metadata": {
        "id": "view-in-github",
        "colab_type": "text"
      },
      "source": [
        "<a href=\"https://colab.research.google.com/github/a00351269/Actividades_Aprendizaje-/blob/main/a00351269_MNA_NLP_semana_02_Actividad.ipynb\" target=\"_parent\"><img src=\"https://colab.research.google.com/assets/colab-badge.svg\" alt=\"Open In Colab\"/></a>"
      ]
    },
    {
      "cell_type": "markdown",
      "source": [
        "#**Maestría en Inteligencia Artificial Aplicada**\n",
        "##**Curso: Procesamiento de Lenguaje Natural (NLP)**\n",
        "###Tecnológico de Monterrey\n",
        "###Prof Luis Eduardo Falcón Morales\n",
        "\n",
        "## **Actividad de la Semana 02**\n",
        "###**Introducción al procesamiento de texto.**\n",
        "\n",
        "\n",
        "\n",
        ">### **Alumno: Genaro Ramos Higuera**\n",
        "\n",
        "\n",
        "> ### **Matrícula: A00351269**\n",
        "\n",
        "\n",
        " \n",
        "\n",
        "\n",
        "\n"
      ],
      "metadata": {
        "id": "759SG4TyfbUn"
      }
    },
    {
      "cell_type": "markdown",
      "source": [
        "En esta actividad deberás utilizar los datos del siguiente archivo que se encuentra en Canvas:\n",
        "\n",
        "MNA_NLP_semana_02_Actividad_datos.txt\n",
        "\n",
        "El archivo contiene comentarios en inglés sobre servicios de comida de la página de Yelp: https://www.yelp.com/ . \n",
        "\n",
        "Son mil comentarios y forman parte del conjunto de datos que se encuentra en el Machine Learning Repository de la UCI, llamado \"Sentiment Labelled Sentences\": https://archive.ics.uci.edu/ml/datasets/Sentiment+Labelled+Sentences#\n"
      ],
      "metadata": {
        "id": "6ue1YAKx3XDo"
      }
    },
    {
      "cell_type": "markdown",
      "source": [
        "#**Parte 1. Cargamos los datos.**   "
      ],
      "metadata": {
        "id": "Zj-h4drXD-X9"
      }
    },
    {
      "cell_type": "markdown",
      "source": [
        "Cargar los datos del archivo indicado y obtener una lista de longitud de 1000 strings/comentarios. \n",
        "\n",
        "Por el momento solamente requerimos las bibliotecas de Numpy y re, para el manejo de los arreglos y de las expresiones regulares en Python.\n",
        "\n",
        "En particular, no necesitarás en esta actividad la biblioteca de Pandas.\n",
        "\n",
        "###**NOTA: En esta actividad no debes importar nada más, con estas dos bibliotecas será *suficiente*.**"
      ],
      "metadata": {
        "id": "BY6yifxscfrx"
      }
    },
    {
      "cell_type": "code",
      "source": [
        "import numpy as np    # importamos Numpy para el manejo de los arreglos.\n",
        "import re             # importamos re para el manejo de las expresiones regulares.\n"
      ],
      "metadata": {
        "id": "OJ26dAfhdFnf"
      },
      "execution_count": 1,
      "outputs": []
    },
    {
      "cell_type": "code",
      "source": [
        "# Ejecuta las siguientes instrucciones para cargar la información del achivo dado:\n",
        "\n",
        "with open('MNA_NLP_semana_02_Actividad_datos.txt',        # puedes actualizar la ruta a tu archivo, en dado caso.\n",
        "          mode='r',     # abrimos el archivo en modo lectura.\n",
        "          ) as f:\n",
        "    docs = f.readlines()    # separamos cada comentario por líneas\n",
        "\n",
        "f.close()  # ya que tenemos la información en la variable docs, cerramos el archivo"
      ],
      "metadata": {
        "id": "QHUmJyjDdGNP"
      },
      "execution_count": 2,
      "outputs": []
    },
    {
      "cell_type": "code",
      "source": [
        "type(docs) == list   # Verifica que tu variable \"docs\" es una lista"
      ],
      "metadata": {
        "id": "L6WzrSrodG-Y",
        "colab": {
          "base_uri": "https://localhost:8080/"
        },
        "outputId": "fe45bc2b-43c5-4646-f309-4c3565cc33ea"
      },
      "execution_count": 3,
      "outputs": [
        {
          "output_type": "execute_result",
          "data": {
            "text/plain": [
              "True"
            ]
          },
          "metadata": {},
          "execution_count": 3
        }
      ]
    },
    {
      "cell_type": "code",
      "source": [
        "len(docs)==1000  # verifica que la longitud de \"docs\" es de mil comentarios."
      ],
      "metadata": {
        "id": "QIK1u9WS2FtS",
        "colab": {
          "base_uri": "https://localhost:8080/"
        },
        "outputId": "e16af897-3394-448f-e968-5402e9781afa"
      },
      "execution_count": 4,
      "outputs": [
        {
          "output_type": "execute_result",
          "data": {
            "text/plain": [
              "True"
            ]
          },
          "metadata": {},
          "execution_count": 4
        }
      ]
    },
    {
      "cell_type": "code",
      "source": [
        "docs[0:10]     # observa algunos de los primeros comentarios"
      ],
      "metadata": {
        "id": "9AMLIfQvJqNZ",
        "colab": {
          "base_uri": "https://localhost:8080/"
        },
        "outputId": "f68cc546-beba-4f96-cf92-9c073f1ff74b"
      },
      "execution_count": 5,
      "outputs": [
        {
          "output_type": "execute_result",
          "data": {
            "text/plain": [
              "['Wow... Loved this place.\\n',\n",
              " 'Crust is not good.\\n',\n",
              " 'Not tasty and the texture was just nasty.\\n',\n",
              " 'Stopped by during the late May bank holiday off Rick Steve recommendation and loved it.\\n',\n",
              " 'The selection on the menu was great and so were the prices.\\n',\n",
              " 'Now I am getting angry and I want my damn pho.\\n',\n",
              " \"Honeslty it didn't taste THAT fresh.)\\n\",\n",
              " 'The potatoes were like rubber and you could tell they had been made up ahead of time being kept under a warmer.\\n',\n",
              " 'The fries were great too.\\n',\n",
              " 'A great touch.\\n']"
            ]
          },
          "metadata": {},
          "execution_count": 5
        }
      ]
    },
    {
      "cell_type": "markdown",
      "source": [
        "#**Parte 2: sección de preguntas (regex).**   \n"
      ],
      "metadata": {
        "id": "k_ewoagic5jc"
      }
    },
    {
      "cell_type": "markdown",
      "source": [
        "##**Instrucciones:**\n",
        "\n",
        "###**A continuación deberás contestar cada una de las preguntas que te piden usando expresiones regulares (regex).**\n",
        "\n",
        "###**Por el momento no hay restricción en cuanto al número de líneas de código que agregues, pero trata de incluir las mínimas posibles.**"
      ],
      "metadata": {
        "id": "X-eMJa3DFCIV"
      }
    },
    {
      "cell_type": "markdown",
      "source": [
        "*   **Pregunta 1.** \n",
        "\n",
        "Busca y elimina todos los saltos de línea '\\n' que se encuentran al final de cada comentario. \n",
        "\n",
        "Una vez finalizado, imprime los primeros 10 comentarios del resultado obtenido.\n"
      ],
      "metadata": {
        "id": "78nJMemzn5a5"
      }
    },
    {
      "cell_type": "code",
      "source": [
        "for i in range(len(docs)):\n",
        "  docs[i]= re.sub('\\n','', docs[i])\n"
      ],
      "metadata": {
        "id": "PwbYYIuZn8pE"
      },
      "execution_count": 6,
      "outputs": []
    },
    {
      "cell_type": "code",
      "source": [
        "docs [0:10]\n"
      ],
      "metadata": {
        "id": "j-0qeh2Jn8l1",
        "colab": {
          "base_uri": "https://localhost:8080/"
        },
        "outputId": "f8d09600-b70e-451a-eaea-0dbe73d01241"
      },
      "execution_count": 7,
      "outputs": [
        {
          "output_type": "execute_result",
          "data": {
            "text/plain": [
              "['Wow... Loved this place.',\n",
              " 'Crust is not good.',\n",
              " 'Not tasty and the texture was just nasty.',\n",
              " 'Stopped by during the late May bank holiday off Rick Steve recommendation and loved it.',\n",
              " 'The selection on the menu was great and so were the prices.',\n",
              " 'Now I am getting angry and I want my damn pho.',\n",
              " \"Honeslty it didn't taste THAT fresh.)\",\n",
              " 'The potatoes were like rubber and you could tell they had been made up ahead of time being kept under a warmer.',\n",
              " 'The fries were great too.',\n",
              " 'A great touch.']"
            ]
          },
          "metadata": {},
          "execution_count": 7
        }
      ]
    },
    {
      "cell_type": "markdown",
      "source": [
        "*   **Pregunta 2.**  \n",
        "\n",
        "Busca e imprime todas las palabras que terminan con dos o más signos de admiración seguidos, por ejemplo \"!!!\". \n",
        "\n",
        "Debes imprimir tanto la palabra como la totalidad de signos de admiración que le siguen. \n",
        "\n",
        "Indica cuántos resultados obtuviste.\n",
        "\n"
      ],
      "metadata": {
        "id": "VWeKQC93ctEo"
      }
    },
    {
      "cell_type": "code",
      "source": [
        "searched_items=[]"
      ],
      "metadata": {
        "id": "ynb0SkO-WLBu"
      },
      "execution_count": 8,
      "outputs": []
    },
    {
      "cell_type": "code",
      "source": [
        "for i in range(len(docs)):\n",
        "  if re.findall(r\"\\w+\\s?!{2,}\", docs[i]):\n",
        "    searched_items.append(re.findall(r\"\\w+\\s?!{2,}\", docs[i]))"
      ],
      "metadata": {
        "id": "0p3kMXfddICc"
      },
      "execution_count": 9,
      "outputs": []
    },
    {
      "cell_type": "code",
      "source": [
        "searched_items"
      ],
      "metadata": {
        "id": "SPVM1MCWdH6Z",
        "colab": {
          "base_uri": "https://localhost:8080/"
        },
        "outputId": "547dd5fb-d49e-4110-ca55-c8a901b4b5dd"
      },
      "execution_count": 10,
      "outputs": [
        {
          "output_type": "execute_result",
          "data": {
            "text/plain": [
              "[['Firehouse!!!!!'],\n",
              " ['APPETIZERS!!!'],\n",
              " ['amazing!!!'],\n",
              " ['buffet!!!'],\n",
              " ['good!!'],\n",
              " ['it!!!!'],\n",
              " ['DELICIOUS!!'],\n",
              " ['amazing!!'],\n",
              " ['shawarrrrrrma!!!!!!'],\n",
              " ['yucky!!!'],\n",
              " ['steak!!!!!'],\n",
              " ['delicious!!!'],\n",
              " ['far!!'],\n",
              " ['biscuits!!!'],\n",
              " ['dry!!'],\n",
              " ['disappointing!!!'],\n",
              " ['gem !!!'],\n",
              " ['awesome!!'],\n",
              " ['Up!!'],\n",
              " ['FLY!!!!!!!!'],\n",
              " ['here!!!'],\n",
              " ['great!!!!!!!!!!!!!!'],\n",
              " ['packed!!'],\n",
              " ['otherwise!!'],\n",
              " ['amazing!!!!!!!!!!!!!!!!!!!'],\n",
              " ['style!!'],\n",
              " ['disappointed!!']]"
            ]
          },
          "metadata": {},
          "execution_count": 10
        }
      ]
    },
    {
      "cell_type": "code",
      "source": [
        "print (\"Se encontraron\",len(searched_items), \"palabras\")"
      ],
      "metadata": {
        "colab": {
          "base_uri": "https://localhost:8080/"
        },
        "id": "pUE82z0lIEWT",
        "outputId": "6d375ffb-e7ad-4967-8f83-24c4f868ce08"
      },
      "execution_count": 11,
      "outputs": [
        {
          "output_type": "stream",
          "name": "stdout",
          "text": [
            "Se encontraron 27 palabras\n"
          ]
        }
      ]
    },
    {
      "cell_type": "markdown",
      "source": [
        "*   **Pregunta 3.**  \n",
        "\n",
        "Busca e imprime todas las palabras que están escritas totalmente en mayúsculas. Cada coincidencia debe ser una sola palabra.\n",
        "\n",
        "Indica cuántas palabras encontraste.\n",
        "\n"
      ],
      "metadata": {
        "id": "-s3okBqL96TT"
      }
    },
    {
      "cell_type": "code",
      "source": [
        "searched_items=[]"
      ],
      "metadata": {
        "id": "yKHJkZKo_nW5"
      },
      "execution_count": 12,
      "outputs": []
    },
    {
      "cell_type": "code",
      "source": [
        "for i in range(len(docs)):\n",
        "  if re.findall(r\"\\w*[A-Z]\\b\", docs[i]):\n",
        "    lista = re.findall(r\"\\w*[A-Z]\\b\", docs[i])\n",
        "    for j in range(len(lista)):\n",
        "      searched_items.append(lista[j])"
      ],
      "metadata": {
        "id": "szB2f5XTvLju"
      },
      "execution_count": 13,
      "outputs": []
    },
    {
      "cell_type": "code",
      "source": [
        "searched_items"
      ],
      "metadata": {
        "colab": {
          "base_uri": "https://localhost:8080/"
        },
        "id": "W-yKvkVxJdmh",
        "outputId": "64cfbb18-7586-4bec-fd84-57234f55c1e4"
      },
      "execution_count": 14,
      "outputs": [
        {
          "output_type": "execute_result",
          "data": {
            "text/plain": [
              "['I',\n",
              " 'I',\n",
              " 'THAT',\n",
              " 'A',\n",
              " 'I',\n",
              " 'I',\n",
              " 'I',\n",
              " 'I',\n",
              " 'I',\n",
              " 'I',\n",
              " 'I',\n",
              " 'I',\n",
              " 'I',\n",
              " 'I',\n",
              " 'I',\n",
              " 'I',\n",
              " 'APPETIZERS',\n",
              " 'A',\n",
              " 'I',\n",
              " 'I',\n",
              " 'I',\n",
              " 'I',\n",
              " 'I',\n",
              " 'I',\n",
              " 'I',\n",
              " 'WILL',\n",
              " 'NEVER',\n",
              " 'EVER',\n",
              " 'STEP',\n",
              " 'FORWARD',\n",
              " 'IN',\n",
              " 'IT',\n",
              " 'AGAIN',\n",
              " 'I',\n",
              " 'LOVED',\n",
              " 'I',\n",
              " 'AND',\n",
              " 'REAL',\n",
              " 'I',\n",
              " 'I',\n",
              " 'I',\n",
              " 'I',\n",
              " 'BITCHES',\n",
              " 'I',\n",
              " 'I',\n",
              " 'I',\n",
              " 'I',\n",
              " 'NYC',\n",
              " 'I',\n",
              " 'I',\n",
              " 'I',\n",
              " 'I',\n",
              " 'I',\n",
              " 'I',\n",
              " 'I',\n",
              " 'STALE',\n",
              " 'I',\n",
              " 'I',\n",
              " 'DELICIOUS',\n",
              " 'I',\n",
              " 'I',\n",
              " 'I',\n",
              " 'I',\n",
              " 'I',\n",
              " 'I',\n",
              " 'I',\n",
              " 'I',\n",
              " 'I',\n",
              " 'I',\n",
              " 'I',\n",
              " 'I',\n",
              " 'I',\n",
              " 'I',\n",
              " 'I',\n",
              " 'WORST',\n",
              " 'EXPERIENCE',\n",
              " 'EVER',\n",
              " 'I',\n",
              " 'ALL',\n",
              " 'I',\n",
              " 'BARGAIN',\n",
              " 'I',\n",
              " 'TV',\n",
              " 'NONE',\n",
              " 'I',\n",
              " 'M',\n",
              " 'FREEZING',\n",
              " 'AYCE',\n",
              " 'I',\n",
              " 'I',\n",
              " 'I',\n",
              " 'I',\n",
              " 'I',\n",
              " 'I',\n",
              " 'I',\n",
              " 'I',\n",
              " 'I',\n",
              " 'I',\n",
              " 'I',\n",
              " 'I',\n",
              " 'I',\n",
              " 'FLAVOR',\n",
              " 'I',\n",
              " 'I',\n",
              " 'I',\n",
              " 'I',\n",
              " 'I',\n",
              " 'I',\n",
              " 'I',\n",
              " 'I',\n",
              " 'I',\n",
              " 'I',\n",
              " 'I',\n",
              " 'I',\n",
              " 'I',\n",
              " 'I',\n",
              " 'I',\n",
              " 'I',\n",
              " 'I',\n",
              " 'I',\n",
              " 'NEVER',\n",
              " 'I',\n",
              " 'I',\n",
              " 'I',\n",
              " 'I',\n",
              " 'BBQ',\n",
              " 'I',\n",
              " 'A',\n",
              " 'I',\n",
              " 'UNREAL',\n",
              " 'I',\n",
              " 'I',\n",
              " 'I',\n",
              " 'I',\n",
              " 'I',\n",
              " 'I',\n",
              " 'OMG',\n",
              " 'I',\n",
              " 'BETTER',\n",
              " 'I',\n",
              " 'I',\n",
              " 'BLAND',\n",
              " 'I',\n",
              " 'I',\n",
              " 'I',\n",
              " 'I',\n",
              " 'I',\n",
              " 'I',\n",
              " 'I',\n",
              " 'RUDE',\n",
              " 'INCONSIDERATE',\n",
              " 'MANAGEMENT',\n",
              " 'I',\n",
              " 'I',\n",
              " 'WILL',\n",
              " 'NEVER',\n",
              " 'EVER',\n",
              " 'GO',\n",
              " 'BACK',\n",
              " 'AND',\n",
              " 'HAVE',\n",
              " 'TOLD',\n",
              " 'MANY',\n",
              " 'PEOPLE',\n",
              " 'WHAT',\n",
              " 'HAD',\n",
              " 'HAPPENED',\n",
              " 'I',\n",
              " 'I',\n",
              " 'I',\n",
              " 'I',\n",
              " 'I',\n",
              " 'I',\n",
              " 'I',\n",
              " 'I',\n",
              " 'I',\n",
              " 'I',\n",
              " 'I',\n",
              " 'I',\n",
              " 'I',\n",
              " 'TOTAL',\n",
              " 'WASTE',\n",
              " 'OF',\n",
              " 'TIME',\n",
              " 'I',\n",
              " 'I',\n",
              " 'I',\n",
              " 'I',\n",
              " 'I',\n",
              " 'I',\n",
              " 'I',\n",
              " 'I',\n",
              " 'I',\n",
              " 'I',\n",
              " 'I',\n",
              " 'I',\n",
              " 'I',\n",
              " 'I',\n",
              " 'I',\n",
              " 'FS',\n",
              " 'I',\n",
              " 'I',\n",
              " 'I',\n",
              " 'I',\n",
              " 'I',\n",
              " 'I',\n",
              " 'I',\n",
              " 'I',\n",
              " 'I',\n",
              " 'AZ',\n",
              " 'I',\n",
              " 'I',\n",
              " 'I',\n",
              " 'I',\n",
              " 'LOVED',\n",
              " 'I',\n",
              " 'I',\n",
              " 'I',\n",
              " 'I',\n",
              " 'I',\n",
              " 'I',\n",
              " 'CONCLUSION',\n",
              " 'I',\n",
              " 'I',\n",
              " 'I',\n",
              " 'I',\n",
              " 'I',\n",
              " 'I',\n",
              " 'BEST',\n",
              " 'I',\n",
              " 'GO',\n",
              " 'NOW',\n",
              " 'A',\n",
              " 'I',\n",
              " 'I',\n",
              " 'GC',\n",
              " 'I',\n",
              " 'I',\n",
              " 'I',\n",
              " 'I',\n",
              " 'I',\n",
              " 'I',\n",
              " 'I',\n",
              " 'I',\n",
              " 'I',\n",
              " 'I',\n",
              " 'I',\n",
              " 'AVOID',\n",
              " 'THIS',\n",
              " 'ESTABLISHMENT',\n",
              " 'I',\n",
              " 'I',\n",
              " 'I',\n",
              " 'A',\n",
              " 'I',\n",
              " 'I',\n",
              " 'AN',\n",
              " 'HOUR',\n",
              " 'I',\n",
              " 'I',\n",
              " 'I',\n",
              " 'I',\n",
              " 'I',\n",
              " 'I',\n",
              " 'I',\n",
              " 'I',\n",
              " 'NASTY',\n",
              " 'OMG',\n",
              " 'I',\n",
              " 'I',\n",
              " 'NO',\n",
              " 'I',\n",
              " 'I',\n",
              " 'I',\n",
              " 'BEST',\n",
              " 'I',\n",
              " 'I',\n",
              " 'I',\n",
              " 'I',\n",
              " 'THE',\n",
              " 'OWNERS',\n",
              " 'REALLY',\n",
              " 'REALLY',\n",
              " 'I',\n",
              " 'I',\n",
              " 'I',\n",
              " 'I',\n",
              " 'I',\n",
              " 'I',\n",
              " 'I',\n",
              " 'I',\n",
              " 'I',\n",
              " 'I',\n",
              " 'I',\n",
              " 'I',\n",
              " 'PERFECT',\n",
              " 'SCREAMS',\n",
              " 'LEGIT',\n",
              " 'I',\n",
              " 'MGM',\n",
              " 'I',\n",
              " 'I',\n",
              " 'I',\n",
              " 'A',\n",
              " 'I',\n",
              " 'I',\n",
              " 'I',\n",
              " 'I',\n",
              " 'I',\n",
              " 'I',\n",
              " 'I',\n",
              " 'I',\n",
              " 'I',\n",
              " 'I',\n",
              " 'I',\n",
              " 'I',\n",
              " 'BEST',\n",
              " 'I',\n",
              " 'I',\n",
              " 'T',\n",
              " 'A',\n",
              " 'FLY',\n",
              " 'A',\n",
              " 'FLY',\n",
              " 'I',\n",
              " 'I',\n",
              " 'I',\n",
              " 'I',\n",
              " 'I',\n",
              " 'I',\n",
              " 'I',\n",
              " 'I',\n",
              " 'I',\n",
              " 'I',\n",
              " 'I',\n",
              " 'I',\n",
              " 'FANTASTIC',\n",
              " 'I',\n",
              " 'I',\n",
              " 'I',\n",
              " 'I',\n",
              " 'GREAT',\n",
              " 'OK',\n",
              " 'I',\n",
              " 'I',\n",
              " 'WAY',\n",
              " 'I',\n",
              " 'I',\n",
              " 'MUST',\n",
              " 'HAVE',\n",
              " 'I',\n",
              " 'I',\n",
              " 'I',\n",
              " 'I',\n",
              " 'I',\n",
              " 'I',\n",
              " 'OK',\n",
              " 'I',\n",
              " 'I',\n",
              " 'I',\n",
              " 'I',\n",
              " 'OVERPRICED',\n",
              " 'I',\n",
              " 'I',\n",
              " 'I',\n",
              " 'I',\n",
              " 'I',\n",
              " 'I',\n",
              " 'I',\n",
              " 'I',\n",
              " 'I',\n",
              " 'I',\n",
              " 'I',\n",
              " 'I',\n",
              " 'I',\n",
              " 'I',\n",
              " 'I',\n",
              " 'I',\n",
              " 'I',\n",
              " 'I',\n",
              " 'I',\n",
              " 'I',\n",
              " 'I',\n",
              " 'I',\n",
              " 'I',\n",
              " 'I',\n",
              " 'I',\n",
              " 'BARE',\n",
              " 'HANDS',\n",
              " 'I',\n",
              " 'I',\n",
              " 'I',\n",
              " 'I',\n",
              " 'I',\n",
              " 'I',\n",
              " 'I',\n",
              " 'I',\n",
              " 'I',\n",
              " 'I',\n",
              " 'I',\n",
              " 'I',\n",
              " 'I',\n",
              " 'I',\n",
              " 'I',\n",
              " 'WEAK',\n",
              " 'I',\n",
              " 'I',\n",
              " 'I',\n",
              " 'I',\n",
              " 'I',\n",
              " 'I',\n",
              " 'I',\n",
              " 'I',\n",
              " 'SHOULD',\n",
              " 'I',\n",
              " 'I',\n",
              " 'I',\n",
              " 'RI',\n",
              " 'I',\n",
              " 'I',\n",
              " 'I',\n",
              " 'I',\n",
              " 'I',\n",
              " 'I',\n",
              " 'I',\n",
              " 'VERY',\n",
              " 'I',\n",
              " 'I',\n",
              " 'I',\n",
              " 'NOT',\n",
              " 'I',\n",
              " 'I',\n",
              " 'I',\n",
              " 'I',\n",
              " 'I',\n",
              " 'I',\n",
              " 'I',\n",
              " 'I',\n",
              " 'I',\n",
              " 'I',\n",
              " 'I',\n",
              " 'I',\n",
              " 'I',\n",
              " 'I',\n",
              " 'I',\n",
              " 'I',\n",
              " 'I',\n",
              " 'I',\n",
              " 'A',\n",
              " 'I',\n",
              " 'I',\n",
              " 'I',\n",
              " 'I',\n",
              " 'I',\n",
              " 'I']"
            ]
          },
          "metadata": {},
          "execution_count": 14
        }
      ]
    },
    {
      "cell_type": "code",
      "source": [
        "print (\"Se encontraron\",len(searched_items), \"palabras\")"
      ],
      "metadata": {
        "colab": {
          "base_uri": "https://localhost:8080/"
        },
        "id": "jgVFyfBaiVmA",
        "outputId": "fe4f2065-a9f3-4ae4-9a5b-021b92541406"
      },
      "execution_count": 15,
      "outputs": [
        {
          "output_type": "stream",
          "name": "stdout",
          "text": [
            "Se encontraron 455 palabras\n"
          ]
        }
      ]
    },
    {
      "cell_type": "markdown",
      "source": [
        "*   **Pregunta 4.**  \n",
        "\n",
        "Busca e imprime los comentarios en donde todos los caracteres alfabéticos (letras) están en mayúsculas. \n",
        "\n",
        "Cada coincidencia encontrada debe ser todo el comentario/enunciado.\n",
        "\n",
        "Indica cuántos resultados obtuviste.\n"
      ],
      "metadata": {
        "id": "GX8eYyDoMZma"
      }
    },
    {
      "cell_type": "code",
      "source": [
        "searched_items=[]"
      ],
      "metadata": {
        "id": "5CkFPIhY-Jcc"
      },
      "execution_count": 16,
      "outputs": []
    },
    {
      "cell_type": "code",
      "source": [
        "for i in range(len(docs)):\n",
        "  if not re.findall(r\"\\w+[a-z]\", docs[i]):\n",
        "      searched_items.append(docs[i])"
      ],
      "metadata": {
        "id": "aCF2588d-SFo"
      },
      "execution_count": 17,
      "outputs": []
    },
    {
      "cell_type": "code",
      "source": [
        "searched_items"
      ],
      "metadata": {
        "colab": {
          "base_uri": "https://localhost:8080/"
        },
        "id": "9_USfPi4-iX0",
        "outputId": "d4dba5bc-c9d1-4333-b7fc-e1ddc0d1a932"
      },
      "execution_count": 18,
      "outputs": [
        {
          "output_type": "execute_result",
          "data": {
            "text/plain": [
              "['DELICIOUS!!',\n",
              " 'RUDE & INCONSIDERATE MANAGEMENT.',\n",
              " 'WILL NEVER EVER GO BACK AND HAVE TOLD MANY PEOPLE WHAT HAD HAPPENED.',\n",
              " 'TOTAL WASTE OF TIME.',\n",
              " 'AVOID THIS ESTABLISHMENT!']"
            ]
          },
          "metadata": {},
          "execution_count": 18
        }
      ]
    },
    {
      "cell_type": "code",
      "source": [
        "print (\"Se encontraron\",len(searched_items), \"frases\")"
      ],
      "metadata": {
        "colab": {
          "base_uri": "https://localhost:8080/"
        },
        "id": "qK0-WhQwJnwt",
        "outputId": "0b8865aa-b02b-4861-b0f3-64bdb1137ce6"
      },
      "execution_count": 19,
      "outputs": [
        {
          "output_type": "stream",
          "name": "stdout",
          "text": [
            "Se encontraron 5 frases\n"
          ]
        }
      ]
    },
    {
      "cell_type": "markdown",
      "source": [
        "*   **Pregunta 5.**  \n",
        "\n",
        "Busca e imprime todas las palabras que tengan una vocal acentuada, del tipo á, é, í, ó, ú. \n",
        "\n",
        "Indica cuántos resultados obtuviste."
      ],
      "metadata": {
        "id": "a1i6qv7-McmU"
      }
    },
    {
      "cell_type": "code",
      "source": [
        "searched_items=[]"
      ],
      "metadata": {
        "id": "nZZ5zKUOMeGD"
      },
      "execution_count": 20,
      "outputs": []
    },
    {
      "cell_type": "code",
      "source": [
        "for i in range(len(docs)):\n",
        "  if re.findall(r\"\\w*(?:á|é|í|ó|ú)\\w*\", docs[i]):\n",
        "    searched_items.append(re.findall(r\"\\w*(?:á|é|í|ó|ú)\\w*\", docs[i]))"
      ],
      "metadata": {
        "id": "I_VTlZs8xWz4"
      },
      "execution_count": 21,
      "outputs": []
    },
    {
      "cell_type": "code",
      "source": [
        "searched_items"
      ],
      "metadata": {
        "colab": {
          "base_uri": "https://localhost:8080/"
        },
        "id": "lwEVg8fpMaOz",
        "outputId": "99831c08-8dfd-4124-946b-f5d28dd03b6c"
      },
      "execution_count": 22,
      "outputs": [
        {
          "output_type": "execute_result",
          "data": {
            "text/plain": [
              "[['fiancé'], ['Café'], ['puréed']]"
            ]
          },
          "metadata": {},
          "execution_count": 22
        }
      ]
    },
    {
      "cell_type": "code",
      "source": [
        "print (\"Se encontraron\",len(searched_items), \"palabras\")"
      ],
      "metadata": {
        "colab": {
          "base_uri": "https://localhost:8080/"
        },
        "id": "nV-LepjiPAki",
        "outputId": "fd5b404b-d62c-492e-a3ce-bd54b94d6c9b"
      },
      "execution_count": 23,
      "outputs": [
        {
          "output_type": "stream",
          "name": "stdout",
          "text": [
            "Se encontraron 3 palabras\n"
          ]
        }
      ]
    },
    {
      "cell_type": "markdown",
      "source": [
        "*   **Pregunta 6.**  \n",
        "\n",
        "Busca e imprime todas las cantidades numéricas monetarias, enteras o con decimales, que inician con el símbolo $\\$$. \n",
        "\n",
        "Indica cuántos resultados obtuviste."
      ],
      "metadata": {
        "id": "ZmPiAI82Mfb3"
      }
    },
    {
      "cell_type": "code",
      "source": [
        "searched_items=[]"
      ],
      "metadata": {
        "id": "6vhe9-Y-MhL9"
      },
      "execution_count": 24,
      "outputs": []
    },
    {
      "cell_type": "code",
      "source": [
        "for i in range(len(docs)):\n",
        "  if re.findall(r\"[$]\\d{1,}[.]?\\d{0,}\", docs[i]):\n",
        "    lista = docs[i].split()\n",
        "    for j in range(len(lista)):\n",
        "      if re.findall(r\"[$]\\d{1,}[.]?\\d{0,}\", lista[j]):\n",
        "        searched_items.append(lista[j])"
      ],
      "metadata": {
        "id": "_t0a5xWDMhQ5"
      },
      "execution_count": 25,
      "outputs": []
    },
    {
      "cell_type": "code",
      "source": [
        "searched_items"
      ],
      "metadata": {
        "colab": {
          "base_uri": "https://localhost:8080/"
        },
        "id": "9FwPDhoDWFpO",
        "outputId": "109f8538-431e-44a7-ffa5-f5030ef4cea0"
      },
      "execution_count": 26,
      "outputs": [
        {
          "output_type": "execute_result",
          "data": {
            "text/plain": [
              "['$20,', '$4.00.\"', '$17', '$3', '$35', '$7.85', '$12,', '$11.99']"
            ]
          },
          "metadata": {},
          "execution_count": 26
        }
      ]
    },
    {
      "cell_type": "code",
      "source": [
        "print (\"Se encontraron\",len(searched_items), \"cantidades\")"
      ],
      "metadata": {
        "colab": {
          "base_uri": "https://localhost:8080/"
        },
        "id": "tJ3iYk6XW8aa",
        "outputId": "585000b6-0a20-4264-9969-fa4052120935"
      },
      "execution_count": 27,
      "outputs": [
        {
          "output_type": "stream",
          "name": "stdout",
          "text": [
            "Se encontraron 8 cantidades\n"
          ]
        }
      ]
    },
    {
      "cell_type": "markdown",
      "source": [
        "*   **Pregunta 7.**  \n",
        "\n",
        "Busca e imprime todas las palabras que sean variantes de la palabra \"love\", sin importar si incluyen mayúsculas o minúsculas, o la manera en que esté conjugada o alguna otra variación que se haga con dicha palabra.\n",
        "\n",
        "Indica cuántos resultados obtuviste."
      ],
      "metadata": {
        "id": "2j-HpvhwMhq2"
      }
    },
    {
      "cell_type": "code",
      "source": [
        "searched_items=[]"
      ],
      "metadata": {
        "id": "kqqyRChVMjol"
      },
      "execution_count": 28,
      "outputs": []
    },
    {
      "cell_type": "code",
      "source": [
        "for i in range(len(docs)):\n",
        "  if re.findall(r\"[l|L][o|O]+[v|V]\\w+\", docs[i]):\n",
        "        searched_items.append(re.findall(r\"[l|L][o|O]+[v|V]\\w+\",docs[i]))\n",
        "  "
      ],
      "metadata": {
        "id": "mCqpCjKWzOG9"
      },
      "execution_count": 29,
      "outputs": []
    },
    {
      "cell_type": "code",
      "source": [
        "searched_items"
      ],
      "metadata": {
        "colab": {
          "base_uri": "https://localhost:8080/"
        },
        "id": "pagEpv1PZbt8",
        "outputId": "74b9da32-184e-457f-bf1f-d86c17daeec3"
      },
      "execution_count": 30,
      "outputs": [
        {
          "output_type": "execute_result",
          "data": {
            "text/plain": [
              "[['Loved'],\n",
              " ['loved'],\n",
              " ['Loved'],\n",
              " ['love'],\n",
              " ['loves'],\n",
              " ['LOVED'],\n",
              " ['lovers'],\n",
              " ['loving'],\n",
              " ['love'],\n",
              " ['lovers'],\n",
              " ['Love'],\n",
              " ['loved'],\n",
              " ['loved'],\n",
              " ['love'],\n",
              " ['love'],\n",
              " ['love'],\n",
              " ['loved'],\n",
              " ['love'],\n",
              " ['loved'],\n",
              " ['Love'],\n",
              " ['LOVED'],\n",
              " ['love'],\n",
              " ['lovely'],\n",
              " ['love'],\n",
              " ['lovely'],\n",
              " ['love'],\n",
              " ['lover'],\n",
              " ['loved'],\n",
              " ['love'],\n",
              " ['love'],\n",
              " ['love'],\n",
              " ['love'],\n",
              " ['loves'],\n",
              " ['love'],\n",
              " ['love'],\n",
              " ['love'],\n",
              " ['love']]"
            ]
          },
          "metadata": {},
          "execution_count": 30
        }
      ]
    },
    {
      "cell_type": "code",
      "source": [
        "print (\"Se encontraron\",len(searched_items), \"palabras\")"
      ],
      "metadata": {
        "colab": {
          "base_uri": "https://localhost:8080/"
        },
        "id": "eKqSyvLRZhu4",
        "outputId": "178e8634-da43-48e7-a5bc-3d233e5b6e81"
      },
      "execution_count": 31,
      "outputs": [
        {
          "output_type": "stream",
          "name": "stdout",
          "text": [
            "Se encontraron 37 palabras\n"
          ]
        }
      ]
    },
    {
      "cell_type": "markdown",
      "source": [
        "*   **Pregunta 8.**  \n",
        "\n",
        "Busca e imprime todas las palabras, variantes de \"so\" y \"good\", que tengan dos o más \"o\" en \"so\" y 3 o más \"o\" en good. \n",
        "\n",
        "Indica cuántas encontraste.\n"
      ],
      "metadata": {
        "id": "Ctb-NTY3MkYG"
      }
    },
    {
      "cell_type": "code",
      "source": [
        "searched_items=[]\n"
      ],
      "metadata": {
        "id": "A8Nf3B_cMlqg"
      },
      "execution_count": 32,
      "outputs": []
    },
    {
      "cell_type": "code",
      "source": [
        "for i in range(len(docs)):\n",
        "  if re.findall(r\"[s|S](?:[o|O]{2,})\\b|[g|G](?:[o|O]{3,})d+\\b\", docs[i]):\n",
        "        searched_items.append(re.findall(\"[s|S](?:[o|O]{2,})\\w*|[g|G](?:[o|O]{3,})d+\\w+\",docs[i]))\n"
      ],
      "metadata": {
        "id": "UTSrPvQy1ojK"
      },
      "execution_count": 33,
      "outputs": []
    },
    {
      "cell_type": "code",
      "source": [
        "searched_items"
      ],
      "metadata": {
        "colab": {
          "base_uri": "https://localhost:8080/"
        },
        "id": "BZ1S1-vlwh1_",
        "outputId": "1ccf6faf-17f0-48b0-931e-a3710746f9ca"
      },
      "execution_count": 34,
      "outputs": [
        {
          "output_type": "execute_result",
          "data": {
            "text/plain": [
              "[['Sooooo'], ['soooo'], ['gooodd'], ['soooooo'], ['soooo']]"
            ]
          },
          "metadata": {},
          "execution_count": 34
        }
      ]
    },
    {
      "cell_type": "code",
      "source": [
        "print (\"Se encontraron\",len(searched_items), \"palabras\")"
      ],
      "metadata": {
        "colab": {
          "base_uri": "https://localhost:8080/"
        },
        "id": "PFXII72sy9Zd",
        "outputId": "a57bc6d3-35cf-4024-825d-f16295cbf551"
      },
      "execution_count": 35,
      "outputs": [
        {
          "output_type": "stream",
          "name": "stdout",
          "text": [
            "Se encontraron 5 palabras\n"
          ]
        }
      ]
    },
    {
      "cell_type": "markdown",
      "source": [
        "*   **Pregunta 9.**  \n",
        "\n",
        "Busca e imprime todas las palabras que tengan una longitud mayor estrictamente a 10 caracteres alfabéticos.\n",
        "\n",
        "No se consideran los signos de puntuación o caracteres especiales en la longitud de estas cadenas, solo caracteres alfabéticos en mayúsculas o minúsculas.\n",
        "\n",
        "Indica la cantidad de palabras encontradas.\n"
      ],
      "metadata": {
        "id": "hkak1opjMmlk"
      }
    },
    {
      "cell_type": "code",
      "source": [
        "searched_items=[]\n"
      ],
      "metadata": {
        "id": "PYxdp3uhMoD0"
      },
      "execution_count": 36,
      "outputs": []
    },
    {
      "cell_type": "code",
      "source": [
        "for i in range(len(docs)):\n",
        "  if re.findall(r\"\\w{11,}\", docs[i]):\n",
        "    lista = docs[i].split()\n",
        "    for j in range(len(lista)):\n",
        "      if re.findall(r\"\\w{11,}\", lista[j]):\n",
        "        searched_items.append(re.findall(r\"\\w{11,}\",lista[j]))\n"
      ],
      "metadata": {
        "id": "BR7e2F4FMof-"
      },
      "execution_count": 37,
      "outputs": []
    },
    {
      "cell_type": "code",
      "source": [
        "searched_items"
      ],
      "metadata": {
        "colab": {
          "base_uri": "https://localhost:8080/"
        },
        "id": "_VjQvyd88ntk",
        "outputId": "7b955b98-bc7c-4b9e-e96f-d06438803c76"
      },
      "execution_count": 38,
      "outputs": [
        {
          "output_type": "execute_result",
          "data": {
            "text/plain": [
              "[['recommendation'],\n",
              " ['recommended'],\n",
              " ['overwhelmed'],\n",
              " ['inexpensive'],\n",
              " ['establishment'],\n",
              " ['imaginative'],\n",
              " ['opportunity'],\n",
              " ['experiencing'],\n",
              " ['underwhelming'],\n",
              " ['relationship'],\n",
              " ['unsatisfying'],\n",
              " ['disappointing'],\n",
              " ['outrageously'],\n",
              " ['disappointing'],\n",
              " ['expectations'],\n",
              " ['restaurants'],\n",
              " ['suggestions'],\n",
              " ['disappointed'],\n",
              " ['considering'],\n",
              " ['Unfortunately'],\n",
              " ['immediately'],\n",
              " ['ingredients'],\n",
              " ['accommodations'],\n",
              " ['maintaining'],\n",
              " ['Interesting'],\n",
              " ['disrespected'],\n",
              " ['accordingly'],\n",
              " ['unbelievable'],\n",
              " ['cheeseburger'],\n",
              " ['descriptions'],\n",
              " ['inexpensive'],\n",
              " ['disappointed'],\n",
              " ['Veggitarian'],\n",
              " ['outstanding'],\n",
              " ['recommendation'],\n",
              " ['disappointed'],\n",
              " ['disappointed'],\n",
              " ['neighborhood'],\n",
              " ['disappointed'],\n",
              " ['corporation'],\n",
              " ['considering'],\n",
              " ['exceptional'],\n",
              " ['shawarrrrrrma'],\n",
              " ['disappointed'],\n",
              " ['vinaigrette'],\n",
              " ['immediately'],\n",
              " ['unbelievably'],\n",
              " ['replenished'],\n",
              " ['disappointed'],\n",
              " ['enthusiastic'],\n",
              " ['Outstanding'],\n",
              " ['comfortable'],\n",
              " ['interesting'],\n",
              " ['INCONSIDERATE'],\n",
              " ['considering'],\n",
              " ['transcendant'],\n",
              " ['disappointment'],\n",
              " ['disappointed'],\n",
              " ['disappointed'],\n",
              " ['overwhelmed'],\n",
              " ['professional'],\n",
              " ['Furthermore'],\n",
              " ['combination'],\n",
              " ['connoisseur'],\n",
              " ['profiterole'],\n",
              " ['outstanding'],\n",
              " ['acknowledged'],\n",
              " ['ventilation'],\n",
              " ['beautifully'],\n",
              " ['establishment'],\n",
              " ['extraordinary'],\n",
              " ['disappointed'],\n",
              " ['cheesecurds'],\n",
              " ['disappointed'],\n",
              " ['interesting'],\n",
              " ['experienced'],\n",
              " ['opportunity'],\n",
              " ['disgraceful'],\n",
              " ['restaurants'],\n",
              " ['ESTABLISHMENT'],\n",
              " ['recommended'],\n",
              " ['disappointed'],\n",
              " ['recommended'],\n",
              " ['acknowledged'],\n",
              " ['presentation'],\n",
              " ['Philadelphia'],\n",
              " ['disappointed'],\n",
              " ['disappointing'],\n",
              " ['grandmother'],\n",
              " ['drastically'],\n",
              " ['informative'],\n",
              " ['Disappointed'],\n",
              " ['constructed'],\n",
              " ['comfortable'],\n",
              " ['Smashburger'],\n",
              " ['cheeseburger'],\n",
              " ['neighborhood'],\n",
              " ['disappointed'],\n",
              " ['hospitality'],\n",
              " ['recommending'],\n",
              " ['disappointed'],\n",
              " ['deliciously'],\n",
              " ['compliments'],\n",
              " ['recommendation'],\n",
              " ['establishment'],\n",
              " ['calligraphy'],\n",
              " ['traditional'],\n",
              " ['combination'],\n",
              " ['Unfortunately'],\n",
              " ['Wienerschnitzel'],\n",
              " ['unfortunately'],\n",
              " ['considering'],\n",
              " ['highlighted'],\n",
              " ['Mediterranean'],\n",
              " ['unprofessional'],\n",
              " ['anticipated'],\n",
              " ['disappointing'],\n",
              " ['unexperienced'],\n",
              " ['disrespected'],\n",
              " ['professional'],\n",
              " ['restaurants'],\n",
              " ['Disappointing'],\n",
              " ['WAAAAAAyyyyyyyyyy'],\n",
              " ['reservation'],\n",
              " ['imagination'],\n",
              " ['undercooked'],\n",
              " ['disappointed'],\n",
              " ['disappointment'],\n",
              " ['disappointment'],\n",
              " ['deuchebaggery'],\n",
              " ['disappointed'],\n",
              " ['disappointment'],\n",
              " ['immediately'],\n",
              " ['Unfortunately'],\n",
              " ['disapppointment'],\n",
              " ['circumstances'],\n",
              " ['undercooked'],\n",
              " ['caterpillar'],\n",
              " ['presentation'],\n",
              " ['disappointed'],\n",
              " ['underwhelming']]"
            ]
          },
          "metadata": {},
          "execution_count": 38
        }
      ]
    },
    {
      "cell_type": "code",
      "source": [
        "print (\"Se encontraron\",len(searched_items), \"palabras\")"
      ],
      "metadata": {
        "colab": {
          "base_uri": "https://localhost:8080/"
        },
        "id": "9SI09zGt1Gn8",
        "outputId": "32b86f0d-b827-4fbb-89e2-d8ca5ec92590"
      },
      "execution_count": 39,
      "outputs": [
        {
          "output_type": "stream",
          "name": "stdout",
          "text": [
            "Se encontraron 141 palabras\n"
          ]
        }
      ]
    },
    {
      "cell_type": "markdown",
      "source": [
        "*   **Pregunta 10.**  \n",
        "\n",
        "Busca e imprime todas las palabras que inician con una letra mayúscula y terminan con una minúscula, pero que además no sea la primera palabra del comentario/string. \n",
        "\n",
        "Indica la cantidad de resultados obtenidos."
      ],
      "metadata": {
        "id": "ApjTNzSxMpDc"
      }
    },
    {
      "cell_type": "code",
      "source": [
        "searched_items=[]"
      ],
      "metadata": {
        "id": "hWWxx_4g401n"
      },
      "execution_count": 40,
      "outputs": []
    },
    {
      "cell_type": "code",
      "source": [
        "lista=[]\n",
        "for i in range(len(docs)):\n",
        "    lista.append(re.findall(r\"\\w*(?:[A-Z]|[a-z])\\w*\",docs[i]))\n",
        "    for j in range(len(lista[i])):\n",
        "      if j != 0:\n",
        "        if re.findall(r\"\\w*[A-Z][a-z]+\",lista[i][j]):\n",
        "           searched_items.append(re.findall(r\"\\w*[A-Z][a-z]+\",lista[i][j]))\n"
      ],
      "metadata": {
        "id": "gcm7Wz6EDzPm"
      },
      "execution_count": 41,
      "outputs": []
    },
    {
      "cell_type": "code",
      "source": [
        "searched_items"
      ],
      "metadata": {
        "id": "dLPTRPnTMqqx",
        "colab": {
          "base_uri": "https://localhost:8080/"
        },
        "outputId": "75e3d3a3-8a77-4741-ca62-73c00b4678e1"
      },
      "execution_count": 42,
      "outputs": [
        {
          "output_type": "execute_result",
          "data": {
            "text/plain": [
              "[['Loved'],\n",
              " ['May'],\n",
              " ['Rick'],\n",
              " ['Steve'],\n",
              " ['Cape'],\n",
              " ['Cod'],\n",
              " ['Vegas'],\n",
              " ['Burrittos'],\n",
              " ['Blah'],\n",
              " ['The'],\n",
              " ['Mexican'],\n",
              " ['Luke'],\n",
              " ['Our'],\n",
              " ['Hiro'],\n",
              " ['Firehouse'],\n",
              " ['Greek'],\n",
              " ['Greek'],\n",
              " ['Heart'],\n",
              " ['Attack'],\n",
              " ['Grill'],\n",
              " ['Vegas'],\n",
              " ['Dos'],\n",
              " ['Gringos'],\n",
              " ['Jeff'],\n",
              " ['Excalibur'],\n",
              " ['Very'],\n",
              " ['Bad'],\n",
              " ['Customer'],\n",
              " ['Service'],\n",
              " ['Vegas'],\n",
              " ['Rice'],\n",
              " ['Company'],\n",
              " ['Pho'],\n",
              " ['Hard'],\n",
              " ['Rock'],\n",
              " ['Casino'],\n",
              " ['Buffet'],\n",
              " ['Tigerlilly'],\n",
              " ['Yama'],\n",
              " ['Thai'],\n",
              " ['Indian'],\n",
              " ['Not'],\n",
              " ['Vegas'],\n",
              " ['Lox'],\n",
              " ['Subway'],\n",
              " ['Subway'],\n",
              " ['Vegas'],\n",
              " ['Vegas'],\n",
              " ['Mandalay'],\n",
              " ['Bay'],\n",
              " ['Great'],\n",
              " ['Voodoo'],\n",
              " ['Phoenix'],\n",
              " ['Vegas'],\n",
              " ['Khao'],\n",
              " ['Soi'],\n",
              " ['Lemon'],\n",
              " ['Joey'],\n",
              " ['Valley'],\n",
              " ['Phoenix'],\n",
              " ['Magazine'],\n",
              " ['Pho'],\n",
              " ['Fridays'],\n",
              " ['Tasty'],\n",
              " ['Jamaican'],\n",
              " ['Bisque'],\n",
              " ['Bussell'],\n",
              " ['Sprouts'],\n",
              " ['Risotto'],\n",
              " ['Filet'],\n",
              " ['Otto'],\n",
              " ['Yeah'],\n",
              " ['Honestly'],\n",
              " ['Not'],\n",
              " ['Also'],\n",
              " ['Vegas'],\n",
              " ['Greek'],\n",
              " ['Vegas'],\n",
              " ['Veggitarian'],\n",
              " ['Madison'],\n",
              " ['Ironman'],\n",
              " ['Jenni'],\n",
              " ['Pho'],\n",
              " ['Bachi'],\n",
              " ['Burger'],\n",
              " ['Pizza'],\n",
              " ['Salads'],\n",
              " ['They'],\n",
              " ['Yelpers'],\n",
              " ['Bachi'],\n",
              " ['Service'],\n",
              " ['English'],\n",
              " ['Pizza'],\n",
              " ['Hut'],\n",
              " ['Seat'],\n",
              " ['Gold'],\n",
              " ['Standard'],\n",
              " ['Thai'],\n",
              " ['Tucson'],\n",
              " ['Vegas'],\n",
              " ['Chipotle'],\n",
              " ['Baseball'],\n",
              " ['Gordon'],\n",
              " ['Ramsey'],\n",
              " ['Steak'],\n",
              " ['Vegas'],\n",
              " ['Outstanding'],\n",
              " ['Best'],\n",
              " ['Food'],\n",
              " ['Lobster'],\n",
              " ['Bisque'],\n",
              " ['Vegas'],\n",
              " ['Eggplant'],\n",
              " ['Green'],\n",
              " ['Bean'],\n",
              " ['Halibut'],\n",
              " ['Vegas'],\n",
              " ['Vegas'],\n",
              " ['Vegas'],\n",
              " ['Crystals'],\n",
              " ['Aria'],\n",
              " ['Ians'],\n",
              " ['Bouchon'],\n",
              " ['San'],\n",
              " ['Francisco'],\n",
              " ['Bay'],\n",
              " ['Area'],\n",
              " ['Buldogis'],\n",
              " ['Gourmet'],\n",
              " ['Hot'],\n",
              " ['Dog'],\n",
              " ['Steiners'],\n",
              " ['Carly'],\n",
              " ['Vegas'],\n",
              " ['Camelback'],\n",
              " ['Flower'],\n",
              " ['Shop'],\n",
              " ['Cartel'],\n",
              " ['Coffee'],\n",
              " ['Las'],\n",
              " ['Vegas'],\n",
              " ['Bunch'],\n",
              " ['Very'],\n",
              " ['Mom'],\n",
              " ['Noca'],\n",
              " ['Vegas'],\n",
              " ['Sat'],\n",
              " ['Sun'],\n",
              " ['Mexican'],\n",
              " ['Frenchman'],\n",
              " ['Perfect'],\n",
              " ['Vegas'],\n",
              " ['Palm'],\n",
              " ['Are'],\n",
              " ['This'],\n",
              " ['Thai'],\n",
              " ['Toast'],\n",
              " ['Thai'],\n",
              " ['Phoenix'],\n",
              " ['Crema'],\n",
              " ['Caf'],\n",
              " ['Philadelphia'],\n",
              " ['North'],\n",
              " ['Scottsdale'],\n",
              " ['Bloody'],\n",
              " ['Mary'],\n",
              " ['Pho'],\n",
              " ['Caesar'],\n",
              " ['Macarons'],\n",
              " ['Experience'],\n",
              " ['Very'],\n",
              " ['Disappointed'],\n",
              " ['Big'],\n",
              " ['Bay'],\n",
              " ['Plater'],\n",
              " ['Italian'],\n",
              " ['Vegas'],\n",
              " ['Baba'],\n",
              " ['Ganoush'],\n",
              " ['Nobu'],\n",
              " ['Smashburger'],\n",
              " ['Panna'],\n",
              " ['Cotta'],\n",
              " ['Breeze'],\n",
              " ['Mango'],\n",
              " ['Magic'],\n",
              " ['Pineapple'],\n",
              " ['Delight'],\n",
              " ['The'],\n",
              " ['Strip'],\n",
              " ['Steak'],\n",
              " ['Paradise'],\n",
              " ['Valley'],\n",
              " ['Cibo'],\n",
              " ['Up'],\n",
              " ['Italian'],\n",
              " ['Pros'],\n",
              " ['Large'],\n",
              " ['Nice'],\n",
              " ['Great'],\n",
              " ['The'],\n",
              " ['Elk'],\n",
              " ['Filet'],\n",
              " ['Dylan'],\n",
              " ['All'],\n",
              " ['Han'],\n",
              " ['Nan'],\n",
              " ['Chicken'],\n",
              " ['Bar'],\n",
              " ['Edinburgh'],\n",
              " ['Chinese'],\n",
              " ['Indian'],\n",
              " ['Chinese'],\n",
              " ['Prices'],\n",
              " ['Phoenix'],\n",
              " ['Hot'],\n",
              " ['Sour'],\n",
              " ['Egg'],\n",
              " ['Flower'],\n",
              " ['Soups'],\n",
              " ['Stars'],\n",
              " ['Sunday'],\n",
              " ['Hunan'],\n",
              " ['The'],\n",
              " ['Pita'],\n",
              " ['Wienerschnitzel'],\n",
              " ['Maine'],\n",
              " ['Lobster'],\n",
              " ['Roll'],\n",
              " ['Kabuki'],\n",
              " ['Maria'],\n",
              " ['Caballero'],\n",
              " ['Wife'],\n",
              " ['Everything'],\n",
              " ['Strip'],\n",
              " ['Costco'],\n",
              " ['To'],\n",
              " ['Place'],\n",
              " ['Gyros'],\n",
              " ['Japanese'],\n",
              " ['Albondigas'],\n",
              " ['Mediterranean'],\n",
              " ['Chicken'],\n",
              " ['Salad'],\n",
              " ['Mellow'],\n",
              " ['Mushroom'],\n",
              " ['Thai'],\n",
              " ['Vegas'],\n",
              " ['Mmmm'],\n",
              " ['Buffet'],\n",
              " ['Bellagio'],\n",
              " ['Vegas'],\n",
              " ['Christmas'],\n",
              " ['Eve'],\n",
              " ['Denny'],\n",
              " ['Vegetarian'],\n",
              " ['Taco'],\n",
              " ['Heimer'],\n",
              " ['Ha'],\n",
              " ['Long'],\n",
              " ['Bay'],\n",
              " ['Subway'],\n",
              " ['When'],\n",
              " ['Brushfire'],\n",
              " ['Mirage'],\n",
              " ['In'],\n",
              " ['Ninja'],\n",
              " ['Sushi']]"
            ]
          },
          "metadata": {},
          "execution_count": 42
        }
      ]
    },
    {
      "cell_type": "code",
      "source": [
        "print (\"Se encontraron\",len(searched_items), \"palabras\")"
      ],
      "metadata": {
        "colab": {
          "base_uri": "https://localhost:8080/"
        },
        "id": "LrrADpvt8X6q",
        "outputId": "7d83c7af-dd6b-42d0-914e-7072a3713131"
      },
      "execution_count": 43,
      "outputs": [
        {
          "output_type": "stream",
          "name": "stdout",
          "text": [
            "Se encontraron 268 palabras\n"
          ]
        }
      ]
    },
    {
      "cell_type": "markdown",
      "source": [
        "*   **Pregunta 11.**  \n",
        "\n",
        "Busca e imprime la secuencia de dos o más palabras que están separadas por un guion, \"-\", sin que tengan espacios en blanco entre ellas.\n",
        "\n",
        "Por ejemplo \"Go-Kart\" sería válido, pero \"Go  -Kart\" o \"Go  -  Kart\" no lo serían. \n",
        "\n",
        "Indica la cantidad de resultados obtenidos."
      ],
      "metadata": {
        "id": "u7nfm4KhMrNW"
      }
    },
    {
      "cell_type": "code",
      "source": [
        "searched_items=[]"
      ],
      "metadata": {
        "id": "OwU-a7eGMsub"
      },
      "execution_count": 44,
      "outputs": []
    },
    {
      "cell_type": "code",
      "source": [
        "for i in range(len(docs)):\n",
        "  if re.findall(r\"\\w+(?:[-]\\w+)+\", docs[i]):\n",
        "    lista = docs[i].split()\n",
        "    for j in range(len(lista)):\n",
        "      if re.findall(r\"\\w+(?:[-]\\w+)+\", lista[j]):\n",
        "        searched_items.append(lista[j])"
      ],
      "metadata": {
        "id": "rwT5BUuk9VME"
      },
      "execution_count": 45,
      "outputs": []
    },
    {
      "cell_type": "code",
      "source": [
        "searched_items"
      ],
      "metadata": {
        "colab": {
          "base_uri": "https://localhost:8080/"
        },
        "id": "5k2IZ5sKeN6r",
        "outputId": "51e8a735-4a08-4173-f843-b0673d751e45"
      },
      "execution_count": 46,
      "outputs": [
        {
          "output_type": "execute_result",
          "data": {
            "text/plain": [
              "['flat-lined',\n",
              " 'hands-down',\n",
              " 'must-stop',\n",
              " 'sub-par',\n",
              " 'Service-check!',\n",
              " 'in-house!',\n",
              " 'been-stepped-in-and-tracked-everywhere',\n",
              " 'multi-grain',\n",
              " 'to-go',\n",
              " 'non-customer',\n",
              " 'High-quality',\n",
              " 'sit-down',\n",
              " 'over-whelm',\n",
              " 'low-key,',\n",
              " 'non-fancy,',\n",
              " 'golden-crispy',\n",
              " 'over-priced,',\n",
              " 'over-hip',\n",
              " 'under-services.\"']"
            ]
          },
          "metadata": {},
          "execution_count": 46
        }
      ]
    },
    {
      "cell_type": "code",
      "source": [
        "print (\"Se encontraron\",len(searched_items), \"palabras\")"
      ],
      "metadata": {
        "colab": {
          "base_uri": "https://localhost:8080/"
        },
        "id": "dJfkdiqJe8Sr",
        "outputId": "cb2308fc-e547-4a18-add9-32aad1d7e100"
      },
      "execution_count": 47,
      "outputs": [
        {
          "output_type": "stream",
          "name": "stdout",
          "text": [
            "Se encontraron 19 palabras\n"
          ]
        }
      ]
    },
    {
      "cell_type": "markdown",
      "source": [
        "*   **Pregunta 12.**  \n",
        "\n",
        "Busca e imprime todas las palabras que terminan en \"ing\" o \"ed\". \n",
        "\n",
        "Indica la cantidad de palabras que encontraste de cada una."
      ],
      "metadata": {
        "id": "DEIgl79HMthr"
      }
    },
    {
      "cell_type": "code",
      "source": [
        "searched_items=[]"
      ],
      "metadata": {
        "id": "I4TSofBMMv9y"
      },
      "execution_count": 48,
      "outputs": []
    },
    {
      "cell_type": "code",
      "source": [
        "for i in range(len(docs)):\n",
        "  if re.findall(r\"\\w+(?:ing|ed)\", docs[i]):\n",
        "    lista = re.findall(r\"\\w+(?:ing|ed)\",docs[i])\n",
        "    for j in range(len(lista)):\n",
        "      searched_items.append(re.findall(\"\\w+(?:ing|ed)\",lista[j]))\n",
        "\n",
        "  "
      ],
      "metadata": {
        "id": "AhGq6De2Mvyh"
      },
      "execution_count": 49,
      "outputs": []
    },
    {
      "cell_type": "code",
      "source": [
        "searched_items"
      ],
      "metadata": {
        "colab": {
          "base_uri": "https://localhost:8080/"
        },
        "id": "UFr8xPiIryoH",
        "outputId": "51709bf9-8d6a-4383-9439-b31263cb296f"
      },
      "execution_count": 50,
      "outputs": [
        {
          "output_type": "execute_result",
          "data": {
            "text/plain": [
              "[['Loved'],\n",
              " ['Stopped'],\n",
              " ['during'],\n",
              " ['loved'],\n",
              " ['getting'],\n",
              " ['being'],\n",
              " ['ended'],\n",
              " ['being'],\n",
              " ['overpriced'],\n",
              " ['tried'],\n",
              " ['disgusted'],\n",
              " ['shocked'],\n",
              " ['recommended'],\n",
              " ['amazing'],\n",
              " ['performed'],\n",
              " ['red'],\n",
              " ['asked'],\n",
              " ['running'],\n",
              " ['overwhelmed'],\n",
              " ['redeeming'],\n",
              " ['grossed'],\n",
              " ['melted'],\n",
              " ['getting'],\n",
              " ['provided'],\n",
              " ['thing'],\n",
              " ['cooked'],\n",
              " ['dressing'],\n",
              " ['refreshing'],\n",
              " ['ordered'],\n",
              " ['running'],\n",
              " ['realized'],\n",
              " ['Loved'],\n",
              " ['lined'],\n",
              " ['string'],\n",
              " ['cooked'],\n",
              " ['ripped'],\n",
              " ['ripped'],\n",
              " ['petrified'],\n",
              " ['Gring'],\n",
              " ['amazing'],\n",
              " ['included'],\n",
              " ['tasting'],\n",
              " ['expected'],\n",
              " ['nothing'],\n",
              " ['appalling'],\n",
              " ['seasoned'],\n",
              " ['cheated'],\n",
              " ['wasting'],\n",
              " ['eating'],\n",
              " ['going'],\n",
              " ['Coming'],\n",
              " ['experiencing'],\n",
              " ['underwhelming'],\n",
              " ['walked'],\n",
              " ['smelled'],\n",
              " ['eating'],\n",
              " ['raving'],\n",
              " ['tailored'],\n",
              " ['spring'],\n",
              " ['unsatisfying'],\n",
              " ['amazing'],\n",
              " ['Everything'],\n",
              " ['disappointing'],\n",
              " ['dining'],\n",
              " ['flirting'],\n",
              " ['arrived'],\n",
              " ['roasted'],\n",
              " ['added'],\n",
              " ['thing'],\n",
              " ['coming'],\n",
              " ['cooked'],\n",
              " ['red'],\n",
              " ['playing'],\n",
              " ['passed'],\n",
              " ['ordering'],\n",
              " ['arriving'],\n",
              " ['liked'],\n",
              " ['disappointing'],\n",
              " ['managed'],\n",
              " ['served'],\n",
              " ['preparing'],\n",
              " ['loving'],\n",
              " ['liking'],\n",
              " ['reviewing'],\n",
              " ['venturing'],\n",
              " ['overpriced'],\n",
              " ['med'],\n",
              " ['including'],\n",
              " ['during'],\n",
              " ['checked'],\n",
              " ['disappointed'],\n",
              " ['red'],\n",
              " ['decorated'],\n",
              " ['changing'],\n",
              " ['going'],\n",
              " ['considering'],\n",
              " ['served'],\n",
              " ['coming'],\n",
              " ['watched'],\n",
              " ['greeted'],\n",
              " ['seated'],\n",
              " ['waited'],\n",
              " ['flavored'],\n",
              " ['ordered'],\n",
              " ['going'],\n",
              " ['everything'],\n",
              " ['ordered'],\n",
              " ['relocated'],\n",
              " ['impressed'],\n",
              " ['seated'],\n",
              " ['immed'],\n",
              " ['priced'],\n",
              " ['looking'],\n",
              " ['treated'],\n",
              " ['ordered'],\n",
              " ['ingred'],\n",
              " ['dressing'],\n",
              " ['dining'],\n",
              " ['used'],\n",
              " ['handed'],\n",
              " ['listed'],\n",
              " ['missed'],\n",
              " ['Everything'],\n",
              " ['thrilled'],\n",
              " ['amazing'],\n",
              " ['judging'],\n",
              " ['inspired'],\n",
              " ['desired'],\n",
              " ['maintaining'],\n",
              " ['asking'],\n",
              " ['overcooked'],\n",
              " ['decided'],\n",
              " ['looked'],\n",
              " ['having'],\n",
              " ['dressed'],\n",
              " ['treated'],\n",
              " ['something'],\n",
              " ['lacking'],\n",
              " ['ordered'],\n",
              " ['incred'],\n",
              " ['sucked'],\n",
              " ['expected'],\n",
              " ['sucked'],\n",
              " ['imagined'],\n",
              " ['Interesting'],\n",
              " ['served'],\n",
              " ['preparing'],\n",
              " ['arrived'],\n",
              " ['missing'],\n",
              " ['wing'],\n",
              " ['feeling'],\n",
              " ['satisfied'],\n",
              " ['voted'],\n",
              " ['insulted'],\n",
              " ['disrespected'],\n",
              " ['thing'],\n",
              " ['exceeding'],\n",
              " ['dreamed'],\n",
              " ['inviting'],\n",
              " ['lived'],\n",
              " ['stepped'],\n",
              " ['mixed'],\n",
              " ['showed'],\n",
              " ['climbing'],\n",
              " ['waiting'],\n",
              " ['realized'],\n",
              " ['coming'],\n",
              " ['loved'],\n",
              " ['according'],\n",
              " ['being'],\n",
              " ['lacking'],\n",
              " ['needed'],\n",
              " ['going'],\n",
              " ['loved'],\n",
              " ['wrapped'],\n",
              " ['uninspired'],\n",
              " ['amazing'],\n",
              " ['dealing'],\n",
              " ['annoying'],\n",
              " ['Ordered'],\n",
              " ['sing'],\n",
              " ['falling'],\n",
              " ['uploaded'],\n",
              " ['sporting'],\n",
              " ['covered'],\n",
              " ['supposed'],\n",
              " ['amazing'],\n",
              " ['rolled'],\n",
              " ['stayed'],\n",
              " ['providing'],\n",
              " ['building'],\n",
              " ['lighting'],\n",
              " ['Based'],\n",
              " ['received'],\n",
              " ['going'],\n",
              " ['nothing'],\n",
              " ['privileged'],\n",
              " ['working'],\n",
              " ['eating'],\n",
              " ['dressing'],\n",
              " ['being'],\n",
              " ['charged'],\n",
              " ['visited'],\n",
              " ['proclaimed'],\n",
              " ['disappointed'],\n",
              " ['Stopped'],\n",
              " ['dedicated'],\n",
              " ['liked'],\n",
              " ['outstanding'],\n",
              " ['getting'],\n",
              " ['disappointed'],\n",
              " ['waited'],\n",
              " ['waited'],\n",
              " ['wing'],\n",
              " ['Thing'],\n",
              " ['burned'],\n",
              " ['waited'],\n",
              " ['amazing'],\n",
              " ['disappointed'],\n",
              " ['Waited'],\n",
              " ['incred'],\n",
              " ['disappointed'],\n",
              " ['pulled'],\n",
              " ['incred'],\n",
              " ['prepared'],\n",
              " ['rating'],\n",
              " ['eating'],\n",
              " ['writing'],\n",
              " ['everything'],\n",
              " ['dining'],\n",
              " ['fried'],\n",
              " ['boring'],\n",
              " ['greed'],\n",
              " ['passed'],\n",
              " ['charming'],\n",
              " ['ordered'],\n",
              " ['toasted'],\n",
              " ['untoasted'],\n",
              " ['going'],\n",
              " ['figured'],\n",
              " ['making'],\n",
              " ['pricing'],\n",
              " ['considering'],\n",
              " ['returned'],\n",
              " ['amazing'],\n",
              " ['eyed'],\n",
              " ['disappointed'],\n",
              " ['immed'],\n",
              " ['pleased'],\n",
              " ['Everything'],\n",
              " ['replenished'],\n",
              " ['disappointed'],\n",
              " ['nothing'],\n",
              " ['nothing'],\n",
              " ['driving'],\n",
              " ['treated'],\n",
              " ['during'],\n",
              " ['evening'],\n",
              " ['offered'],\n",
              " ['Outstanding'],\n",
              " ['tasted'],\n",
              " ['buying'],\n",
              " ['handling'],\n",
              " ['wasting'],\n",
              " ['craving'],\n",
              " ['dropped'],\n",
              " ['dining'],\n",
              " ['decorated'],\n",
              " ['med'],\n",
              " ['interesting'],\n",
              " ['amazing'],\n",
              " ['being'],\n",
              " ['served'],\n",
              " ['outshining'],\n",
              " ['starving'],\n",
              " ['coming'],\n",
              " ['walked'],\n",
              " ['stuffed'],\n",
              " ['considering'],\n",
              " ['located'],\n",
              " ['shopping'],\n",
              " ['incred'],\n",
              " ['nothing'],\n",
              " ['bring'],\n",
              " ['Cooked'],\n",
              " ['disappointed'],\n",
              " ['getting'],\n",
              " ['screwed'],\n",
              " ['frustrated'],\n",
              " ['iced'],\n",
              " ['stuffed'],\n",
              " ['disappointed'],\n",
              " ['trying'],\n",
              " ['grossed'],\n",
              " ['enjoyed'],\n",
              " ['eating'],\n",
              " ['going'],\n",
              " ['looked'],\n",
              " ['overwhelmed'],\n",
              " ['need'],\n",
              " ['stayed'],\n",
              " ['everything'],\n",
              " ['smeared'],\n",
              " ['stepped'],\n",
              " ['tracked'],\n",
              " ['tried'],\n",
              " ['rushed'],\n",
              " ['loved'],\n",
              " ['Ordered'],\n",
              " ['Nothing'],\n",
              " ['cooked'],\n",
              " ['going'],\n",
              " ['insulted'],\n",
              " ['wing'],\n",
              " ['contained'],\n",
              " ['enjoyed'],\n",
              " ['relaxed'],\n",
              " ['loved'],\n",
              " ['outstanding'],\n",
              " ['running'],\n",
              " ['acknowledged'],\n",
              " ['forgetting'],\n",
              " ['thing'],\n",
              " ['upgrading'],\n",
              " ['trimmed'],\n",
              " ['cooked'],\n",
              " ['claimed'],\n",
              " ['handled'],\n",
              " ['asked'],\n",
              " ['eating'],\n",
              " ['bring'],\n",
              " ['hoping'],\n",
              " ['living'],\n",
              " ['limited'],\n",
              " ['boiled'],\n",
              " ['dining'],\n",
              " ['liked'],\n",
              " ['sliced'],\n",
              " ['attached'],\n",
              " ['humiliated'],\n",
              " ['calling'],\n",
              " ['filling'],\n",
              " ['traged'],\n",
              " ['fried'],\n",
              " ['amazing'],\n",
              " ['thing'],\n",
              " ['incred'],\n",
              " ['impressed'],\n",
              " ['disappointed'],\n",
              " ['priced'],\n",
              " ['Everything'],\n",
              " ['fing'],\n",
              " ['disappointed'],\n",
              " ['thing'],\n",
              " ['amazing'],\n",
              " ['need'],\n",
              " ['Everything'],\n",
              " ['interesting'],\n",
              " ['need'],\n",
              " ['experienced'],\n",
              " ['amazing'],\n",
              " ['amazing'],\n",
              " ['waited'],\n",
              " ['seated'],\n",
              " ['waiting'],\n",
              " ['going'],\n",
              " ['going'],\n",
              " ['dining'],\n",
              " ['decided'],\n",
              " ['pleased'],\n",
              " ['saving'],\n",
              " ['something'],\n",
              " ['trying'],\n",
              " ['disgusting'],\n",
              " ['hankering'],\n",
              " ['recommended'],\n",
              " ['being'],\n",
              " ['helped'],\n",
              " ['need'],\n",
              " ['witnessed'],\n",
              " ['Waited'],\n",
              " ['waited'],\n",
              " ['waited'],\n",
              " ['checked'],\n",
              " ['tasted'],\n",
              " ['disappointed'],\n",
              " ['being'],\n",
              " ['served'],\n",
              " ['rated'],\n",
              " ['recommended'],\n",
              " ['pulled'],\n",
              " ['waited'],\n",
              " ['being'],\n",
              " ['acknowledged'],\n",
              " ['setting'],\n",
              " ['thing'],\n",
              " ['perpared'],\n",
              " ['dusted'],\n",
              " ['powdered'],\n",
              " ['wing'],\n",
              " ['enjoyed'],\n",
              " ['expanded'],\n",
              " ['sitting'],\n",
              " ['ended'],\n",
              " ['waiting'],\n",
              " ['arrived'],\n",
              " ['satisfying'],\n",
              " ['wanted'],\n",
              " ['disappointed'],\n",
              " ['eating'],\n",
              " ['need'],\n",
              " ['being'],\n",
              " ['freaking'],\n",
              " ['checked'],\n",
              " ['impressed'],\n",
              " ['reheated'],\n",
              " ['wed'],\n",
              " ['getting'],\n",
              " ['amazing'],\n",
              " ['tasted'],\n",
              " ['disappointing'],\n",
              " ['grilled'],\n",
              " ['seasoning'],\n",
              " ['going'],\n",
              " ['focused'],\n",
              " ['roasted'],\n",
              " ['asked'],\n",
              " ['being'],\n",
              " ['ignored'],\n",
              " ['bring'],\n",
              " ['letting'],\n",
              " ['tasted'],\n",
              " ['evening'],\n",
              " ['Ordered'],\n",
              " ['greeted'],\n",
              " ['seated'],\n",
              " ['Tried'],\n",
              " ['waiting'],\n",
              " ['being'],\n",
              " ['seated'],\n",
              " ['eating'],\n",
              " ['going'],\n",
              " ['Disappointed'],\n",
              " ['ordered'],\n",
              " ['constructed'],\n",
              " ['seating'],\n",
              " ['fried'],\n",
              " ['playing'],\n",
              " ['requested'],\n",
              " ['amazing'],\n",
              " ['staying'],\n",
              " ['ring'],\n",
              " ['used'],\n",
              " ['med'],\n",
              " ['tasted'],\n",
              " ['giving'],\n",
              " ['talking'],\n",
              " ['amazing'],\n",
              " ['drenched'],\n",
              " ['amazing'],\n",
              " ['amazing'],\n",
              " ['tried'],\n",
              " ['walked'],\n",
              " ['expected'],\n",
              " ['amazing'],\n",
              " ['disappointed'],\n",
              " ['mortified'],\n",
              " ['Need'],\n",
              " ['filling'],\n",
              " ['dripping'],\n",
              " ['impressed'],\n",
              " ['going'],\n",
              " ['serving'],\n",
              " ['refrained'],\n",
              " ['recommending'],\n",
              " ['pleased'],\n",
              " ['thing'],\n",
              " ['reading'],\n",
              " ['loved'],\n",
              " ['grilled'],\n",
              " ['reminded'],\n",
              " ['seating'],\n",
              " ['sucked'],\n",
              " ['hooked'],\n",
              " ['ordered'],\n",
              " ['going'],\n",
              " ['disappointed'],\n",
              " ['everything'],\n",
              " ['seasoned'],\n",
              " ['thing'],\n",
              " ['added'],\n",
              " ['sitting'],\n",
              " ['waiting'],\n",
              " ['bring'],\n",
              " ['revisiting'],\n",
              " ['coming'],\n",
              " ['touched'],\n",
              " ['speed'],\n",
              " ['anything'],\n",
              " ['fried'],\n",
              " ['opened'],\n",
              " ['impressed'],\n",
              " ['feeling'],\n",
              " ['during'],\n",
              " ['watched'],\n",
              " ['thing'],\n",
              " ['being'],\n",
              " ['Tasted'],\n",
              " ['amazing'],\n",
              " ['being'],\n",
              " ['amazing'],\n",
              " ['ordered'],\n",
              " ['satifying'],\n",
              " ['describing'],\n",
              " ['coming'],\n",
              " ['everything'],\n",
              " ['received'],\n",
              " ['Paying'],\n",
              " ['going'],\n",
              " ['Med'],\n",
              " ['impressed'],\n",
              " ['overcooked'],\n",
              " ['cooked'],\n",
              " ['sing'],\n",
              " ['needed'],\n",
              " ['served'],\n",
              " ['thing'],\n",
              " ['ordered'],\n",
              " ['amazing'],\n",
              " ['need'],\n",
              " ['overpriced'],\n",
              " ['packed'],\n",
              " ['getting'],\n",
              " ['opposed'],\n",
              " ['cramming'],\n",
              " ['priced'],\n",
              " ['surprised'],\n",
              " ['considering'],\n",
              " ['focused'],\n",
              " ['overpriced'],\n",
              " ['fucking'],\n",
              " ['tried'],\n",
              " ['enjoyed'],\n",
              " ['going'],\n",
              " ['qualified'],\n",
              " ['tasted'],\n",
              " ['hated'],\n",
              " ['appealing'],\n",
              " ['getting'],\n",
              " ['coming'],\n",
              " ['watched'],\n",
              " ['Everything'],\n",
              " ['fried'],\n",
              " ['dealing'],\n",
              " ['everything'],\n",
              " ['tried'],\n",
              " ['something'],\n",
              " ['during'],\n",
              " ['helped'],\n",
              " ['dining'],\n",
              " ['cooking'],\n",
              " ['dining'],\n",
              " ['started'],\n",
              " ['editing'],\n",
              " ['highlighted'],\n",
              " ['setting'],\n",
              " ['used'],\n",
              " ['amazing'],\n",
              " ['med'],\n",
              " ['enjoyed'],\n",
              " ['ordered'],\n",
              " ['tasted'],\n",
              " ['asked'],\n",
              " ['med'],\n",
              " ['refused'],\n",
              " ['warning'],\n",
              " ['tried'],\n",
              " ['Med'],\n",
              " ['rotating'],\n",
              " ['Pricing'],\n",
              " ['toasted'],\n",
              " ['satisfying'],\n",
              " ['anticipated'],\n",
              " ['disappointing'],\n",
              " ['amazing'],\n",
              " ['returning'],\n",
              " ['unexperienced'],\n",
              " ['running'],\n",
              " ['insulted'],\n",
              " ['disrespected'],\n",
              " ['being'],\n",
              " ['impressed'],\n",
              " ['thing'],\n",
              " ['puréed'],\n",
              " ['nothing'],\n",
              " ['poisoning'],\n",
              " ['thinking'],\n",
              " ['something'],\n",
              " ['Need'],\n",
              " ['going'],\n",
              " ['disgusting'],\n",
              " ['caring'],\n",
              " ['bring'],\n",
              " ['asked'],\n",
              " ['Disappointing'],\n",
              " ['med'],\n",
              " ['rated'],\n",
              " ['saying'],\n",
              " ['going'],\n",
              " ['lacked'],\n",
              " ['coming'],\n",
              " ['sliced'],\n",
              " ['pulled'],\n",
              " ['building'],\n",
              " ['seating'],\n",
              " ['undercooked'],\n",
              " ['dipping'],\n",
              " ['seemed'],\n",
              " ['watered'],\n",
              " ['lacked'],\n",
              " ['disappointed'],\n",
              " ['overpriced'],\n",
              " ['setting'],\n",
              " ['ensued'],\n",
              " ['anything'],\n",
              " ['bing'],\n",
              " ['drinking'],\n",
              " ['serving'],\n",
              " ['disappointed'],\n",
              " ['need'],\n",
              " ['placed'],\n",
              " ['avoided'],\n",
              " ['received'],\n",
              " ['immed'],\n",
              " ['wanted'],\n",
              " ['doing'],\n",
              " ['sucked'],\n",
              " ['happened'],\n",
              " ['putting'],\n",
              " ['owned'],\n",
              " ['wanted'],\n",
              " ['Overpriced'],\n",
              " ['getting'],\n",
              " ['vomited'],\n",
              " ['looking'],\n",
              " ['started'],\n",
              " ['coming'],\n",
              " ['unwrapped'],\n",
              " ['lacked'],\n",
              " ['seemed'],\n",
              " ['undercooked'],\n",
              " ['closed'],\n",
              " ['staying'],\n",
              " ['refried'],\n",
              " ['dried'],\n",
              " ['disappointed'],\n",
              " ['lacking'],\n",
              " ['impressed'],\n",
              " ['underwhelming'],\n",
              " ['wasted'],\n",
              " ['poured'],\n",
              " ['drawing'],\n",
              " ['bring']]"
            ]
          },
          "metadata": {},
          "execution_count": 50
        }
      ]
    },
    {
      "cell_type": "code",
      "source": [
        "print (\"Se encontraron\",len(searched_items), \"palabras\")"
      ],
      "metadata": {
        "colab": {
          "base_uri": "https://localhost:8080/"
        },
        "id": "e2D7HSDGsQcQ",
        "outputId": "e88f1055-89e2-423d-a340-bf7d35b930fc"
      },
      "execution_count": 51,
      "outputs": [
        {
          "output_type": "stream",
          "name": "stdout",
          "text": [
            "Se encontraron 663 palabras\n"
          ]
        }
      ]
    },
    {
      "cell_type": "markdown",
      "source": [
        "#**Parte 3. Proceso de limpieza.**"
      ],
      "metadata": {
        "id": "70StdqAZa9E9"
      }
    },
    {
      "cell_type": "markdown",
      "source": [
        "*   **Pregunta 13.**  \n",
        "\n",
        "Ahora realiza un proceso de limpieza del corpus que incluya los siguientes procesos:\n",
        "\n",
        "*   Solo se deben considerar caracteres alfabéticos. Es decir, se eliminan todos los signos de puntuación y caracteres especiales.\n",
        "*   Todos los caracteres alfabéticos se transforman a minúsculas.\n",
        "*   Se deben eliminar todos los espacios en blanco adicionales que se puedan encontrar en cada comentario.\n",
        "\n",
        "Al finalizar dicho proceso de limpieza, imprime el resultado de los primeros 10 comentarios resultantes. \n",
        "   \n",
        "\n",
        "\n"
      ],
      "metadata": {
        "id": "xaDUFXHrMvX2"
      }
    },
    {
      "cell_type": "code",
      "source": [
        "corpus_limpio=[]"
      ],
      "metadata": {
        "id": "kIzZARDbDgLQ"
      },
      "execution_count": 52,
      "outputs": []
    },
    {
      "cell_type": "code",
      "source": [
        "#\\w*(?:[A-Z]|[a-z])\\w* buscamos las palabras solo caracteres alfabeticos"
      ],
      "metadata": {
        "id": "CigTR6OWzbcA"
      },
      "execution_count": 53,
      "outputs": []
    },
    {
      "cell_type": "code",
      "source": [
        "for i in range(len(docs)):\n",
        "  corpus_limpio.append(re.findall(r\"\\w*(?:[A-Z]|[a-z])\\w*\",docs[i].lower()))\n",
        "    "
      ],
      "metadata": {
        "id": "zV7RfFDFzcir"
      },
      "execution_count": 54,
      "outputs": []
    },
    {
      "cell_type": "code",
      "source": [
        "corpus_limpio[0:10]"
      ],
      "metadata": {
        "id": "mYEDlHSFMyJN",
        "colab": {
          "base_uri": "https://localhost:8080/"
        },
        "outputId": "0de28b1a-72e4-4c4f-9bf8-e4ad1908ef7e"
      },
      "execution_count": 55,
      "outputs": [
        {
          "output_type": "execute_result",
          "data": {
            "text/plain": [
              "[['wow', 'loved', 'this', 'place'],\n",
              " ['crust', 'is', 'not', 'good'],\n",
              " ['not', 'tasty', 'and', 'the', 'texture', 'was', 'just', 'nasty'],\n",
              " ['stopped',\n",
              "  'by',\n",
              "  'during',\n",
              "  'the',\n",
              "  'late',\n",
              "  'may',\n",
              "  'bank',\n",
              "  'holiday',\n",
              "  'off',\n",
              "  'rick',\n",
              "  'steve',\n",
              "  'recommendation',\n",
              "  'and',\n",
              "  'loved',\n",
              "  'it'],\n",
              " ['the',\n",
              "  'selection',\n",
              "  'on',\n",
              "  'the',\n",
              "  'menu',\n",
              "  'was',\n",
              "  'great',\n",
              "  'and',\n",
              "  'so',\n",
              "  'were',\n",
              "  'the',\n",
              "  'prices'],\n",
              " ['now',\n",
              "  'i',\n",
              "  'am',\n",
              "  'getting',\n",
              "  'angry',\n",
              "  'and',\n",
              "  'i',\n",
              "  'want',\n",
              "  'my',\n",
              "  'damn',\n",
              "  'pho'],\n",
              " ['honeslty', 'it', 'didn', 't', 'taste', 'that', 'fresh'],\n",
              " ['the',\n",
              "  'potatoes',\n",
              "  'were',\n",
              "  'like',\n",
              "  'rubber',\n",
              "  'and',\n",
              "  'you',\n",
              "  'could',\n",
              "  'tell',\n",
              "  'they',\n",
              "  'had',\n",
              "  'been',\n",
              "  'made',\n",
              "  'up',\n",
              "  'ahead',\n",
              "  'of',\n",
              "  'time',\n",
              "  'being',\n",
              "  'kept',\n",
              "  'under',\n",
              "  'a',\n",
              "  'warmer'],\n",
              " ['the', 'fries', 'were', 'great', 'too'],\n",
              " ['a', 'great', 'touch']]"
            ]
          },
          "metadata": {},
          "execution_count": 55
        }
      ]
    },
    {
      "cell_type": "markdown",
      "source": [
        "*   **Pregunta 14.**  \n",
        "\n",
        "Con el resultado de la limpieza obtenido en la pregunta anterior, realiza ahora un proceso de tokenización por palabras del corpus. \n",
        "\n",
        "Es decir, al final de este proceso de tokenización, debes tener como resultado una lista de listas, donde cada comentario estará tokenizado por palabras.\n",
        "\n",
        "Al terminar calcula el total de tokens obtenido en todo el corpus. "
      ],
      "metadata": {
        "id": "WZwEhg2lUSAX"
      }
    },
    {
      "cell_type": "code",
      "source": [
        "lista_tokens=[]"
      ],
      "metadata": {
        "id": "alu_oQH-NZxv"
      },
      "execution_count": 56,
      "outputs": []
    },
    {
      "cell_type": "code",
      "source": [
        "for i in range(len(corpus_limpio)):\n",
        "    #enseguida contamos el numero de tokens/palabras \n",
        "    for j in range(len(corpus_limpio[i])):\n",
        "      lista_tokens.append(corpus_limpio[i][j])\n",
        "\n",
        "    "
      ],
      "metadata": {
        "id": "0arB4_SwNbDo"
      },
      "execution_count": 57,
      "outputs": []
    },
    {
      "cell_type": "code",
      "source": [
        "print (\"Se encontraron\",len(lista_tokens), \"tokens\")"
      ],
      "metadata": {
        "id": "kbAL9-v0V-jx",
        "colab": {
          "base_uri": "https://localhost:8080/"
        },
        "outputId": "df392a6e-aaa9-45e1-cfbc-0a65cc7e256b"
      },
      "execution_count": 58,
      "outputs": [
        {
          "output_type": "stream",
          "name": "stdout",
          "text": [
            "Se encontraron 11038 tokens\n"
          ]
        }
      ]
    },
    {
      "cell_type": "code",
      "source": [
        "lista_tokens [0:10]#vemos aqui los primeros 10"
      ],
      "metadata": {
        "id": "DZs_etmiV-fd",
        "colab": {
          "base_uri": "https://localhost:8080/"
        },
        "outputId": "cfbe8b0b-f1a2-4b32-c9e1-f3b7420c75e7"
      },
      "execution_count": 59,
      "outputs": [
        {
          "output_type": "execute_result",
          "data": {
            "text/plain": [
              "['wow', 'loved', 'this', 'place', 'crust', 'is', 'not', 'good', 'not', 'tasty']"
            ]
          },
          "metadata": {},
          "execution_count": 59
        }
      ]
    },
    {
      "cell_type": "markdown",
      "source": [
        "*   **Pregunta 15.**  \n",
        "\n",
        "Finalmente, en este ejercicio definiremos nuestro conjunto de palabras \"stopwords\", las cuales deberás eliminar de todo el corpus. \n",
        "\n",
        "Recuerda que ejemplos de stopwords son artículos, adverbios, conectivos, etcétera, que tienen frecuencias de aparición muy altas en cualquier documento, pero que no brindan mucho significado en cuanto al significado de un enunciado.\n",
        "\n",
        "Con base a la lista de stopwords que se te proporciona, realiza un proceso de limpieza eliminando todas estas palabras del corpus obtenido en el ejercicio anterior.\n",
        "\n",
        "Obtener cuántos tokens/palabras quedan finalmente en todo el corpus.\n",
        "\n",
        "Obtener cuántos de estos tokens/palabras son diferentes, es decir, cuántos tokens únicos tendrá lo que llamaremos más adelante nuestro vocabulario."
      ],
      "metadata": {
        "id": "EFeu0OJ7WDPD"
      }
    },
    {
      "cell_type": "code",
      "source": [
        "# Considera la siguiente lista como tu conjunto de stopwords:\n",
        "mis_stopwords = ['i', 'me', 'my', 'myself', 'we', 'our', 'ours', 'ourselves', 'you', 'your', 'yours', 'he', 'him', 'his', 'himself', 'she', 'her', 'hers', 'herself', 'it', 'its', 'itself', 'they', 'them', 'their', 'theirs', 'themselves', 'what', 'which', 'who', 'whom', 'this', 'that', 'these', 'those', 'am', 'is', 'are', 'was', 'were', 'be', 'been', 'being', 'have', 'has', 'had', 'having', 'do', 'does', 'did', 'doing', 'a', 'an', 'the', 'and', 'but', 'if', 'or', 'because', 'as', 'until', 'while', 'of', 'at', 'by', 'for', 'with', 'about', 'against', 'between', 'into', 'through', 'during', 'before', 'after', 'above', 'below', 'to', 'from', 'up', 'down', 'in', 'out', 'on', 'over', 'under', 'again', 'further', 'then', 'once', 'here', 'there', 'when', 'where', 'why', 'how', 'all', 'any', 'both', 'each', 'few', 'more', 'most', 'other', 'some', 'such', 'only', 'own', 'same', 'so', 'than', 'too', 'very', 's', 't', 'can', 'will', 'just', 'should', 'now', 'll']"
      ],
      "metadata": {
        "id": "6FP4FF3KXGxm"
      },
      "execution_count": 60,
      "outputs": []
    },
    {
      "cell_type": "code",
      "source": [
        "lista_tokens_clean=[]\n",
        "for x in lista_tokens:\n",
        "    if x not in mis_stopwords:\n",
        "      if not re.findall(r\"\\d\",x):\n",
        "        lista_tokens_clean.append(x)\n"
      ],
      "metadata": {
        "id": "jCEw--G0ZWQm"
      },
      "execution_count": 61,
      "outputs": []
    },
    {
      "cell_type": "code",
      "source": [
        "print (\"Finalmente quedan\",len(lista_tokens_clean), \"tokens\")"
      ],
      "metadata": {
        "colab": {
          "base_uri": "https://localhost:8080/"
        },
        "id": "AXncgVi74RdB",
        "outputId": "13b46917-d66b-44b4-ef50-affd48863f85"
      },
      "execution_count": 62,
      "outputs": [
        {
          "output_type": "stream",
          "name": "stdout",
          "text": [
            "Finalmente quedan 5779 tokens\n"
          ]
        }
      ]
    },
    {
      "cell_type": "code",
      "source": [
        "lista_tokens_clean"
      ],
      "metadata": {
        "id": "BaQq7QeErAA5",
        "colab": {
          "base_uri": "https://localhost:8080/"
        },
        "outputId": "1db2504e-c476-4fd5-f85b-c51f339660f2"
      },
      "execution_count": 63,
      "outputs": [
        {
          "output_type": "execute_result",
          "data": {
            "text/plain": [
              "['wow',\n",
              " 'loved',\n",
              " 'place',\n",
              " 'crust',\n",
              " 'not',\n",
              " 'good',\n",
              " 'not',\n",
              " 'tasty',\n",
              " 'texture',\n",
              " 'nasty',\n",
              " 'stopped',\n",
              " 'late',\n",
              " 'may',\n",
              " 'bank',\n",
              " 'holiday',\n",
              " 'off',\n",
              " 'rick',\n",
              " 'steve',\n",
              " 'recommendation',\n",
              " 'loved',\n",
              " 'selection',\n",
              " 'menu',\n",
              " 'great',\n",
              " 'prices',\n",
              " 'getting',\n",
              " 'angry',\n",
              " 'want',\n",
              " 'damn',\n",
              " 'pho',\n",
              " 'honeslty',\n",
              " 'didn',\n",
              " 'taste',\n",
              " 'fresh',\n",
              " 'potatoes',\n",
              " 'like',\n",
              " 'rubber',\n",
              " 'could',\n",
              " 'tell',\n",
              " 'made',\n",
              " 'ahead',\n",
              " 'time',\n",
              " 'kept',\n",
              " 'warmer',\n",
              " 'fries',\n",
              " 'great',\n",
              " 'great',\n",
              " 'touch',\n",
              " 'service',\n",
              " 'prompt',\n",
              " 'would',\n",
              " 'not',\n",
              " 'go',\n",
              " 'back',\n",
              " 'cashier',\n",
              " 'no',\n",
              " 'care',\n",
              " 'ever',\n",
              " 'say',\n",
              " 'still',\n",
              " 'ended',\n",
              " 'wayyy',\n",
              " 'overpriced',\n",
              " 'tried',\n",
              " 'cape',\n",
              " 'cod',\n",
              " 'ravoli',\n",
              " 'chicken',\n",
              " 'cranberry',\n",
              " 'mmmm',\n",
              " 'disgusted',\n",
              " 'pretty',\n",
              " 'sure',\n",
              " 'human',\n",
              " 'hair',\n",
              " 'shocked',\n",
              " 'no',\n",
              " 'signs',\n",
              " 'indicate',\n",
              " 'cash',\n",
              " 'highly',\n",
              " 'recommended',\n",
              " 'waitress',\n",
              " 'little',\n",
              " 'slow',\n",
              " 'service',\n",
              " 'place',\n",
              " 'not',\n",
              " 'worth',\n",
              " 'time',\n",
              " 'let',\n",
              " 'alone',\n",
              " 'vegas',\n",
              " 'not',\n",
              " 'like',\n",
              " 'burrittos',\n",
              " 'blah',\n",
              " 'food',\n",
              " 'amazing',\n",
              " 'service',\n",
              " 'also',\n",
              " 'cute',\n",
              " 'could',\n",
              " 'care',\n",
              " 'less',\n",
              " 'interior',\n",
              " 'beautiful',\n",
              " 'performed',\n",
              " 'right',\n",
              " 'red',\n",
              " 'velvet',\n",
              " 'cake',\n",
              " 'ohhh',\n",
              " 'stuff',\n",
              " 'good',\n",
              " 'never',\n",
              " 'brought',\n",
              " 'salad',\n",
              " 'asked',\n",
              " 'hole',\n",
              " 'wall',\n",
              " 'great',\n",
              " 'mexican',\n",
              " 'street',\n",
              " 'tacos',\n",
              " 'friendly',\n",
              " 'staff',\n",
              " 'took',\n",
              " 'hour',\n",
              " 'get',\n",
              " 'food',\n",
              " 'tables',\n",
              " 'restaurant',\n",
              " 'food',\n",
              " 'luke',\n",
              " 'warm',\n",
              " 'sever',\n",
              " 'running',\n",
              " 'around',\n",
              " 'like',\n",
              " 'totally',\n",
              " 'overwhelmed',\n",
              " 'worst',\n",
              " 'salmon',\n",
              " 'sashimi',\n",
              " 'also',\n",
              " 'combos',\n",
              " 'like',\n",
              " 'burger',\n",
              " 'fries',\n",
              " 'beer',\n",
              " 'decent',\n",
              " 'deal',\n",
              " 'like',\n",
              " 'final',\n",
              " 'blow',\n",
              " 'found',\n",
              " 'place',\n",
              " 'accident',\n",
              " 'could',\n",
              " 'not',\n",
              " 'happier',\n",
              " 'seems',\n",
              " 'like',\n",
              " 'good',\n",
              " 'quick',\n",
              " 'place',\n",
              " 'grab',\n",
              " 'bite',\n",
              " 'familiar',\n",
              " 'pub',\n",
              " 'food',\n",
              " 'yourself',\n",
              " 'favor',\n",
              " 'look',\n",
              " 'elsewhere',\n",
              " 'overall',\n",
              " 'like',\n",
              " 'place',\n",
              " 'lot',\n",
              " 'redeeming',\n",
              " 'quality',\n",
              " 'restaurant',\n",
              " 'inexpensive',\n",
              " 'ample',\n",
              " 'portions',\n",
              " 'good',\n",
              " 'prices',\n",
              " 'poor',\n",
              " 'service',\n",
              " 'waiter',\n",
              " 'made',\n",
              " 'feel',\n",
              " 'like',\n",
              " 'stupid',\n",
              " 'every',\n",
              " 'time',\n",
              " 'came',\n",
              " 'table',\n",
              " 'first',\n",
              " 'visit',\n",
              " 'hiro',\n",
              " 'delight',\n",
              " 'service',\n",
              " 'sucks',\n",
              " 'shrimp',\n",
              " 'tender',\n",
              " 'moist',\n",
              " 'not',\n",
              " 'deal',\n",
              " 'good',\n",
              " 'enough',\n",
              " 'would',\n",
              " 'drag',\n",
              " 'establishment',\n",
              " 'hard',\n",
              " 'judge',\n",
              " 'whether',\n",
              " 'sides',\n",
              " 'good',\n",
              " 'grossed',\n",
              " 'melted',\n",
              " 'styrofoam',\n",
              " 'didn',\n",
              " 'want',\n",
              " 'eat',\n",
              " 'fear',\n",
              " 'getting',\n",
              " 'sick',\n",
              " 'positive',\n",
              " 'note',\n",
              " 'server',\n",
              " 'attentive',\n",
              " 'provided',\n",
              " 'great',\n",
              " 'service',\n",
              " 'frozen',\n",
              " 'pucks',\n",
              " 'disgust',\n",
              " 'worst',\n",
              " 'people',\n",
              " 'behind',\n",
              " 'register',\n",
              " 'thing',\n",
              " 'like',\n",
              " 'prime',\n",
              " 'rib',\n",
              " 'dessert',\n",
              " 'section',\n",
              " 'bad',\n",
              " 'food',\n",
              " 'damn',\n",
              " 'generic',\n",
              " 'burger',\n",
              " 'good',\n",
              " 'beef',\n",
              " 'cooked',\n",
              " 'right',\n",
              " 'want',\n",
              " 'sandwich',\n",
              " 'go',\n",
              " 'firehouse',\n",
              " 'side',\n",
              " 'greek',\n",
              " 'salad',\n",
              " 'greek',\n",
              " 'dressing',\n",
              " 'tasty',\n",
              " 'pita',\n",
              " 'hummus',\n",
              " 'refreshing',\n",
              " 'ordered',\n",
              " 'duck',\n",
              " 'rare',\n",
              " 'pink',\n",
              " 'tender',\n",
              " 'inside',\n",
              " 'nice',\n",
              " 'char',\n",
              " 'outside',\n",
              " 'came',\n",
              " 'running',\n",
              " 'us',\n",
              " 'realized',\n",
              " 'husband',\n",
              " 'left',\n",
              " 'sunglasses',\n",
              " 'table',\n",
              " 'chow',\n",
              " 'mein',\n",
              " 'good',\n",
              " 'horrible',\n",
              " 'attitudes',\n",
              " 'towards',\n",
              " 'customers',\n",
              " 'talk',\n",
              " 'one',\n",
              " 'customers',\n",
              " 'don',\n",
              " 'enjoy',\n",
              " 'food',\n",
              " 'portion',\n",
              " 'huge',\n",
              " 'loved',\n",
              " 'friendly',\n",
              " 'servers',\n",
              " 'great',\n",
              " 'food',\n",
              " 'wonderful',\n",
              " 'imaginative',\n",
              " 'menu',\n",
              " 'heart',\n",
              " 'attack',\n",
              " 'grill',\n",
              " 'downtown',\n",
              " 'vegas',\n",
              " 'absolutely',\n",
              " 'flat',\n",
              " 'lined',\n",
              " 'excuse',\n",
              " 'restaurant',\n",
              " 'not',\n",
              " 'much',\n",
              " 'seafood',\n",
              " 'like',\n",
              " 'strings',\n",
              " 'pasta',\n",
              " 'bottom',\n",
              " 'salad',\n",
              " 'right',\n",
              " 'amount',\n",
              " 'sauce',\n",
              " 'not',\n",
              " 'power',\n",
              " 'scallop',\n",
              " 'perfectly',\n",
              " 'cooked',\n",
              " 'ripped',\n",
              " 'banana',\n",
              " 'not',\n",
              " 'ripped',\n",
              " 'petrified',\n",
              " 'tasteless',\n",
              " 'least',\n",
              " 'think',\n",
              " 'refill',\n",
              " 'water',\n",
              " 'struggle',\n",
              " 'wave',\n",
              " 'minutes',\n",
              " 'place',\n",
              " 'receives',\n",
              " 'stars',\n",
              " 'appetizers',\n",
              " 'cocktails',\n",
              " 'handmade',\n",
              " 'delicious',\n",
              " 'd',\n",
              " 'definitely',\n",
              " 'go',\n",
              " 'back',\n",
              " 'glad',\n",
              " 'found',\n",
              " 'place',\n",
              " 'great',\n",
              " 'food',\n",
              " 'service',\n",
              " 'huge',\n",
              " 'portions',\n",
              " 'give',\n",
              " 'military',\n",
              " 'discount',\n",
              " 'always',\n",
              " 'great',\n",
              " 'time',\n",
              " 'dos',\n",
              " 'gringos',\n",
              " 'update',\n",
              " 'went',\n",
              " 'back',\n",
              " 'second',\n",
              " 'time',\n",
              " 'still',\n",
              " 'amazing',\n",
              " 'got',\n",
              " 'food',\n",
              " 'apparently',\n",
              " 'never',\n",
              " 'heard',\n",
              " 'salt',\n",
              " 'batter',\n",
              " 'fish',\n",
              " 'chewy',\n",
              " 'great',\n",
              " 'way',\n",
              " 'finish',\n",
              " 'great',\n",
              " 'deal',\n",
              " 'included',\n",
              " 'tastings',\n",
              " 'drinks',\n",
              " 'jeff',\n",
              " 'went',\n",
              " 'beyond',\n",
              " 'expected',\n",
              " 'really',\n",
              " 'really',\n",
              " 'good',\n",
              " 'rice',\n",
              " 'time',\n",
              " 'service',\n",
              " 'meh',\n",
              " 'took',\n",
              " 'min',\n",
              " 'get',\n",
              " 'milkshake',\n",
              " 'nothing',\n",
              " 'chocolate',\n",
              " 'milk',\n",
              " 'guess',\n",
              " 'known',\n",
              " 'place',\n",
              " 'would',\n",
              " 'suck',\n",
              " 'inside',\n",
              " 'excalibur',\n",
              " 'didn',\n",
              " 'use',\n",
              " 'common',\n",
              " 'sense',\n",
              " 'scallop',\n",
              " 'dish',\n",
              " 'quite',\n",
              " 'appalling',\n",
              " 'value',\n",
              " 'well',\n",
              " 'times',\n",
              " 'bad',\n",
              " 'customer',\n",
              " 'service',\n",
              " 'sweet',\n",
              " 'potato',\n",
              " 'fries',\n",
              " 'good',\n",
              " 'seasoned',\n",
              " 'well',\n",
              " 'today',\n",
              " 'second',\n",
              " 'time',\n",
              " 've',\n",
              " 'lunch',\n",
              " 'buffet',\n",
              " 'pretty',\n",
              " 'good',\n",
              " 'much',\n",
              " 'good',\n",
              " 'food',\n",
              " 'vegas',\n",
              " 'feel',\n",
              " 'cheated',\n",
              " 'wasting',\n",
              " 'eating',\n",
              " 'opportunity',\n",
              " 'going',\n",
              " 'rice',\n",
              " 'company',\n",
              " 'coming',\n",
              " 'like',\n",
              " 'experiencing',\n",
              " 'underwhelming',\n",
              " 'relationship',\n",
              " 'parties',\n",
              " 'wait',\n",
              " 'person',\n",
              " 'ask',\n",
              " 'break',\n",
              " 'walked',\n",
              " 'place',\n",
              " 'smelled',\n",
              " 'like',\n",
              " 'old',\n",
              " 'grease',\n",
              " 'trap',\n",
              " 'others',\n",
              " 'eating',\n",
              " 'turkey',\n",
              " 'roast',\n",
              " 'beef',\n",
              " 'bland',\n",
              " 'place',\n",
              " 'pan',\n",
              " 'cakes',\n",
              " 'everyone',\n",
              " 'raving',\n",
              " 'taste',\n",
              " 'like',\n",
              " 'sugary',\n",
              " 'disaster',\n",
              " 'tailored',\n",
              " 'palate',\n",
              " 'six',\n",
              " 'year',\n",
              " 'old',\n",
              " 'love',\n",
              " 'pho',\n",
              " 'spring',\n",
              " 'rolls',\n",
              " 'oh',\n",
              " 'yummy',\n",
              " 'try',\n",
              " 'poor',\n",
              " 'batter',\n",
              " 'meat',\n",
              " 'ratio',\n",
              " 'made',\n",
              " 'chicken',\n",
              " 'tenders',\n",
              " 'unsatisfying',\n",
              " 'say',\n",
              " 'food',\n",
              " 'amazing',\n",
              " 'omelets',\n",
              " 'die',\n",
              " 'everything',\n",
              " 'fresh',\n",
              " 'delicious',\n",
              " 'summary',\n",
              " 'largely',\n",
              " 'disappointing',\n",
              " 'dining',\n",
              " 'experience',\n",
              " 'like',\n",
              " 'really',\n",
              " 'sexy',\n",
              " 'party',\n",
              " 'mouth',\n",
              " 're',\n",
              " 'outrageously',\n",
              " 'flirting',\n",
              " 'hottest',\n",
              " 'person',\n",
              " 'party',\n",
              " 'never',\n",
              " 'hard',\n",
              " 'rock',\n",
              " 'casino',\n",
              " 'never',\n",
              " 'ever',\n",
              " 'step',\n",
              " 'forward',\n",
              " 'best',\n",
              " 'breakfast',\n",
              " 'buffet',\n",
              " 'say',\n",
              " 'bye',\n",
              " 'bye',\n",
              " 'tip',\n",
              " 'lady',\n",
              " 'never',\n",
              " 'go',\n",
              " 'back',\n",
              " 'food',\n",
              " 'arrived',\n",
              " 'quickly',\n",
              " 'not',\n",
              " 'good',\n",
              " 'side',\n",
              " 'cafe',\n",
              " 'serves',\n",
              " 'really',\n",
              " 'good',\n",
              " 'food',\n",
              " 'server',\n",
              " 'fantastic',\n",
              " 'found',\n",
              " 'wife',\n",
              " 'loves',\n",
              " 'roasted',\n",
              " 'garlic',\n",
              " 'bone',\n",
              " 'marrow',\n",
              " 'added',\n",
              " 'extra',\n",
              " 'meal',\n",
              " 'another',\n",
              " 'marrow',\n",
              " 'go',\n",
              " 'good',\n",
              " 'thing',\n",
              " 'waiter',\n",
              " 'helpful',\n",
              " 'kept',\n",
              " 'bloddy',\n",
              " 'mary',\n",
              " 'coming',\n",
              " 'best',\n",
              " 'buffet',\n",
              " 'town',\n",
              " 'price',\n",
              " 'cannot',\n",
              " 'beat',\n",
              " 'loved',\n",
              " 'mussels',\n",
              " 'cooked',\n",
              " 'wine',\n",
              " 'reduction',\n",
              " 'duck',\n",
              " 'tender',\n",
              " 'potato',\n",
              " 'dishes',\n",
              " 'delicious',\n",
              " 'one',\n",
              " 'better',\n",
              " 'buffets',\n",
              " 'went',\n",
              " 'tigerlilly',\n",
              " 'fantastic',\n",
              " 'afternoon',\n",
              " 'food',\n",
              " 'delicious',\n",
              " 'bartender',\n",
              " 'attentive',\n",
              " 'personable',\n",
              " 'got',\n",
              " 'great',\n",
              " 'deal',\n",
              " 'ambience',\n",
              " 'wonderful',\n",
              " 'music',\n",
              " 'playing',\n",
              " 'go',\n",
              " 'back',\n",
              " 'next',\n",
              " 'trip',\n",
              " 'sooooo',\n",
              " 'good',\n",
              " 'real',\n",
              " 'sushi',\n",
              " 'lovers',\n",
              " 'let',\n",
              " 'honest',\n",
              " 'yama',\n",
              " 'not',\n",
              " 'good',\n",
              " 'least',\n",
              " 'passed',\n",
              " 'us',\n",
              " 'ordering',\n",
              " 'food',\n",
              " 'arriving',\n",
              " 'wasn',\n",
              " 'busy',\n",
              " 'really',\n",
              " 'fantastic',\n",
              " 'thai',\n",
              " 'restaurant',\n",
              " 'definitely',\n",
              " 'worth',\n",
              " 'visit',\n",
              " 'nice',\n",
              " 'spicy',\n",
              " 'tender',\n",
              " 'good',\n",
              " 'prices',\n",
              " 'check',\n",
              " 'pretty',\n",
              " 'gross',\n",
              " 've',\n",
              " 'better',\n",
              " 'atmosphere',\n",
              " 'kind',\n",
              " 'hard',\n",
              " 'mess',\n",
              " 'steak',\n",
              " 'although',\n",
              " 'much',\n",
              " 'liked',\n",
              " 'look',\n",
              " 'sound',\n",
              " 'place',\n",
              " 'actual',\n",
              " 'experience',\n",
              " 'bit',\n",
              " 'disappointing',\n",
              " 'don',\n",
              " 'know',\n",
              " 'place',\n",
              " 'managed',\n",
              " 'served',\n",
              " 'blandest',\n",
              " 'food',\n",
              " 'ever',\n",
              " 'eaten',\n",
              " 'preparing',\n",
              " 'indian',\n",
              " 'cuisine',\n",
              " 'worst',\n",
              " 'service',\n",
              " 'boot',\n",
              " 'least',\n",
              " 'worries',\n",
              " 'service',\n",
              " 'fine',\n",
              " 'waitress',\n",
              " 'friendly',\n",
              " 'guys',\n",
              " 'steaks',\n",
              " 'steak',\n",
              " 'loving',\n",
              " 'son',\n",
              " 'steak',\n",
              " 'best',\n",
              " 'worst',\n",
              " 'places',\n",
              " 'said',\n",
              " 'best',\n",
              " 'steak',\n",
              " 'ever',\n",
              " 'eaten',\n",
              " 'thought',\n",
              " 'd',\n",
              " 'venture',\n",
              " 'away',\n",
              " 'get',\n",
              " 'good',\n",
              " 'sushi',\n",
              " 'place',\n",
              " 'really',\n",
              " 'hit',\n",
              " 'spot',\n",
              " 'night',\n",
              " 'host',\n",
              " 'staff',\n",
              " 'lack',\n",
              " 'better',\n",
              " 'word',\n",
              " 'bitches',\n",
              " 'bland',\n",
              " 'not',\n",
              " 'liking',\n",
              " 'place',\n",
              " 'number',\n",
              " 'reasons',\n",
              " 'don',\n",
              " 'want',\n",
              " 'waste',\n",
              " 'time',\n",
              " 'bad',\n",
              " 'reviewing',\n",
              " 'leave',\n",
              " 'phenomenal',\n",
              " 'food',\n",
              " 'service',\n",
              " 'ambiance',\n",
              " 'wouldn',\n",
              " 'return',\n",
              " 'definitely',\n",
              " 'worth',\n",
              " 'venturing',\n",
              " 'off',\n",
              " 'strip',\n",
              " 'pork',\n",
              " 'belly',\n",
              " 'return',\n",
              " 'next',\n",
              " 'time',\n",
              " 'm',\n",
              " 'vegas',\n",
              " 'place',\n",
              " 'way',\n",
              " 'overpriced',\n",
              " 'mediocre',\n",
              " 'food',\n",
              " 'penne',\n",
              " 'vodka',\n",
              " 'excellent',\n",
              " 'good',\n",
              " 'selection',\n",
              " 'food',\n",
              " 'including',\n",
              " 'massive',\n",
              " 'meatloaf',\n",
              " 'sandwich',\n",
              " 'crispy',\n",
              " 'chicken',\n",
              " 'wrap',\n",
              " 'delish',\n",
              " 'tuna',\n",
              " 'melt',\n",
              " 'tasty',\n",
              " 'burgers',\n",
              " 'management',\n",
              " 'rude',\n",
              " 'delicious',\n",
              " 'nyc',\n",
              " 'bagels',\n",
              " 'good',\n",
              " 'selections',\n",
              " 'cream',\n",
              " 'cheese',\n",
              " 'real',\n",
              " 'lox',\n",
              " 'capers',\n",
              " 'even',\n",
              " 'great',\n",
              " 'subway',\n",
              " 'fact',\n",
              " 'good',\n",
              " 'come',\n",
              " 'every',\n",
              " 'subway',\n",
              " 'not',\n",
              " 'meet',\n",
              " 'expectations',\n",
              " 'seriously',\n",
              " 'solid',\n",
              " 'breakfast',\n",
              " 'one',\n",
              " 'best',\n",
              " 'bars',\n",
              " 'food',\n",
              " 'vegas',\n",
              " 'extremely',\n",
              " 'rude',\n",
              " 'really',\n",
              " 'many',\n",
              " 'restaurants',\n",
              " 'would',\n",
              " 'love',\n",
              " 'dine',\n",
              " 'weekend',\n",
              " 'vegas',\n",
              " 'drink',\n",
              " 'never',\n",
              " 'empty',\n",
              " 'made',\n",
              " 'really',\n",
              " 'great',\n",
              " 'menu',\n",
              " 'suggestions',\n",
              " 'don',\n",
              " 'waiter',\n",
              " 'wasn',\n",
              " 'helpful',\n",
              " 'friendly',\n",
              " 'rarely',\n",
              " 'checked',\n",
              " 'us',\n",
              " 'husband',\n",
              " 'ate',\n",
              " 'lunch',\n",
              " 'disappointed',\n",
              " 'food',\n",
              " 'service',\n",
              " 'red',\n",
              " 'curry',\n",
              " 'much',\n",
              " 'bamboo',\n",
              " 'shoots',\n",
              " 'wasn',\n",
              " 'tasty',\n",
              " 'nice',\n",
              " 'blanket',\n",
              " 'moz',\n",
              " 'top',\n",
              " 'feel',\n",
              " 'like',\n",
              " 'done',\n",
              " 'cover',\n",
              " 'subpar',\n",
              " 'food',\n",
              " 'bathrooms',\n",
              " 'clean',\n",
              " 'place',\n",
              " 'well',\n",
              " 'decorated',\n",
              " 'menu',\n",
              " 'always',\n",
              " 'changing',\n",
              " 'food',\n",
              " 'quality',\n",
              " 'going',\n",
              " 'service',\n",
              " 'extremely',\n",
              " 'slow',\n",
              " 'service',\n",
              " 'little',\n",
              " 'slow',\n",
              " 'considering',\n",
              " 'served',\n",
              " 'people',\n",
              " 'servers',\n",
              " 'food',\n",
              " 'coming',\n",
              " 'slow',\n",
              " 'pace',\n",
              " 'give',\n",
              " 'thumbs',\n",
              " 'watched',\n",
              " 'waiter',\n",
              " 'pay',\n",
              " 'lot',\n",
              " 'attention',\n",
              " 'tables',\n",
              " 'ignore',\n",
              " 'us',\n",
              " 'fiancé',\n",
              " 'came',\n",
              " 'middle',\n",
              " 'day',\n",
              " 'greeted',\n",
              " 'seated',\n",
              " 'right',\n",
              " 'away',\n",
              " 'great',\n",
              " 'restaurant',\n",
              " 'mandalay',\n",
              " 'bay',\n",
              " 'waited',\n",
              " 'forty',\n",
              " 'five',\n",
              " 'minutes',\n",
              " 'vain',\n",
              " 'crostini',\n",
              " 'came',\n",
              " 'salad',\n",
              " 'stale',\n",
              " 'highlights',\n",
              " 'great',\n",
              " 'quality',\n",
              " 'nigiri',\n",
              " 'staff',\n",
              " 'friendly',\n",
              " 'joint',\n",
              " 'always',\n",
              " 'clean',\n",
              " 'different',\n",
              " 'cut',\n",
              " 'piece',\n",
              " 'day',\n",
              " 'still',\n",
              " 'wonderful',\n",
              " 'tender',\n",
              " 'well',\n",
              " 'well',\n",
              " 'flavored',\n",
              " 'ordered',\n",
              " 'voodoo',\n",
              " 'pasta',\n",
              " 'first',\n",
              " 'time',\n",
              " 'd',\n",
              " 'really',\n",
              " 'excellent',\n",
              " 'pasta',\n",
              " 'since',\n",
              " 'going',\n",
              " 'gluten',\n",
              " 'free',\n",
              " 'several',\n",
              " 'years',\n",
              " 'ago',\n",
              " 'place',\n",
              " 'good',\n",
              " 'unfortunately',\n",
              " 'must',\n",
              " 'hit',\n",
              " 'bakery',\n",
              " 'leftover',\n",
              " 'day',\n",
              " 'everything',\n",
              " 'ordered',\n",
              " 'stale',\n",
              " 'came',\n",
              " 'back',\n",
              " 'today',\n",
              " 'since',\n",
              " 'relocated',\n",
              " 'still',\n",
              " 'not',\n",
              " 'impressed',\n",
              " 'seated',\n",
              " 'immediately',\n",
              " 'menu',\n",
              " 'diverse',\n",
              " 'reasonably',\n",
              " 'priced',\n",
              " 'avoid',\n",
              " 'cost',\n",
              " 'restaurant',\n",
              " 'always',\n",
              " 'full',\n",
              " 'never',\n",
              " 'wait',\n",
              " 'delicious',\n",
              " 'place',\n",
              " 'hands',\n",
              " 'one',\n",
              " 'best',\n",
              " 'places',\n",
              " 'eat',\n",
              " ...]"
            ]
          },
          "metadata": {},
          "execution_count": 63
        }
      ]
    },
    {
      "cell_type": "code",
      "source": [
        "Vocabulario=np.unique(lista_tokens_clean)#total de tokens/palabras unicas "
      ],
      "metadata": {
        "id": "nD6AXDQOq-io"
      },
      "execution_count": 64,
      "outputs": []
    },
    {
      "cell_type": "code",
      "source": [
        "print (\"Finalmente son\",len(Vocabulario), \"tokens unicos que comprenden el Vocabulario\")"
      ],
      "metadata": {
        "colab": {
          "base_uri": "https://localhost:8080/"
        },
        "id": "ES6U_3lw-AzO",
        "outputId": "ae842c3a-9ef8-4b67-c283-f8928386f39c"
      },
      "execution_count": 65,
      "outputs": [
        {
          "output_type": "stream",
          "name": "stdout",
          "text": [
            "Finalmente son 1907 tokens unicos que comprenden el Vocabulario\n"
          ]
        }
      ]
    },
    {
      "cell_type": "code",
      "source": [
        "Vocabulario[:100]# vemos aqui los primeros 100 de Vocabulario"
      ],
      "metadata": {
        "colab": {
          "base_uri": "https://localhost:8080/"
        },
        "id": "aJNMtFRT6baf",
        "outputId": "30095130-af97-43a6-b3a9-453bb84d216f"
      },
      "execution_count": 66,
      "outputs": [
        {
          "output_type": "execute_result",
          "data": {
            "text/plain": [
              "array(['absolute', 'absolutely', 'absolutley', 'accident',\n",
              "       'accommodations', 'accomodate', 'accordingly', 'accountant',\n",
              "       'ache', 'acknowledged', 'across', 'actual', 'actually', 'added',\n",
              "       'affordable', 'afternoon', 'ago', 'ahead', 'airline', 'airport',\n",
              "       'ala', 'albondigas', 'allergy', 'almonds', 'almost', 'alone',\n",
              "       'also', 'although', 'always', 'amazing', 'ambiance', 'ambience',\n",
              "       'amount', 'ample', 'andddd', 'angry', 'annoying', 'another',\n",
              "       'anticipated', 'anymore', 'anyone', 'anything', 'anytime',\n",
              "       'anyway', 'anyways', 'apart', 'apologize', 'apology', 'app',\n",
              "       'appalling', 'apparently', 'appealing', 'appetite', 'appetizer',\n",
              "       'appetizers', 'apple', 'approval', 'area', 'aren', 'arepas',\n",
              "       'aria', 'around', 'array', 'arrived', 'arrives', 'arriving',\n",
              "       'article', 'ask', 'asked', 'asking', 'assure', 'ate', 'atmosphere',\n",
              "       'atrocious', 'attached', 'attack', 'attention', 'attentive',\n",
              "       'attitudes', 'auju', 'authentic', 'average', 'avocado', 'avoid',\n",
              "       'avoided', 'away', 'awesome', 'awful', 'awkward', 'awkwardly',\n",
              "       'ayce', 'az', 'baba', 'baby', 'bachi', 'back', 'bacon', 'bad',\n",
              "       'bagels', 'bakery'], dtype='<U17')"
            ]
          },
          "metadata": {},
          "execution_count": 66
        }
      ]
    },
    {
      "cell_type": "markdown",
      "source": [
        "*   **Comentarios**\n",
        "\n",
        "Incluye finalmente tus comentarios de la actividad."
      ],
      "metadata": {
        "id": "NDbKkuxRbLoX"
      }
    },
    {
      "cell_type": "markdown",
      "source": [
        "<< incluye aquí tus comentarios >>"
      ],
      "metadata": {
        "id": "o7fzbvqVbUGr"
      }
    },
    {
      "cell_type": "markdown",
      "source": [
        "##**Fin de la Actividad de la semana 2.**"
      ],
      "metadata": {
        "id": "PHaKw_6Ldbaf"
      }
    }
  ]
}